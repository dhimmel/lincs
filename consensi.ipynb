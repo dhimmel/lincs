{
 "cells": [
  {
   "cell_type": "markdown",
   "metadata": {},
   "source": [
    "# Compute perturbagen signatures from gold signature consensi"
   ]
  },
  {
   "cell_type": "code",
   "execution_count": 1,
   "metadata": {
    "collapsed": false
   },
   "outputs": [],
   "source": [
    "import bz2\n",
    "import json\n",
    "\n",
    "import requests\n",
    "import pandas\n",
    "import sqlite3\n",
    "\n",
    "import l1000"
   ]
  },
  {
   "cell_type": "markdown",
   "metadata": {},
   "source": [
    "## Entrez Gene to Symbol mapping"
   ]
  },
  {
   "cell_type": "code",
   "execution_count": 2,
   "metadata": {
    "collapsed": false
   },
   "outputs": [],
   "source": [
    "# Read symbol to entrez_gene_id mapping\n",
    "url = 'https://github.com/dhimmel/entrez-gene/raw/a7362748a34211e5df6f2d185bb3246279760546/data/symbol-map.json'\n",
    "symbol_map = json.loads(requests.get(url).text)\n",
    "\n",
    "# Read dataframe of entrez gene records\n",
    "url = 'https://github.com/dhimmel/entrez-gene/raw/a7362748a34211e5df6f2d185bb3246279760546/data/genes-human.tsv'\n",
    "entrez_gene_df = pandas.read_table(url)\n",
    "renamer = {\n",
    "    'GeneID': 'entrez_gene_id',\n",
    "    'Symbol': 'symbol',\n",
    "    'type_of_gene': 'type_of_gene',\n",
    "    'description': 'description',\n",
    "}\n",
    "entrez_gene_df = entrez_gene_df.rename(columns=renamer)[list(renamer.values())]\n",
    "entrez_gene_df.entrez_gene_id = entrez_gene_df.entrez_gene_id.astype(str)"
   ]
  },
  {
   "cell_type": "markdown",
   "metadata": {},
   "source": [
    "## Read probe information"
   ]
  },
  {
   "cell_type": "code",
   "execution_count": 3,
   "metadata": {
    "collapsed": false
   },
   "outputs": [
    {
     "name": "stdout",
     "output_type": "stream",
     "text": [
      "('landmark genes', 978)\n",
      "('best inferred gene set size', 10638)\n"
     ]
    },
    {
     "data": {
      "text/html": [
       "<div>\n",
       "<table border=\"1\" class=\"dataframe\">\n",
       "  <thead>\n",
       "    <tr style=\"text-align: right;\">\n",
       "      <th></th>\n",
       "      <th>pr_id</th>\n",
       "      <th>pr_gene_id</th>\n",
       "      <th>pr_gene_symbol</th>\n",
       "      <th>pr_gene_title</th>\n",
       "      <th>is_lm</th>\n",
       "      <th>is_l1000</th>\n",
       "      <th>is_bing</th>\n",
       "      <th>pr_pool_id</th>\n",
       "    </tr>\n",
       "  </thead>\n",
       "  <tbody>\n",
       "    <tr>\n",
       "      <th>1831</th>\n",
       "      <td>218075_at</td>\n",
       "      <td>8086</td>\n",
       "      <td>AAAS</td>\n",
       "      <td>achalasia, adrenocortical insufficiency, alacr...</td>\n",
       "      <td>False</td>\n",
       "      <td>True</td>\n",
       "      <td>True</td>\n",
       "      <td>inferred</td>\n",
       "    </tr>\n",
       "    <tr>\n",
       "      <th>1833</th>\n",
       "      <td>218434_s_at</td>\n",
       "      <td>65985</td>\n",
       "      <td>AACS</td>\n",
       "      <td>acetoacetyl-CoA synthetase</td>\n",
       "      <td>False</td>\n",
       "      <td>True</td>\n",
       "      <td>True</td>\n",
       "      <td>inferred</td>\n",
       "    </tr>\n",
       "  </tbody>\n",
       "</table>\n",
       "</div>"
      ],
      "text/plain": [
       "            pr_id pr_gene_id pr_gene_symbol  \\\n",
       "1831    218075_at       8086           AAAS   \n",
       "1833  218434_s_at      65985           AACS   \n",
       "\n",
       "                                          pr_gene_title  is_lm is_l1000  \\\n",
       "1831  achalasia, adrenocortical insufficiency, alacr...  False     True   \n",
       "1833                         acetoacetyl-CoA synthetase  False     True   \n",
       "\n",
       "     is_bing pr_pool_id  \n",
       "1831    True   inferred  \n",
       "1833    True   inferred  "
      ]
     },
     "execution_count": 3,
     "metadata": {},
     "output_type": "execute_result"
    }
   ],
   "source": [
    "# construct probe_df\n",
    "probe_df = pandas.read_table('data/geneinfo/geneinfo.tsv.gz')\n",
    "probe_to_gene = dict(zip(probe_df.pr_id, probe_df.pr_gene_id))\n",
    "\n",
    "# Landmark probes\n",
    "landmark_probe_df = probe_df[probe_df.pr_pool_id.str.startswith('epsilon').fillna(False)]\n",
    "print('landmark genes', len(landmark_probe_df))\n",
    "\n",
    "# BIGS + Landmark probes\n",
    "probe_df = probe_df[probe_df.is_bing.fillna(False)]\n",
    "# If a gene is an epsilon landmark, do not include imputed probes\n",
    "probe_df.query(\"pr_gene_id not in @landmark_probe_df.pr_gene_id or pr_id in @landmark_probe_df.pr_id\")\n",
    "print('best inferred gene set size', len(probe_df))\n",
    "\n",
    "probe_df.head(2)"
   ]
  },
  {
   "cell_type": "code",
   "execution_count": 4,
   "metadata": {
    "collapsed": false
   },
   "outputs": [
    {
     "data": {
      "text/html": [
       "<div>\n",
       "<table border=\"1\" class=\"dataframe\">\n",
       "  <thead>\n",
       "    <tr style=\"text-align: right;\">\n",
       "      <th></th>\n",
       "      <th>entrez_gene_id</th>\n",
       "      <th>status</th>\n",
       "      <th>symbol</th>\n",
       "      <th>type_of_gene</th>\n",
       "      <th>description</th>\n",
       "    </tr>\n",
       "  </thead>\n",
       "  <tbody>\n",
       "    <tr>\n",
       "      <th>0</th>\n",
       "      <td>100</td>\n",
       "      <td>imputed</td>\n",
       "      <td>ADA</td>\n",
       "      <td>protein-coding</td>\n",
       "      <td>adenosine deaminase</td>\n",
       "    </tr>\n",
       "    <tr>\n",
       "      <th>1</th>\n",
       "      <td>1000</td>\n",
       "      <td>imputed</td>\n",
       "      <td>CDH2</td>\n",
       "      <td>protein-coding</td>\n",
       "      <td>cadherin 2, type 1, N-cadherin (neuronal)</td>\n",
       "    </tr>\n",
       "  </tbody>\n",
       "</table>\n",
       "</div>"
      ],
      "text/plain": [
       "  entrez_gene_id   status symbol    type_of_gene  \\\n",
       "0            100  imputed    ADA  protein-coding   \n",
       "1           1000  imputed   CDH2  protein-coding   \n",
       "\n",
       "                                 description  \n",
       "0                        adenosine deaminase  \n",
       "1  cadherin 2, type 1, N-cadherin (neuronal)  "
      ]
     },
     "execution_count": 4,
     "metadata": {},
     "output_type": "execute_result"
    }
   ],
   "source": [
    "# Create a dataset of the genes represented by probes\n",
    "gene_df = probe_df.groupby('pr_gene_id').apply(\n",
    "    lambda df: pandas.Series({'status': 'measured' if df.pr_pool_id.iloc[0].startswith('epsilon') else 'imputed'})\n",
    ")\n",
    "gene_df.index.name = 'entrez_gene_id'\n",
    "gene_df = gene_df.reset_index()\n",
    "gene_df = gene_df.merge(entrez_gene_df).sort_values('entrez_gene_id')\n",
    "gene_df.to_csv('data/consensi/genes.tsv', index=False, sep='\\t')\n",
    "gene_df.head(2)"
   ]
  },
  {
   "cell_type": "code",
   "execution_count": 5,
   "metadata": {
    "collapsed": false
   },
   "outputs": [
    {
     "data": {
      "text/plain": [
       "imputed     6489\n",
       "measured     978\n",
       "Name: status, dtype: int64"
      ]
     },
     "execution_count": 5,
     "metadata": {},
     "output_type": "execute_result"
    }
   ],
   "source": [
    "# Number of genes after converting from probe to gene\n",
    "gene_df.status.value_counts()"
   ]
  },
  {
   "cell_type": "code",
   "execution_count": 6,
   "metadata": {
    "collapsed": false
   },
   "outputs": [
    {
     "data": {
      "text/plain": [
       "inferred          9490\n",
       "epsilon|deltap     786\n",
       "epsilon            192\n",
       "deltap             165\n",
       "Name: pr_pool_id, dtype: int64"
      ]
     },
     "execution_count": 6,
     "metadata": {},
     "output_type": "execute_result"
    }
   ],
   "source": [
    "# Filter BING probes for valid entrez gene IDs\n",
    "probe_df = probe_df.query(\"pr_gene_id in @gene_df.entrez_gene_id\")\n",
    "\n",
    "# Probes in BING\n",
    "probe_df.pr_pool_id.value_counts()"
   ]
  },
  {
   "cell_type": "markdown",
   "metadata": {},
   "source": [
    "# Preparations"
   ]
  },
  {
   "cell_type": "code",
   "execution_count": 7,
   "metadata": {
    "collapsed": true
   },
   "outputs": [],
   "source": [
    "def run_consensi(sig_expr_df, pert_to_sigs, name):\n",
    "    \"\"\"Compute consensi signatures\"\"\"\n",
    "    pert_expr_df = l1000.get_consensus_signatures(sig_expr_df, pert_to_sigs, weighting_subset=landmark_probe_df.pr_id)\n",
    "    pert_expr_df = l1000.probes_to_genes(pert_expr_df, probe_to_gene)\n",
    "    pert_expr_df = pert_expr_df.transpose()\n",
    "    pert_expr_df.index.name = 'perturbagen'\n",
    "    print(pert_expr_df.shape)\n",
    "    path = 'data/consensi/consensi-{}.tsv.bz2'.format(name)\n",
    "    with bz2.BZ2File(path, 'w') as write_file:\n",
    "        pert_expr_df.reset_index().to_csv(write_file, sep='\\t', index=False, float_format='%.3f')\n",
    "    return pert_expr_df"
   ]
  },
  {
   "cell_type": "code",
   "execution_count": 8,
   "metadata": {
    "collapsed": false
   },
   "outputs": [],
   "source": [
    "# open database connection\n",
    "connection = sqlite3.connect('data/l1000.db')"
   ]
  },
  {
   "cell_type": "code",
   "execution_count": 9,
   "metadata": {
    "collapsed": true
   },
   "outputs": [],
   "source": [
    "query = \"SELECT sigs.sig_id FROM sigs WHERE sigs.is_gold = 1\"\n",
    "sigs = pandas.read_sql(query, connection).sig_id.tolist()\n",
    "\n",
    "# get probes and extract signatures\n",
    "probes = probe_df.pr_id.tolist()"
   ]
  },
  {
   "cell_type": "code",
   "execution_count": 10,
   "metadata": {
    "collapsed": false
   },
   "outputs": [],
   "source": [
    "import cmap.io.gct\n",
    "path = 'download/l1000_n1328098x22268.gctx'\n",
    "gct_object = cmap.io.gct.GCT(path)\n",
    "rids = gct_object.get_gctx_rid()\n",
    "cids = gct_object.get_gctx_cid()"
   ]
  },
  {
   "cell_type": "code",
   "execution_count": 11,
   "metadata": {
    "collapsed": false
   },
   "outputs": [
    {
     "data": {
      "text/plain": [
       "True"
      ]
     },
     "execution_count": 11,
     "metadata": {},
     "output_type": "execute_result"
    }
   ],
   "source": [
    "# Does l1000_n1328098x22268.gctx contain all the necessary probes\n",
    "set(probes) <= set(cids)"
   ]
  },
  {
   "cell_type": "code",
   "execution_count": 12,
   "metadata": {
    "collapsed": false
   },
   "outputs": [
    {
     "data": {
      "text/plain": [
       "False"
      ]
     },
     "execution_count": 12,
     "metadata": {},
     "output_type": "execute_result"
    }
   ],
   "source": [
    "# Does l1000_n1328098x22268.gctx contain all the necessary sigs\n",
    "set(sigs) <= set(rids)"
   ]
  },
  {
   "cell_type": "code",
   "execution_count": 13,
   "metadata": {
    "collapsed": false
   },
   "outputs": [
    {
     "data": {
      "text/plain": [
       "1328098"
      ]
     },
     "execution_count": 13,
     "metadata": {},
     "output_type": "execute_result"
    }
   ],
   "source": [
    "len(rids)"
   ]
  },
  {
   "cell_type": "code",
   "execution_count": 14,
   "metadata": {
    "collapsed": false
   },
   "outputs": [
    {
     "data": {
      "text/plain": [
       "240901"
      ]
     },
     "execution_count": 14,
     "metadata": {},
     "output_type": "execute_result"
    }
   ],
   "source": [
    "len(sigs)"
   ]
  },
  {
   "cell_type": "code",
   "execution_count": 15,
   "metadata": {
    "collapsed": false
   },
   "outputs": [
    {
     "data": {
      "text/plain": [
       "0"
      ]
     },
     "execution_count": 15,
     "metadata": {},
     "output_type": "execute_result"
    }
   ],
   "source": [
    "len(set(rids) & set(sigs))"
   ]
  },
  {
   "cell_type": "code",
   "execution_count": 16,
   "metadata": {
    "collapsed": false
   },
   "outputs": [
    {
     "data": {
      "text/plain": [
       "['CPC005_VCAP_6H_X1_F1B3_DUO52HI53LO:K06',\n",
       " 'CPC005_VCAP_6H_X2_F1B3_DUO52HI53LO:K06',\n",
       " 'CPC005_VCAP_6H_X4_B5_DUO52HI53LO:K06',\n",
       " 'CPC005_VCAP_6H_X5_B5_DUO52HI53LO:K06',\n",
       " 'CPC005_VCAP_6H_X1_F1B3_DUO52HI53LO:C19']"
      ]
     },
     "execution_count": 16,
     "metadata": {},
     "output_type": "execute_result"
    }
   ],
   "source": [
    "[x for x in rids if 'CPC005_VCAP_6H' in x][:5]"
   ]
  },
  {
   "cell_type": "code",
   "execution_count": 17,
   "metadata": {
    "collapsed": false
   },
   "outputs": [
    {
     "data": {
      "text/plain": [
       "[u'CPC005_VCAP_6H:BRD-A47494775-003-03-0:10',\n",
       " u'CPC005_VCAP_6H:BRD-A09925278-003-03-1:10',\n",
       " u'CPC005_VCAP_6H:BRD-A18419789-001-01-4:10',\n",
       " u'CPC005_VCAP_6H:BRD-A13133631-001-03-2:10',\n",
       " u'CPC005_VCAP_6H:BRD-A63998256-001-02-3:10']"
      ]
     },
     "execution_count": 17,
     "metadata": {},
     "output_type": "execute_result"
    }
   ],
   "source": [
    "[x for x in sigs if 'CPC005_VCAP_6H' in x][:5]"
   ]
  },
  {
   "cell_type": "markdown",
   "metadata": {},
   "source": [
    "# DO NOT CONTINUE WITHOUT RESOLVING IDENTIFIERS"
   ]
  },
  {
   "cell_type": "code",
   "execution_count": null,
   "metadata": {
    "collapsed": false
   },
   "outputs": [],
   "source": [
    "%%time\n",
    "\n",
    "# get all gold signatures\n",
    "query = \"SELECT sigs.sig_id FROM sigs WHERE sigs.is_gold = 1\"\n",
    "sigs = pandas.read_sql(query, connection).sig_id.tolist()\n",
    "\n",
    "# get probes and extract signatures\n",
    "probes = probe_df.pr_id.tolist()\n",
    "path = 'download/l1000_n1328098x22268.gctx'\n",
    "sig_expr_df = l1000.extract_from_gctx(path, probes, sigs)"
   ]
  },
  {
   "cell_type": "markdown",
   "metadata": {},
   "source": [
    "## drugbank consensi"
   ]
  },
  {
   "cell_type": "code",
   "execution_count": null,
   "metadata": {
    "collapsed": false
   },
   "outputs": [],
   "source": [
    "query = \"\"\"\n",
    "SELECT unichem.resource_id AS drugbank_id, perts.pert_id, sigs.sig_id, sigs.is_gold\n",
    "FROM unichem, perts, sigs\n",
    "WHERE unichem.resource = 'drugbank'\n",
    "AND unichem.pert_uid = perts.pert_uid\n",
    "AND sigs.pert_id = perts.pert_id\n",
    "\"\"\"\n",
    "sig_df = pandas.read_sql(query, connection)\n",
    "sig_df = sig_df.query(\"is_gold == 1\")"
   ]
  },
  {
   "cell_type": "code",
   "execution_count": null,
   "metadata": {
    "collapsed": false
   },
   "outputs": [],
   "source": [
    "%%time\n",
    "pert_to_sigs = {k: g['sig_id'].tolist() for k, g in sig_df.groupby('drugbank_id')}\n",
    "pert_expr_df = run_consensi(sig_expr_df, pert_to_sigs, name='drugbank')"
   ]
  },
  {
   "cell_type": "markdown",
   "metadata": {},
   "source": [
    "## knockdown consensi"
   ]
  },
  {
   "cell_type": "code",
   "execution_count": null,
   "metadata": {
    "collapsed": false
   },
   "outputs": [],
   "source": [
    "query = \"\"\"\n",
    "SELECT perts.pert_id, perts.pert_iname, perts.pert_type, sigs.sig_id\n",
    "FROM perts, sigs\n",
    "WHERE sigs.pert_id = perts.pert_id\n",
    "AND pert_type = 'trt_sh'\n",
    "AND sigs.is_gold = 1\n",
    "\"\"\"\n",
    "sig_df = pandas.read_sql(query, connection)\n",
    "sig_df['pertubation_entrez_gene_id'] = sig_df.pert_iname.map(symbol_map.get)\n",
    "sig_df.head(2)"
   ]
  },
  {
   "cell_type": "code",
   "execution_count": null,
   "metadata": {
    "collapsed": false
   },
   "outputs": [],
   "source": [
    "%%time\n",
    "# Condense to perturbagens\n",
    "pert_to_sigs = {int(k): g['sig_id'].tolist() for k, g in sig_df.groupby('pertubation_entrez_gene_id')}\n",
    "pert_expr_df = run_consensi(sig_expr_df, pert_to_sigs, name='knockdown')"
   ]
  },
  {
   "cell_type": "markdown",
   "metadata": {},
   "source": [
    "## overexpression consensi"
   ]
  },
  {
   "cell_type": "code",
   "execution_count": null,
   "metadata": {
    "collapsed": false
   },
   "outputs": [],
   "source": [
    "query = \"\"\"\n",
    "SELECT perts.pert_id, perts.pert_iname, perts.pert_type, sigs.sig_id\n",
    "FROM perts, sigs\n",
    "WHERE sigs.pert_id = perts.pert_id\n",
    "AND pert_type = 'trt_oe'\n",
    "AND sigs.is_gold = 1\n",
    "\"\"\"\n",
    "sig_df = pandas.read_sql(query, connection)\n",
    "sig_df['pertubation_entrez_gene_id'] = sig_df.pert_iname.map(symbol_map.get)\n",
    "sig_df.head(2)"
   ]
  },
  {
   "cell_type": "code",
   "execution_count": null,
   "metadata": {
    "collapsed": false
   },
   "outputs": [],
   "source": [
    "%%time\n",
    "# Condense to perturbagens\n",
    "pert_to_sigs = {int(k): g['sig_id'].tolist() for k, g in sig_df.groupby('pertubation_entrez_gene_id')}\n",
    "pert_expr_df = run_consensi(sig_expr_df, pert_to_sigs, name='overexpression')"
   ]
  },
  {
   "cell_type": "markdown",
   "metadata": {},
   "source": [
    "## consensi for all pert_ids"
   ]
  },
  {
   "cell_type": "code",
   "execution_count": null,
   "metadata": {
    "collapsed": false
   },
   "outputs": [],
   "source": [
    "query = \"\"\"\n",
    "SELECT perts.pert_id, perts.pert_iname, perts.pert_type, sigs.sig_id\n",
    "FROM perts, sigs\n",
    "WHERE sigs.pert_id = perts.pert_id\n",
    "AND sigs.is_gold = 1\n",
    "\"\"\"\n",
    "sig_df = pandas.read_sql(query, connection)\n",
    "sig_df.head(2)"
   ]
  },
  {
   "cell_type": "code",
   "execution_count": null,
   "metadata": {
    "collapsed": false
   },
   "outputs": [],
   "source": [
    "%%time\n",
    "# Condense to perturbagens\n",
    "pert_to_sigs = {k: g['sig_id'].tolist() for k, g in sig_df.groupby('pert_id')}\n",
    "pert_expr_df = run_consensi(sig_expr_df, pert_to_sigs, name='pert_id')"
   ]
  },
  {
   "cell_type": "code",
   "execution_count": null,
   "metadata": {
    "collapsed": false
   },
   "outputs": [],
   "source": [
    "pert_expr_df.head(2)"
   ]
  }
 ],
 "metadata": {
  "anaconda-cloud": {},
  "kernelspec": {
   "display_name": "Python [conda env:lincs]",
   "language": "python",
   "name": "conda-env-lincs-py"
  },
  "language_info": {
   "codemirror_mode": {
    "name": "ipython",
    "version": 2
   },
   "file_extension": ".py",
   "mimetype": "text/x-python",
   "name": "python",
   "nbconvert_exporter": "python",
   "pygments_lexer": "ipython2",
   "version": "2.7.10"
  }
 },
 "nbformat": 4,
 "nbformat_minor": 0
}

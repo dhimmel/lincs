{
 "cells": [
  {
   "cell_type": "markdown",
   "metadata": {},
   "source": [
    "# Compute perturbagen signatures from gold signature consensi"
   ]
  },
  {
   "cell_type": "code",
   "execution_count": null,
   "metadata": {
    "collapsed": false
   },
   "outputs": [],
   "source": [
    "import gzip\n",
    "\n",
    "import pandas\n",
    "import sqlite3\n",
    "\n",
    "import l1000"
   ]
  },
  {
   "cell_type": "markdown",
   "metadata": {},
   "source": [
    "## Read probe information"
   ]
  },
  {
   "cell_type": "code",
   "execution_count": null,
   "metadata": {
    "collapsed": false
   },
   "outputs": [],
   "source": [
    "# construct gene_df\n",
    "probe_df = pandas.read_table('data/geneinfo/geneinfo.tsv.gz')\n",
    "probe_to_gene = dict(zip(probe_df.pr_id, probe_df.pr_gene_id))\n",
    "probe_df = probe_df[probe_df.pr_pool_id.str.startswith('epsilon').fillna(False)]\n",
    "print(len(probe_df))\n",
    "probe_df.head(2)"
   ]
  },
  {
   "cell_type": "markdown",
   "metadata": {},
   "source": [
    "# Preparations"
   ]
  },
  {
   "cell_type": "code",
   "execution_count": null,
   "metadata": {
    "collapsed": true
   },
   "outputs": [],
   "source": [
    "def run_consensi(sig_expr_df, pert_to_sigs, name):\n",
    "    \"\"\"Compute consensi signatures\"\"\"\n",
    "    pert_expr_df = l1000.get_consensus_signatures(sig_expr_df, pert_to_sigs)\n",
    "    pert_expr_df = l1000.probes_to_genes(pert_expr_df, probe_to_gene)\n",
    "    pert_expr_df = pert_expr_df.transpose()\n",
    "    pert_expr_df.index.name = 'perturbagen'\n",
    "    print(pert_expr_df.shape)\n",
    "    path = 'data/consensi/consensi-{}.tsv.gz'.format(name)\n",
    "    with gzip.open(path, \"w\") as write_file:\n",
    "        pert_expr_df.reset_index().to_csv(write_file, sep='\\t', index=False, float_format='%.3f')\n",
    "    return pert_expr_df"
   ]
  },
  {
   "cell_type": "code",
   "execution_count": null,
   "metadata": {
    "collapsed": false
   },
   "outputs": [],
   "source": [
    "# open database connection\n",
    "connection = sqlite3.connect('data/l1000.db')"
   ]
  },
  {
   "cell_type": "code",
   "execution_count": null,
   "metadata": {
    "collapsed": false
   },
   "outputs": [],
   "source": [
    "# get all gold signatures\n",
    "query = \"SELECT sigs.sig_id FROM sigs WHERE sigs.is_gold = 1\"\n",
    "sigs = pandas.read_sql(query, connection).sig_id.tolist()\n",
    "\n",
    "# get all epsilon probes\n",
    "probes = probe_df.pr_id.tolist()\n",
    "\n",
    "# read expression values\n",
    "path = 'download/modzs.gctx'\n",
    "sig_expr_df = l1000.extract_from_gctx(path, probes, sigs)"
   ]
  },
  {
   "cell_type": "markdown",
   "metadata": {},
   "source": [
    "## consensi for all pert_ids"
   ]
  },
  {
   "cell_type": "code",
   "execution_count": null,
   "metadata": {
    "collapsed": false
   },
   "outputs": [],
   "source": [
    "query = \"\"\"\n",
    "SELECT perts.pert_id, perts.pert_iname, perts.pert_type, sigs.sig_id\n",
    "FROM perts, sigs\n",
    "WHERE sigs.pert_id = perts.pert_id\n",
    "AND sigs.is_gold = 1\n",
    "\"\"\"\n",
    "sig_df = pandas.read_sql(query, connection)\n",
    "sig_df.head(2)"
   ]
  },
  {
   "cell_type": "code",
   "execution_count": null,
   "metadata": {
    "collapsed": true
   },
   "outputs": [],
   "source": [
    "# Condense to perturbagens\n",
    "pert_to_sigs = {k: g['sig_id'].tolist() for k, g in sig_df.groupby('pert_id')}\n",
    "pert_expr_df = run_consensi(sig_expr_df, pert_to_sigs, name='all')\n",
    "pert_expr_df.head()"
   ]
  },
  {
   "cell_type": "markdown",
   "metadata": {},
   "source": [
    "## drugbank consensi"
   ]
  },
  {
   "cell_type": "code",
   "execution_count": null,
   "metadata": {
    "collapsed": false
   },
   "outputs": [],
   "source": [
    "query = \"\"\"\n",
    "SELECT unichem.resource_id AS drugbank_id, perts.pert_id, sigs.sig_id, sigs.is_gold\n",
    "FROM unichem, perts, sigs\n",
    "WHERE unichem.resource = 'drugbank'\n",
    "AND unichem.pert_uid = perts.pert_uid\n",
    "AND sigs.pert_id = perts.pert_id\n",
    "\"\"\"\n",
    "sig_df = pandas.read_sql(query, connection)\n",
    "sig_df = sig_df.query(\"is_gold == 1\")"
   ]
  },
  {
   "cell_type": "code",
   "execution_count": null,
   "metadata": {
    "collapsed": false
   },
   "outputs": [],
   "source": [
    "pert_to_sigs = {k: g['sig_id'].tolist() for k, g in sig_df.groupby('drugbank_id')}\n",
    "pert_expr_df = run_consensi(sig_expr_df, pert_to_sigs, name='drugbank')\n",
    "pert_expr_df.head()"
   ]
  },
  {
   "cell_type": "markdown",
   "metadata": {},
   "source": [
    "## knockdown consensi"
   ]
  },
  {
   "cell_type": "code",
   "execution_count": null,
   "metadata": {
    "collapsed": false
   },
   "outputs": [],
   "source": [
    "query = \"\"\"\n",
    "SELECT perts.pert_id, perts.pert_iname, perts.pert_type, sigs.sig_id\n",
    "FROM perts, sigs\n",
    "WHERE sigs.pert_id = perts.pert_id\n",
    "AND pert_type = 'trt_sh'\n",
    "AND sigs.is_gold = 1\n",
    "\"\"\"\n",
    "sig_df = pandas.read_sql(query, connection)\n",
    "sig_df.head(2)"
   ]
  },
  {
   "cell_type": "code",
   "execution_count": null,
   "metadata": {
    "collapsed": true
   },
   "outputs": [],
   "source": [
    "# Condense to perturbagens\n",
    "pert_to_sigs = {k: g['sig_id'].tolist() for k, g in sig_df.groupby('pert_iname')}\n",
    "pert_expr_df = run_consensi(sig_expr_df, pert_to_sigs, name='knockdown')\n",
    "pert_expr_df.head()"
   ]
  },
  {
   "cell_type": "markdown",
   "metadata": {},
   "source": [
    "## overexpression consensi"
   ]
  },
  {
   "cell_type": "code",
   "execution_count": null,
   "metadata": {
    "collapsed": false
   },
   "outputs": [],
   "source": [
    "query = \"\"\"\n",
    "SELECT perts.pert_id, perts.pert_iname, perts.pert_type, sigs.sig_id\n",
    "FROM perts, sigs\n",
    "WHERE sigs.pert_id = perts.pert_id\n",
    "AND pert_type = 'trt_oe'\n",
    "AND sigs.is_gold = 1\n",
    "\"\"\"\n",
    "sig_df = pandas.read_sql(query, connection)\n",
    "sig_df.head(2)"
   ]
  },
  {
   "cell_type": "code",
   "execution_count": null,
   "metadata": {
    "collapsed": false
   },
   "outputs": [],
   "source": [
    "# Condense to perturbagens\n",
    "pert_to_sigs = {k: g['sig_id'].tolist() for k, g in sig_df.groupby('pert_iname')}\n",
    "pert_expr_df = run_consensi(sig_expr_df, pert_to_sigs, name='overexpression')\n",
    "pert_expr_df.head()"
   ]
  }
 ],
 "metadata": {
  "kernelspec": {
   "display_name": "Python 2",
   "language": "python",
   "name": "python2"
  },
  "language_info": {
   "codemirror_mode": {
    "name": "ipython",
    "version": 2
   },
   "file_extension": ".py",
   "mimetype": "text/x-python",
   "name": "python",
   "nbconvert_exporter": "python",
   "pygments_lexer": "ipython2",
   "version": "2.7.10"
  }
 },
 "nbformat": 4,
 "nbformat_minor": 0
}

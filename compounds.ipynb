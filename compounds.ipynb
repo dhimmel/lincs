{
 "cells": [
  {
   "cell_type": "code",
   "execution_count": 1,
   "metadata": {
    "collapsed": false
   },
   "outputs": [],
   "source": [
    "import collections\n",
    "import gzip\n",
    "import time\n",
    "\n",
    "import pandas\n",
    "import numpy\n",
    "import sqlite3\n",
    "\n",
    "import unichem"
   ]
  },
  {
   "cell_type": "code",
   "execution_count": 2,
   "metadata": {
    "collapsed": false
   },
   "outputs": [],
   "source": [
    "connection = sqlite3.connect('file:data/l1000.db', uri=True)\n",
    "cursor = connection.cursor()"
   ]
  },
  {
   "cell_type": "code",
   "execution_count": null,
   "metadata": {
    "collapsed": true
   },
   "outputs": [],
   "source": []
  },
  {
   "cell_type": "code",
   "execution_count": 3,
   "metadata": {
    "collapsed": false
   },
   "outputs": [],
   "source": [
    "query = \"\"\"\n",
    "SELECT * FROM perts\n",
    "WHERE pert_type == 'trt_cp'\n",
    "AND inchi_string NOTNULL\n",
    "ORDER BY inchi_key;\n",
    "\"\"\"\n",
    "pert_df = pandas.read_sql(query, connection).head()"
   ]
  },
  {
   "cell_type": "code",
   "execution_count": 4,
   "metadata": {
    "collapsed": false
   },
   "outputs": [
    {
     "data": {
      "text/html": [
       "<div style=\"max-height:1000px;max-width:1500px;overflow:auto;\">\n",
       "<table border=\"1\" class=\"dataframe\">\n",
       "  <thead>\n",
       "    <tr style=\"text-align: right;\">\n",
       "      <th></th>\n",
       "      <th>pert_uid</th>\n",
       "      <th>pert_id</th>\n",
       "      <th>pert_iname</th>\n",
       "      <th>pert_type</th>\n",
       "      <th>num_gold</th>\n",
       "      <th>num_inst</th>\n",
       "      <th>num_sig</th>\n",
       "      <th>in_summly</th>\n",
       "      <th>inchi_string</th>\n",
       "      <th>inchi_key</th>\n",
       "      <th>pubchem_cid</th>\n",
       "    </tr>\n",
       "  </thead>\n",
       "  <tbody>\n",
       "    <tr>\n",
       "      <th>0</th>\n",
       "      <td>39929</td>\n",
       "      <td>BRD-K13087974</td>\n",
       "      <td>4,5-dianilinophthalimide</td>\n",
       "      <td>trt_cp</td>\n",
       "      <td>13</td>\n",
       "      <td>65</td>\n",
       "      <td>18</td>\n",
       "      <td>1</td>\n",
       "      <td>InChI=1S/C20H15N3O2/c24-19-15-11-17(21-13-7-3-...</td>\n",
       "      <td>AAALVYBICLMAMA-UHFFFAOYSA-N</td>\n",
       "      <td>1697</td>\n",
       "    </tr>\n",
       "    <tr>\n",
       "      <th>1</th>\n",
       "      <td>9777</td>\n",
       "      <td>BRD-K03568209</td>\n",
       "      <td>MW-STK33-4C</td>\n",
       "      <td>trt_cp</td>\n",
       "      <td>14</td>\n",
       "      <td>120</td>\n",
       "      <td>32</td>\n",
       "      <td>1</td>\n",
       "      <td>InChI=1S/C12H11NO3/c14-7-3-4-10-9(6-7)8-2-1-5-...</td>\n",
       "      <td>AACFPJSJOWQNBN-UHFFFAOYSA-N</td>\n",
       "      <td>755673</td>\n",
       "    </tr>\n",
       "    <tr>\n",
       "      <th>2</th>\n",
       "      <td>2195</td>\n",
       "      <td>BRD-K50417881</td>\n",
       "      <td>eticlopride</td>\n",
       "      <td>trt_cp</td>\n",
       "      <td>4</td>\n",
       "      <td>64</td>\n",
       "      <td>19</td>\n",
       "      <td>0</td>\n",
       "      <td>InChI=1S/C17H25ClN2O3/c1-4-11-9-13(18)16(23-3)...</td>\n",
       "      <td>AADCDMQTJNYOSS-LBPRGKRZSA-N</td>\n",
       "      <td>6917728</td>\n",
       "    </tr>\n",
       "    <tr>\n",
       "      <th>3</th>\n",
       "      <td>47318</td>\n",
       "      <td>BRD-K70633610</td>\n",
       "      <td>BRD-K70633610</td>\n",
       "      <td>trt_cp</td>\n",
       "      <td>0</td>\n",
       "      <td>8</td>\n",
       "      <td>3</td>\n",
       "      <td>0</td>\n",
       "      <td>InChI=1S/C22H36N4O4/c1-14(2)23-22(28)24-17-8-9...</td>\n",
       "      <td>AADVJQLQUVDEBP-GQIGUUNPSA-N</td>\n",
       "      <td>54631316</td>\n",
       "    </tr>\n",
       "    <tr>\n",
       "      <th>4</th>\n",
       "      <td>50497</td>\n",
       "      <td>BRD-K95549765</td>\n",
       "      <td>BRD-K95549765</td>\n",
       "      <td>trt_cp</td>\n",
       "      <td>2</td>\n",
       "      <td>8</td>\n",
       "      <td>3</td>\n",
       "      <td>0</td>\n",
       "      <td>InChI=1S/C22H36N4O4/c1-14(2)23-22(28)24-17-8-9...</td>\n",
       "      <td>AADVJQLQUVDEBP-GUXCAODWSA-N</td>\n",
       "      <td>54631309</td>\n",
       "    </tr>\n",
       "  </tbody>\n",
       "</table>\n",
       "</div>"
      ],
      "text/plain": [
       "   pert_uid        pert_id                pert_iname pert_type  num_gold  \\\n",
       "0     39929  BRD-K13087974  4,5-dianilinophthalimide    trt_cp        13   \n",
       "1      9777  BRD-K03568209               MW-STK33-4C    trt_cp        14   \n",
       "2      2195  BRD-K50417881               eticlopride    trt_cp         4   \n",
       "3     47318  BRD-K70633610             BRD-K70633610    trt_cp         0   \n",
       "4     50497  BRD-K95549765             BRD-K95549765    trt_cp         2   \n",
       "\n",
       "   num_inst  num_sig  in_summly  \\\n",
       "0        65       18          1   \n",
       "1       120       32          1   \n",
       "2        64       19          0   \n",
       "3         8        3          0   \n",
       "4         8        3          0   \n",
       "\n",
       "                                        inchi_string  \\\n",
       "0  InChI=1S/C20H15N3O2/c24-19-15-11-17(21-13-7-3-...   \n",
       "1  InChI=1S/C12H11NO3/c14-7-3-4-10-9(6-7)8-2-1-5-...   \n",
       "2  InChI=1S/C17H25ClN2O3/c1-4-11-9-13(18)16(23-3)...   \n",
       "3  InChI=1S/C22H36N4O4/c1-14(2)23-22(28)24-17-8-9...   \n",
       "4  InChI=1S/C22H36N4O4/c1-14(2)23-22(28)24-17-8-9...   \n",
       "\n",
       "                     inchi_key  pubchem_cid  \n",
       "0  AAALVYBICLMAMA-UHFFFAOYSA-N         1697  \n",
       "1  AACFPJSJOWQNBN-UHFFFAOYSA-N       755673  \n",
       "2  AADCDMQTJNYOSS-LBPRGKRZSA-N      6917728  \n",
       "3  AADVJQLQUVDEBP-GQIGUUNPSA-N     54631316  \n",
       "4  AADVJQLQUVDEBP-GUXCAODWSA-N     54631309  "
      ]
     },
     "execution_count": 4,
     "metadata": {},
     "output_type": "execute_result"
    }
   ],
   "source": [
    "pert_df.head()"
   ]
  },
  {
   "cell_type": "code",
   "execution_count": 5,
   "metadata": {
    "collapsed": false
   },
   "outputs": [
    {
     "data": {
      "text/html": [
       "<div style=\"max-height:1000px;max-width:1500px;overflow:auto;\">\n",
       "<table border=\"1\" class=\"dataframe\">\n",
       "  <thead>\n",
       "    <tr style=\"text-align: right;\">\n",
       "      <th></th>\n",
       "      <th>src_id</th>\n",
       "      <th>resource</th>\n",
       "    </tr>\n",
       "  </thead>\n",
       "  <tbody>\n",
       "    <tr>\n",
       "      <th>0</th>\n",
       "      <td>0</td>\n",
       "      <td>None</td>\n",
       "    </tr>\n",
       "    <tr>\n",
       "      <th>1</th>\n",
       "      <td>1</td>\n",
       "      <td>chembl</td>\n",
       "    </tr>\n",
       "    <tr>\n",
       "      <th>2</th>\n",
       "      <td>2</td>\n",
       "      <td>drugbank</td>\n",
       "    </tr>\n",
       "    <tr>\n",
       "      <th>3</th>\n",
       "      <td>3</td>\n",
       "      <td>pdb</td>\n",
       "    </tr>\n",
       "    <tr>\n",
       "      <th>4</th>\n",
       "      <td>4</td>\n",
       "      <td>iuphar</td>\n",
       "    </tr>\n",
       "  </tbody>\n",
       "</table>\n",
       "</div>"
      ],
      "text/plain": [
       "  src_id  resource\n",
       "0      0      None\n",
       "1      1    chembl\n",
       "2      2  drugbank\n",
       "3      3       pdb\n",
       "4      4    iuphar"
      ]
     },
     "execution_count": 5,
     "metadata": {},
     "output_type": "execute_result"
    }
   ],
   "source": [
    "src_df = pandas.DataFrame(list(unichem.id_to_source.items()), columns=['src_id', 'resource'])\n",
    "src_df.src_id = src_df.src_id.astype(str)\n",
    "src_df.head()"
   ]
  },
  {
   "cell_type": "code",
   "execution_count": 6,
   "metadata": {
    "collapsed": false
   },
   "outputs": [
    {
     "data": {
      "text/plain": [
       "['resource', 'resource_id', 'C', 'b', 'i', 'm', 'p', 's', 't']"
      ]
     },
     "execution_count": 6,
     "metadata": {},
     "output_type": "execute_result"
    }
   ],
   "source": [
    "# Create table of mappings\n",
    "command = '''\n",
    "CREATE TABLE IF NOT EXISTS unichem\n",
    "(\n",
    "    pert_uid INTEGER,\n",
    "    resource TEXT,\n",
    "    resource_id TEXT,\n",
    "    C INTEGER,\n",
    "    b INTEGER,\n",
    "    i INTEGER,\n",
    "    m INTEGER,\n",
    "    p INTEGER,\n",
    "    s INTEGER,\n",
    "    t INTEGER,\n",
    "    PRIMARY KEY(pert_uid, resource, resource_id),\n",
    "    FOREIGN KEY(pert_uid) REFERENCES perts(pert_uid)\n",
    ");\n",
    "'''\n",
    "cursor.execute(command)\n",
    "\n",
    "unichem_columns = [col[1] for col in cursor.execute('PRAGMA table_info(unichem);')][1:]\n",
    "unichem_columns"
   ]
  },
  {
   "cell_type": "code",
   "execution_count": 7,
   "metadata": {
    "collapsed": false
   },
   "outputs": [
    {
     "name": "stdout",
     "output_type": "stream",
     "text": []
    }
   ],
   "source": [
    "for i, series in pert_df.iterrows():\n",
    "    print(series.inchi_key, '\\r', end='')\n",
    "    map_df = pandas.DataFrame(unichem.key_search(series.inchi_key, C=4))\n",
    "    map_df = map_df.merge(src_df)\n",
    "    map_df.src_compound_id = map_df.src_compound_id.astype(str)\n",
    "    map_df = map_df.rename(columns={'src_compound_id': 'resource_id'})[unichem_columns]\n",
    "    map_df.to_sql('unichem', connection, if_exists='append', index=False)\n",
    "    connection.commit()\n",
    "    time.sleep(2)"
   ]
  },
  {
   "cell_type": "code",
   "execution_count": null,
   "metadata": {
    "collapsed": false
   },
   "outputs": [],
   "source": []
  },
  {
   "cell_type": "code",
   "execution_count": null,
   "metadata": {
    "collapsed": false
   },
   "outputs": [],
   "source": []
  },
  {
   "cell_type": "code",
   "execution_count": null,
   "metadata": {
    "collapsed": true
   },
   "outputs": [],
   "source": [
    "# starting at 18.3 gigabytes"
   ]
  }
 ],
 "metadata": {
  "kernelspec": {
   "display_name": "Python 3",
   "language": "python",
   "name": "python3"
  },
  "language_info": {
   "codemirror_mode": {
    "name": "ipython",
    "version": 3
   },
   "file_extension": ".py",
   "mimetype": "text/x-python",
   "name": "python",
   "nbconvert_exporter": "python",
   "pygments_lexer": "ipython3",
   "version": "3.4.3"
  }
 },
 "nbformat": 4,
 "nbformat_minor": 0
}

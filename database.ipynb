{
 "cells": [
  {
   "cell_type": "code",
   "execution_count": 1,
   "metadata": {
    "collapsed": true
   },
   "outputs": [],
   "source": [
    "import os\n",
    "\n",
    "import sqlite3\n",
    "import pandas"
   ]
  },
  {
   "cell_type": "code",
   "execution_count": null,
   "metadata": {
    "collapsed": false
   },
   "outputs": [],
   "source": []
  },
  {
   "cell_type": "code",
   "execution_count": 2,
   "metadata": {
    "collapsed": true
   },
   "outputs": [],
   "source": [
    "# open database connection\n",
    "connection = sqlite3.connect('data/l1000.db')\n",
    "cursor = connection.cursor()"
   ]
  },
  {
   "cell_type": "markdown",
   "metadata": {},
   "source": [
    "## Create cells table"
   ]
  },
  {
   "cell_type": "code",
   "execution_count": 3,
   "metadata": {
    "collapsed": false
   },
   "outputs": [
    {
     "data": {
      "text/plain": [
       "['cell_id',\n",
       " 'cell_histology',\n",
       " 'cell_lineage',\n",
       " 'cell_source',\n",
       " 'cell_source_id',\n",
       " 'cell_type',\n",
       " 'gender',\n",
       " 'is_from_metastasis',\n",
       " 'metastatic_site']"
      ]
     },
     "execution_count": 3,
     "metadata": {},
     "output_type": "execute_result"
    }
   ],
   "source": [
    "# Create table of perturbations\n",
    "command = '''\n",
    "CREATE TABLE cells\n",
    "(\n",
    "    cell_uid INTEGER PRIMARY KEY AUTOINCREMENT,\n",
    "    cell_id TEXT UNIQUE NOT NULL,\n",
    "    cell_histology TEXT,\n",
    "    cell_lineage TEXT,\n",
    "    cell_source TEXT,\n",
    "    cell_source_id TEXT,\n",
    "    cell_type TEXT,\n",
    "    gender TEXT,\n",
    "    is_from_metastasis TEXT,\n",
    "    metastatic_site TEXT\n",
    ");\n",
    "'''\n",
    "cursor.execute(command)\n",
    "\n",
    "cells_columns = [col[1] for col in cursor.execute('PRAGMA table_info(cells);')][1:]\n",
    "cells_columns"
   ]
  },
  {
   "cell_type": "code",
   "execution_count": null,
   "metadata": {
    "collapsed": false
   },
   "outputs": [],
   "source": []
  },
  {
   "cell_type": "code",
   "execution_count": 4,
   "metadata": {
    "collapsed": false
   },
   "outputs": [
    {
     "data": {
      "text/html": [
       "<div style=\"max-height:1000px;max-width:1500px;overflow:auto;\">\n",
       "<table border=\"1\" class=\"dataframe\">\n",
       "  <thead>\n",
       "    <tr style=\"text-align: right;\">\n",
       "      <th></th>\n",
       "      <th>cell_id</th>\n",
       "      <th>cell_histology</th>\n",
       "      <th>cell_lineage</th>\n",
       "      <th>cell_source</th>\n",
       "      <th>cell_source_id</th>\n",
       "      <th>cell_type</th>\n",
       "      <th>gender</th>\n",
       "      <th>is_from_metastasis</th>\n",
       "      <th>metastatic_site</th>\n",
       "    </tr>\n",
       "  </thead>\n",
       "  <tbody>\n",
       "    <tr>\n",
       "      <th>0</th>\n",
       "      <td>HEK293T</td>\n",
       "      <td>embryonal kidney</td>\n",
       "      <td>kidney</td>\n",
       "      <td>NaN</td>\n",
       "      <td>NaN</td>\n",
       "      <td>NaN</td>\n",
       "      <td>NaN</td>\n",
       "      <td>NaN</td>\n",
       "      <td>NaN</td>\n",
       "    </tr>\n",
       "    <tr>\n",
       "      <th>1</th>\n",
       "      <td>293</td>\n",
       "      <td>embryonal kidney</td>\n",
       "      <td>NaN</td>\n",
       "      <td>DSMZ</td>\n",
       "      <td>ACC305</td>\n",
       "      <td>NaN</td>\n",
       "      <td>NaN</td>\n",
       "      <td>NaN</td>\n",
       "      <td>NaN</td>\n",
       "    </tr>\n",
       "    <tr>\n",
       "      <th>2</th>\n",
       "      <td>380</td>\n",
       "      <td>leukemia</td>\n",
       "      <td>haematopoietic,lymphoid</td>\n",
       "      <td>DSMZ</td>\n",
       "      <td>ACC39</td>\n",
       "      <td>NaN</td>\n",
       "      <td>NaN</td>\n",
       "      <td>NaN</td>\n",
       "      <td>NaN</td>\n",
       "    </tr>\n",
       "    <tr>\n",
       "      <th>3</th>\n",
       "      <td>813</td>\n",
       "      <td>lymphoblastoid</td>\n",
       "      <td>NaN</td>\n",
       "      <td>ECACC</td>\n",
       "      <td>85100105</td>\n",
       "      <td>NaN</td>\n",
       "      <td>NaN</td>\n",
       "      <td>NaN</td>\n",
       "      <td>NaN</td>\n",
       "    </tr>\n",
       "    <tr>\n",
       "      <th>4</th>\n",
       "      <td>862</td>\n",
       "      <td>carcinoma,large cell</td>\n",
       "      <td>lung</td>\n",
       "      <td>NaN</td>\n",
       "      <td>NaN</td>\n",
       "      <td>NaN</td>\n",
       "      <td>NaN</td>\n",
       "      <td>N</td>\n",
       "      <td>NaN</td>\n",
       "    </tr>\n",
       "  </tbody>\n",
       "</table>\n",
       "</div>"
      ],
      "text/plain": [
       "   cell_id        cell_histology             cell_lineage cell_source  \\\n",
       "0  HEK293T      embryonal kidney                   kidney         NaN   \n",
       "1      293      embryonal kidney                      NaN        DSMZ   \n",
       "2      380              leukemia  haematopoietic,lymphoid        DSMZ   \n",
       "3      813        lymphoblastoid                      NaN       ECACC   \n",
       "4      862  carcinoma,large cell                     lung         NaN   \n",
       "\n",
       "  cell_source_id cell_type gender is_from_metastasis metastatic_site  \n",
       "0            NaN       NaN    NaN                NaN             NaN  \n",
       "1         ACC305       NaN    NaN                NaN             NaN  \n",
       "2          ACC39       NaN    NaN                NaN             NaN  \n",
       "3       85100105       NaN    NaN                NaN             NaN  \n",
       "4            NaN       NaN    NaN                  N             NaN  "
      ]
     },
     "execution_count": 4,
     "metadata": {},
     "output_type": "execute_result"
    }
   ],
   "source": [
    "cell_df = pandas.read_table('data/cellinfo/cellinfo.tsv.gz', compression='gzip', na_values=['-666', ''])\n",
    "cell_df = cell_df[cells_columns]\n",
    "cell_df.dropna(subset=['cell_id'], inplace=True)\n",
    "cell_df.head()"
   ]
  },
  {
   "cell_type": "code",
   "execution_count": 5,
   "metadata": {
    "collapsed": false
   },
   "outputs": [],
   "source": [
    "# Create table of perturbations\n",
    "cell_df.to_sql('cells', connection, if_exists='append', index=False)"
   ]
  },
  {
   "cell_type": "markdown",
   "metadata": {},
   "source": [
    "## Create perts table"
   ]
  },
  {
   "cell_type": "code",
   "execution_count": 6,
   "metadata": {
    "collapsed": false
   },
   "outputs": [
    {
     "data": {
      "text/plain": [
       "['pert_id',\n",
       " 'pert_iname',\n",
       " 'pert_type',\n",
       " 'num_gold',\n",
       " 'num_inst',\n",
       " 'num_sig',\n",
       " 'in_summly',\n",
       " 'inchi_string',\n",
       " 'inchi_key',\n",
       " 'pubchem_cid']"
      ]
     },
     "execution_count": 6,
     "metadata": {},
     "output_type": "execute_result"
    }
   ],
   "source": [
    "# Create table of perturbations\n",
    "command = '''\n",
    "CREATE TABLE perts\n",
    "(\n",
    "    pert_uid INTEGER PRIMARY KEY AUTOINCREMENT,\n",
    "    pert_id TEXT UNIQUE NOT NULL,\n",
    "    pert_iname TEXT,\n",
    "    pert_type TEXT NOT NULL,\n",
    "    num_gold INTEGER NOT NULL,\n",
    "    num_inst INTEGER NOT NULL,\n",
    "    num_sig INTEGER NOT NULL,\n",
    "    in_summly INTEGER NOT NULL,\n",
    "    inchi_string TEXT,\n",
    "    inchi_key TEXT,\n",
    "    pubchem_cid INTEGER\n",
    ");\n",
    "'''\n",
    "cursor.execute(command)\n",
    "\n",
    "perts_columns = [col[1] for col in cursor.execute('PRAGMA table_info(perts);')][1:]\n",
    "perts_columns"
   ]
  },
  {
   "cell_type": "code",
   "execution_count": 7,
   "metadata": {
    "collapsed": false
   },
   "outputs": [
    {
     "data": {
      "text/html": [
       "<div style=\"max-height:1000px;max-width:1500px;overflow:auto;\">\n",
       "<table border=\"1\" class=\"dataframe\">\n",
       "  <thead>\n",
       "    <tr style=\"text-align: right;\">\n",
       "      <th></th>\n",
       "      <th>pert_id</th>\n",
       "      <th>pert_iname</th>\n",
       "      <th>pert_type</th>\n",
       "      <th>num_gold</th>\n",
       "      <th>num_inst</th>\n",
       "      <th>num_sig</th>\n",
       "      <th>in_summly</th>\n",
       "      <th>inchi_string</th>\n",
       "      <th>inchi_key</th>\n",
       "      <th>pubchem_cid</th>\n",
       "    </tr>\n",
       "  </thead>\n",
       "  <tbody>\n",
       "    <tr>\n",
       "      <th>0</th>\n",
       "      <td>CSS001-ATTGCAT</td>\n",
       "      <td>ATTGCAT</td>\n",
       "      <td>trt_sh.css</td>\n",
       "      <td>0</td>\n",
       "      <td>0</td>\n",
       "      <td>7</td>\n",
       "      <td>False</td>\n",
       "      <td>NaN</td>\n",
       "      <td>NaN</td>\n",
       "      <td>NaN</td>\n",
       "    </tr>\n",
       "    <tr>\n",
       "      <th>1</th>\n",
       "      <td>CSS001-GAGGATA</td>\n",
       "      <td>GAGGATA</td>\n",
       "      <td>trt_sh.css</td>\n",
       "      <td>0</td>\n",
       "      <td>0</td>\n",
       "      <td>1</td>\n",
       "      <td>False</td>\n",
       "      <td>NaN</td>\n",
       "      <td>NaN</td>\n",
       "      <td>NaN</td>\n",
       "    </tr>\n",
       "    <tr>\n",
       "      <th>2</th>\n",
       "      <td>CSS001-TCAATGA</td>\n",
       "      <td>TCAATGA</td>\n",
       "      <td>trt_sh.css</td>\n",
       "      <td>0</td>\n",
       "      <td>0</td>\n",
       "      <td>7</td>\n",
       "      <td>False</td>\n",
       "      <td>NaN</td>\n",
       "      <td>NaN</td>\n",
       "      <td>NaN</td>\n",
       "    </tr>\n",
       "    <tr>\n",
       "      <th>3</th>\n",
       "      <td>CSS001-TCAGTTC</td>\n",
       "      <td>TCAGTTC</td>\n",
       "      <td>trt_sh.css</td>\n",
       "      <td>0</td>\n",
       "      <td>0</td>\n",
       "      <td>7</td>\n",
       "      <td>False</td>\n",
       "      <td>NaN</td>\n",
       "      <td>NaN</td>\n",
       "      <td>NaN</td>\n",
       "    </tr>\n",
       "    <tr>\n",
       "      <th>4</th>\n",
       "      <td>CSS001-TCCATCA</td>\n",
       "      <td>TCCATCA</td>\n",
       "      <td>trt_sh.css</td>\n",
       "      <td>0</td>\n",
       "      <td>0</td>\n",
       "      <td>1</td>\n",
       "      <td>False</td>\n",
       "      <td>NaN</td>\n",
       "      <td>NaN</td>\n",
       "      <td>NaN</td>\n",
       "    </tr>\n",
       "  </tbody>\n",
       "</table>\n",
       "</div>"
      ],
      "text/plain": [
       "          pert_id pert_iname   pert_type  num_gold  num_inst  num_sig  \\\n",
       "0  CSS001-ATTGCAT    ATTGCAT  trt_sh.css         0         0        7   \n",
       "1  CSS001-GAGGATA    GAGGATA  trt_sh.css         0         0        1   \n",
       "2  CSS001-TCAATGA    TCAATGA  trt_sh.css         0         0        7   \n",
       "3  CSS001-TCAGTTC    TCAGTTC  trt_sh.css         0         0        7   \n",
       "4  CSS001-TCCATCA    TCCATCA  trt_sh.css         0         0        1   \n",
       "\n",
       "  in_summly inchi_string inchi_key pubchem_cid  \n",
       "0     False          NaN       NaN         NaN  \n",
       "1     False          NaN       NaN         NaN  \n",
       "2     False          NaN       NaN         NaN  \n",
       "3     False          NaN       NaN         NaN  \n",
       "4     False          NaN       NaN         NaN  "
      ]
     },
     "execution_count": 7,
     "metadata": {},
     "output_type": "execute_result"
    }
   ],
   "source": [
    "# read L1000 perturbagens\n",
    "pert_df = pandas.read_table('data/pertinfo/pertinfo.tsv.gz', compression='gzip', na_values=['-666', ''])\n",
    "pert_df = pert_df[perts_columns]\n",
    "pert_df['pubchem_cid'] = pert_df.pubchem_cid.astype(int, raise_on_error=False)\n",
    "pert_df['in_summly'] = pert_df.in_summly.map(lambda x: x is True)\n",
    "pert_df['inchi_key'] = pert_df.inchi_key.str.replace('InChIKey=', '')\n",
    "pert_df.head()"
   ]
  },
  {
   "cell_type": "code",
   "execution_count": 8,
   "metadata": {
    "collapsed": false
   },
   "outputs": [],
   "source": [
    "# Create table of perturbations\n",
    "pert_df.to_sql('perts', connection, if_exists='append', index=False)"
   ]
  },
  {
   "cell_type": "markdown",
   "metadata": {},
   "source": [
    "## Create sigs tables"
   ]
  },
  {
   "cell_type": "code",
   "execution_count": 9,
   "metadata": {
    "collapsed": false
   },
   "outputs": [
    {
     "data": {
      "text/plain": [
       "['sig_id',\n",
       " 'pert_id',\n",
       " 'pert_itime',\n",
       " 'pert_idose',\n",
       " 'cell_id',\n",
       " 'is_gold',\n",
       " 'ngenes_modulated_dn_lm',\n",
       " 'ngenes_modulated_up_lm']"
      ]
     },
     "execution_count": 9,
     "metadata": {},
     "output_type": "execute_result"
    }
   ],
   "source": [
    "# Create table of perturbations\n",
    "command = '''\n",
    "CREATE TABLE sigs\n",
    "(\n",
    "    sig_uid INTEGER PRIMARY KEY AUTOINCREMENT,\n",
    "    sig_id TEXT UNIQUE NOT NULL,\n",
    "    pert_id TEXT NOT NULL,\n",
    "    pert_itime TEXT,\n",
    "    pert_idose TEXT,\n",
    "    cell_id TEXT NOT NULL,\n",
    "    is_gold INTEGER NOT NULL,\n",
    "    ngenes_modulated_dn_lm INTEGER NOT NULL,\n",
    "    ngenes_modulated_up_lm INTEGER NOT NULL,\n",
    "    FOREIGN KEY(pert_id) REFERENCES perts(pert_id),\n",
    "    FOREIGN KEY(cell_id) REFERENCES cells(cell_id)\n",
    ");\n",
    "'''\n",
    "cursor.execute(command)\n",
    "\n",
    "sig_columns = [col[1] for col in cursor.execute('PRAGMA table_info(sigs);')][1:]\n",
    "sig_columns"
   ]
  },
  {
   "cell_type": "code",
   "execution_count": 10,
   "metadata": {
    "collapsed": false
   },
   "outputs": [
    {
     "data": {
      "text/html": [
       "<div style=\"max-height:1000px;max-width:1500px;overflow:auto;\">\n",
       "<table border=\"1\" class=\"dataframe\">\n",
       "  <thead>\n",
       "    <tr style=\"text-align: right;\">\n",
       "      <th></th>\n",
       "      <th>sig_id</th>\n",
       "      <th>pert_id</th>\n",
       "      <th>pert_itime</th>\n",
       "      <th>pert_idose</th>\n",
       "      <th>cell_id</th>\n",
       "      <th>is_gold</th>\n",
       "      <th>ngenes_modulated_dn_lm</th>\n",
       "      <th>ngenes_modulated_up_lm</th>\n",
       "    </tr>\n",
       "  </thead>\n",
       "  <tbody>\n",
       "    <tr>\n",
       "      <th>0</th>\n",
       "      <td>CVD001_HUH7_24H:BRD-A13020530-001-01-7:10</td>\n",
       "      <td>BRD-A13020530</td>\n",
       "      <td>24 h</td>\n",
       "      <td>10 µM</td>\n",
       "      <td>HUH7</td>\n",
       "      <td>False</td>\n",
       "      <td>311</td>\n",
       "      <td>260</td>\n",
       "    </tr>\n",
       "    <tr>\n",
       "      <th>1</th>\n",
       "      <td>CVD001_HUH7_24H:BRD-K07762753-001-03-6:50</td>\n",
       "      <td>BRD-K07762753</td>\n",
       "      <td>24 h</td>\n",
       "      <td>50 µM</td>\n",
       "      <td>HUH7</td>\n",
       "      <td>True</td>\n",
       "      <td>298</td>\n",
       "      <td>302</td>\n",
       "    </tr>\n",
       "    <tr>\n",
       "      <th>2</th>\n",
       "      <td>CPC004_PC3_6H:BRD-K34820100-001-02-1:10</td>\n",
       "      <td>BRD-K34820100</td>\n",
       "      <td>6 h</td>\n",
       "      <td>10 µM</td>\n",
       "      <td>PC3</td>\n",
       "      <td>False</td>\n",
       "      <td>41</td>\n",
       "      <td>39</td>\n",
       "    </tr>\n",
       "    <tr>\n",
       "      <th>3</th>\n",
       "      <td>CPC004_PC3_6H:BRD-A22844106-001-16-1:10</td>\n",
       "      <td>BRD-A22844106</td>\n",
       "      <td>6 h</td>\n",
       "      <td>10 µM</td>\n",
       "      <td>PC3</td>\n",
       "      <td>False</td>\n",
       "      <td>14</td>\n",
       "      <td>12</td>\n",
       "    </tr>\n",
       "    <tr>\n",
       "      <th>4</th>\n",
       "      <td>CPC004_PC3_6H:BRD-A55393291-001-05-7:10</td>\n",
       "      <td>BRD-A55393291</td>\n",
       "      <td>6 h</td>\n",
       "      <td>10 µM</td>\n",
       "      <td>PC3</td>\n",
       "      <td>False</td>\n",
       "      <td>8</td>\n",
       "      <td>6</td>\n",
       "    </tr>\n",
       "  </tbody>\n",
       "</table>\n",
       "</div>"
      ],
      "text/plain": [
       "                                      sig_id        pert_id pert_itime  \\\n",
       "0  CVD001_HUH7_24H:BRD-A13020530-001-01-7:10  BRD-A13020530       24 h   \n",
       "1  CVD001_HUH7_24H:BRD-K07762753-001-03-6:50  BRD-K07762753       24 h   \n",
       "2    CPC004_PC3_6H:BRD-K34820100-001-02-1:10  BRD-K34820100        6 h   \n",
       "3    CPC004_PC3_6H:BRD-A22844106-001-16-1:10  BRD-A22844106        6 h   \n",
       "4    CPC004_PC3_6H:BRD-A55393291-001-05-7:10  BRD-A55393291        6 h   \n",
       "\n",
       "  pert_idose cell_id is_gold  ngenes_modulated_dn_lm  ngenes_modulated_up_lm  \n",
       "0      10 µM    HUH7   False                     311                     260  \n",
       "1      50 µM    HUH7    True                     298                     302  \n",
       "2      10 µM     PC3   False                      41                      39  \n",
       "3      10 µM     PC3   False                      14                      12  \n",
       "4      10 µM     PC3   False                       8                       6  "
      ]
     },
     "execution_count": 10,
     "metadata": {},
     "output_type": "execute_result"
    }
   ],
   "source": [
    "# read L1000 perturbagens\n",
    "sig_df = pandas.read_table('data/siginfo/siginfo.tsv.gz', compression='gzip', na_values=['-666', ''])\n",
    "sig_df = sig_df[sig_columns]\n",
    "sig_df.head()"
   ]
  },
  {
   "cell_type": "code",
   "execution_count": 11,
   "metadata": {
    "collapsed": false
   },
   "outputs": [],
   "source": [
    "# Create table of perturbations\n",
    "sig_df.to_sql('sigs', connection, if_exists='append', index=False)"
   ]
  },
  {
   "cell_type": "markdown",
   "metadata": {},
   "source": [
    "## Similarity"
   ]
  },
  {
   "cell_type": "code",
   "execution_count": 12,
   "metadata": {
    "collapsed": false
   },
   "outputs": [],
   "source": [
    "# Create table of compound similarity\n",
    "command = '''\n",
    "CREATE TABLE similarities\n",
    "(\n",
    "    pert_uid_0 INTEGER NOT NULL,\n",
    "    pert_uid_1 INTEGER NOT NULL,\n",
    "    chemical REAL,\n",
    "    -- FOREIGN KEY(pert_uid_0) REFERENCES perts(pert_uid),\n",
    "    -- FOREIGN KEY(pert_uid_1) REFERENCES perts(pert_uid),\n",
    "    PRIMARY KEY(pert_uid_0, pert_uid_1)\n",
    ");\n",
    "'''\n",
    "cursor.execute(command);"
   ]
  },
  {
   "cell_type": "code",
   "execution_count": null,
   "metadata": {
    "collapsed": true
   },
   "outputs": [],
   "source": []
  },
  {
   "cell_type": "markdown",
   "metadata": {},
   "source": [
    "## Commit and close database"
   ]
  },
  {
   "cell_type": "code",
   "execution_count": 13,
   "metadata": {
    "collapsed": false,
    "scrolled": true
   },
   "outputs": [],
   "source": [
    "connection.commit()\n",
    "connection.close()"
   ]
  },
  {
   "cell_type": "code",
   "execution_count": null,
   "metadata": {
    "collapsed": true
   },
   "outputs": [],
   "source": []
  }
 ],
 "metadata": {
  "kernelspec": {
   "display_name": "Python 3",
   "language": "python",
   "name": "python3"
  },
  "language_info": {
   "codemirror_mode": {
    "name": "ipython",
    "version": 3
   },
   "file_extension": ".py",
   "mimetype": "text/x-python",
   "name": "python",
   "nbconvert_exporter": "python",
   "pygments_lexer": "ipython3",
   "version": "3.4.3"
  }
 },
 "nbformat": 4,
 "nbformat_minor": 0
}

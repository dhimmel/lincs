{
 "cells": [
  {
   "cell_type": "code",
   "execution_count": 50,
   "metadata": {
    "collapsed": true
   },
   "outputs": [],
   "source": [
    "import os\n",
    "\n",
    "import sqlite3\n",
    "import pandas"
   ]
  },
  {
   "cell_type": "code",
   "execution_count": 51,
   "metadata": {
    "collapsed": true
   },
   "outputs": [],
   "source": [
    "# open database connection\n",
    "connection = sqlite3.connect('data/l1000.db')\n",
    "cursor = connection.cursor()"
   ]
  },
  {
   "cell_type": "code",
   "execution_count": 52,
   "metadata": {
    "collapsed": false
   },
   "outputs": [
    {
     "data": {
      "text/html": [
       "<div style=\"max-height:1000px;max-width:1500px;overflow:auto;\">\n",
       "<table border=\"1\" class=\"dataframe\">\n",
       "  <thead>\n",
       "    <tr style=\"text-align: right;\">\n",
       "      <th></th>\n",
       "      <th>pert_id</th>\n",
       "      <th>pert_iname</th>\n",
       "      <th>pert_type</th>\n",
       "      <th>num_gold</th>\n",
       "      <th>num_inst</th>\n",
       "      <th>num_sig</th>\n",
       "      <th>in_summly</th>\n",
       "      <th>pert_summary</th>\n",
       "      <th>pubchem_cid</th>\n",
       "      <th>molecular_formula</th>\n",
       "      <th>molecular_wt</th>\n",
       "      <th>pert_vendor</th>\n",
       "      <th>canonical_smiles</th>\n",
       "      <th>inchi_key</th>\n",
       "      <th>inchi_string</th>\n",
       "    </tr>\n",
       "  </thead>\n",
       "  <tbody>\n",
       "    <tr>\n",
       "      <th>0</th>\n",
       "      <td>CSS001-ATTGCAT</td>\n",
       "      <td>ATTGCAT</td>\n",
       "      <td>trt_sh.css</td>\n",
       "      <td>0</td>\n",
       "      <td>0</td>\n",
       "      <td>7</td>\n",
       "      <td>NaN</td>\n",
       "      <td>NaN</td>\n",
       "      <td>NaN</td>\n",
       "      <td>NaN</td>\n",
       "      <td>NaN</td>\n",
       "      <td>NaN</td>\n",
       "      <td>NaN</td>\n",
       "      <td>NaN</td>\n",
       "      <td>NaN</td>\n",
       "    </tr>\n",
       "    <tr>\n",
       "      <th>1</th>\n",
       "      <td>CSS001-GAGGATA</td>\n",
       "      <td>GAGGATA</td>\n",
       "      <td>trt_sh.css</td>\n",
       "      <td>0</td>\n",
       "      <td>0</td>\n",
       "      <td>1</td>\n",
       "      <td>NaN</td>\n",
       "      <td>NaN</td>\n",
       "      <td>NaN</td>\n",
       "      <td>NaN</td>\n",
       "      <td>NaN</td>\n",
       "      <td>NaN</td>\n",
       "      <td>NaN</td>\n",
       "      <td>NaN</td>\n",
       "      <td>NaN</td>\n",
       "    </tr>\n",
       "    <tr>\n",
       "      <th>2</th>\n",
       "      <td>CSS001-TCAATGA</td>\n",
       "      <td>TCAATGA</td>\n",
       "      <td>trt_sh.css</td>\n",
       "      <td>0</td>\n",
       "      <td>0</td>\n",
       "      <td>7</td>\n",
       "      <td>NaN</td>\n",
       "      <td>NaN</td>\n",
       "      <td>NaN</td>\n",
       "      <td>NaN</td>\n",
       "      <td>NaN</td>\n",
       "      <td>NaN</td>\n",
       "      <td>NaN</td>\n",
       "      <td>NaN</td>\n",
       "      <td>NaN</td>\n",
       "    </tr>\n",
       "    <tr>\n",
       "      <th>3</th>\n",
       "      <td>CSS001-TCAGTTC</td>\n",
       "      <td>TCAGTTC</td>\n",
       "      <td>trt_sh.css</td>\n",
       "      <td>0</td>\n",
       "      <td>0</td>\n",
       "      <td>7</td>\n",
       "      <td>NaN</td>\n",
       "      <td>NaN</td>\n",
       "      <td>NaN</td>\n",
       "      <td>NaN</td>\n",
       "      <td>NaN</td>\n",
       "      <td>NaN</td>\n",
       "      <td>NaN</td>\n",
       "      <td>NaN</td>\n",
       "      <td>NaN</td>\n",
       "    </tr>\n",
       "    <tr>\n",
       "      <th>4</th>\n",
       "      <td>CSS001-TCCATCA</td>\n",
       "      <td>TCCATCA</td>\n",
       "      <td>trt_sh.css</td>\n",
       "      <td>0</td>\n",
       "      <td>0</td>\n",
       "      <td>1</td>\n",
       "      <td>NaN</td>\n",
       "      <td>NaN</td>\n",
       "      <td>NaN</td>\n",
       "      <td>NaN</td>\n",
       "      <td>NaN</td>\n",
       "      <td>NaN</td>\n",
       "      <td>NaN</td>\n",
       "      <td>NaN</td>\n",
       "      <td>NaN</td>\n",
       "    </tr>\n",
       "  </tbody>\n",
       "</table>\n",
       "</div>"
      ],
      "text/plain": [
       "          pert_id pert_iname   pert_type  num_gold  num_inst  num_sig  \\\n",
       "0  CSS001-ATTGCAT    ATTGCAT  trt_sh.css         0         0        7   \n",
       "1  CSS001-GAGGATA    GAGGATA  trt_sh.css         0         0        1   \n",
       "2  CSS001-TCAATGA    TCAATGA  trt_sh.css         0         0        7   \n",
       "3  CSS001-TCAGTTC    TCAGTTC  trt_sh.css         0         0        7   \n",
       "4  CSS001-TCCATCA    TCCATCA  trt_sh.css         0         0        1   \n",
       "\n",
       "  in_summly pert_summary pubchem_cid molecular_formula  molecular_wt  \\\n",
       "0       NaN          NaN         NaN               NaN           NaN   \n",
       "1       NaN          NaN         NaN               NaN           NaN   \n",
       "2       NaN          NaN         NaN               NaN           NaN   \n",
       "3       NaN          NaN         NaN               NaN           NaN   \n",
       "4       NaN          NaN         NaN               NaN           NaN   \n",
       "\n",
       "  pert_vendor canonical_smiles inchi_key inchi_string  \n",
       "0         NaN              NaN       NaN          NaN  \n",
       "1         NaN              NaN       NaN          NaN  \n",
       "2         NaN              NaN       NaN          NaN  \n",
       "3         NaN              NaN       NaN          NaN  \n",
       "4         NaN              NaN       NaN          NaN  "
      ]
     },
     "execution_count": 52,
     "metadata": {},
     "output_type": "execute_result"
    }
   ],
   "source": [
    "# read L1000 perturbagens\n",
    "pert_df = pandas.read_table('data/pertinfo/pertinfo.tsv.gz', compression='gzip', na_values=['-666', ''])\n",
    "pert_df['pubchem_cid'] = pert_df.pubchem_cid.astype(int, raise_on_error=False)\n",
    "pert_df.head()"
   ]
  },
  {
   "cell_type": "code",
   "execution_count": 53,
   "metadata": {
    "collapsed": true
   },
   "outputs": [],
   "source": [
    "# Create table of perturbations\n",
    "pert_df.to_sql('perts', connection, if_exists='replace')"
   ]
  },
  {
   "cell_type": "code",
   "execution_count": 54,
   "metadata": {
    "collapsed": false
   },
   "outputs": [],
   "source": [
    "# # Create table of perturbations\n",
    "# command = '''\n",
    "# CREATE TABLE perts\n",
    "# (\n",
    "#     pert_id TEXT PRIMARY KEY NOT NULL,\n",
    "#     pert_iname TEXT NOT NULL,\n",
    "#     pert_type TEXT NOT NULL,\n",
    "#     num_gold INTEGER NOT NULL,\n",
    "#     num_inst INTEGER NOT NULL,\n",
    "#     num_sig INTEGER NOT NULL,\n",
    "#     in_summly INTEGER NOT NULL,\n",
    "#     inchi TEXT,\n",
    "#     inchi_key TEXT,\n",
    "#     pubchem_cid INTEGER\n",
    "# );\n",
    "# '''\n",
    "# cursor.execute(command);"
   ]
  },
  {
   "cell_type": "code",
   "execution_count": 55,
   "metadata": {
    "collapsed": false
   },
   "outputs": [
    {
     "ename": "OperationalError",
     "evalue": "table similarities already exists",
     "output_type": "error",
     "traceback": [
      "\u001b[1;31m---------------------------------------------------------------------------\u001b[0m",
      "\u001b[1;31mOperationalError\u001b[0m                          Traceback (most recent call last)",
      "\u001b[1;32m<ipython-input-55-622f0ad91631>\u001b[0m in \u001b[0;36m<module>\u001b[1;34m()\u001b[0m\n\u001b[0;32m     10\u001b[0m );\n\u001b[0;32m     11\u001b[0m '''\n\u001b[1;32m---> 12\u001b[1;33m \u001b[0mcursor\u001b[0m\u001b[1;33m.\u001b[0m\u001b[0mexecute\u001b[0m\u001b[1;33m(\u001b[0m\u001b[0mcommand\u001b[0m\u001b[1;33m)\u001b[0m\u001b[1;33m;\u001b[0m\u001b[1;33m\u001b[0m\u001b[0m\n\u001b[0m",
      "\u001b[1;31mOperationalError\u001b[0m: table similarities already exists"
     ]
    }
   ],
   "source": [
    "# Create table of compound similarity\n",
    "command = '''\n",
    "CREATE TABLE similarities\n",
    "(\n",
    "    pert_0 TEXT NOT NULL,\n",
    "    pert_1 TEXT NOT NULL,\n",
    "    FOREIGN KEY(pert_0) REFERENCES perts(pert_id),\n",
    "    FOREIGN KEY(pert_1) REFERENCES perts(pert_id),\n",
    "    PRIMARY KEY (pert_0, pert_1)\n",
    ");\n",
    "'''\n",
    "cursor.execute(command);"
   ]
  },
  {
   "cell_type": "code",
   "execution_count": 41,
   "metadata": {
    "collapsed": true
   },
   "outputs": [],
   "source": [
    "#connection.commit()\n",
    "connection.close()\n",
    "os.unlink('data/l1000.db')"
   ]
  },
  {
   "cell_type": "code",
   "execution_count": null,
   "metadata": {
    "collapsed": true
   },
   "outputs": [],
   "source": []
  },
  {
   "cell_type": "code",
   "execution_count": 43,
   "metadata": {
    "collapsed": false,
    "scrolled": true
   },
   "outputs": [
    {
     "data": {
      "text/html": [
       "<div style=\"max-height:1000px;max-width:1500px;overflow:auto;\">\n",
       "<table border=\"1\" class=\"dataframe\">\n",
       "  <thead>\n",
       "    <tr style=\"text-align: right;\">\n",
       "      <th></th>\n",
       "      <th>pert_id</th>\n",
       "      <th>pert_iname</th>\n",
       "      <th>pert_type</th>\n",
       "      <th>num_gold</th>\n",
       "      <th>num_inst</th>\n",
       "      <th>num_sig</th>\n",
       "      <th>in_summly</th>\n",
       "      <th>pert_summary</th>\n",
       "      <th>pubchem_cid</th>\n",
       "      <th>molecular_formula</th>\n",
       "      <th>molecular_wt</th>\n",
       "      <th>pert_vendor</th>\n",
       "      <th>canonical_smiles</th>\n",
       "      <th>inchi_key</th>\n",
       "      <th>inchi_string</th>\n",
       "    </tr>\n",
       "  </thead>\n",
       "  <tbody>\n",
       "    <tr>\n",
       "      <th>0</th>\n",
       "      <td>CSS001-ATTGCAT</td>\n",
       "      <td>ATTGCAT</td>\n",
       "      <td>trt_sh.css</td>\n",
       "      <td>0</td>\n",
       "      <td>0</td>\n",
       "      <td>7</td>\n",
       "      <td>NaN</td>\n",
       "      <td>NaN</td>\n",
       "      <td>NaN</td>\n",
       "      <td>NaN</td>\n",
       "      <td>NaN</td>\n",
       "      <td>NaN</td>\n",
       "      <td>NaN</td>\n",
       "      <td>NaN</td>\n",
       "      <td>NaN</td>\n",
       "    </tr>\n",
       "    <tr>\n",
       "      <th>1</th>\n",
       "      <td>CSS001-GAGGATA</td>\n",
       "      <td>GAGGATA</td>\n",
       "      <td>trt_sh.css</td>\n",
       "      <td>0</td>\n",
       "      <td>0</td>\n",
       "      <td>1</td>\n",
       "      <td>NaN</td>\n",
       "      <td>NaN</td>\n",
       "      <td>NaN</td>\n",
       "      <td>NaN</td>\n",
       "      <td>NaN</td>\n",
       "      <td>NaN</td>\n",
       "      <td>NaN</td>\n",
       "      <td>NaN</td>\n",
       "      <td>NaN</td>\n",
       "    </tr>\n",
       "    <tr>\n",
       "      <th>2</th>\n",
       "      <td>CSS001-TCAATGA</td>\n",
       "      <td>TCAATGA</td>\n",
       "      <td>trt_sh.css</td>\n",
       "      <td>0</td>\n",
       "      <td>0</td>\n",
       "      <td>7</td>\n",
       "      <td>NaN</td>\n",
       "      <td>NaN</td>\n",
       "      <td>NaN</td>\n",
       "      <td>NaN</td>\n",
       "      <td>NaN</td>\n",
       "      <td>NaN</td>\n",
       "      <td>NaN</td>\n",
       "      <td>NaN</td>\n",
       "      <td>NaN</td>\n",
       "    </tr>\n",
       "    <tr>\n",
       "      <th>3</th>\n",
       "      <td>CSS001-TCAGTTC</td>\n",
       "      <td>TCAGTTC</td>\n",
       "      <td>trt_sh.css</td>\n",
       "      <td>0</td>\n",
       "      <td>0</td>\n",
       "      <td>7</td>\n",
       "      <td>NaN</td>\n",
       "      <td>NaN</td>\n",
       "      <td>NaN</td>\n",
       "      <td>NaN</td>\n",
       "      <td>NaN</td>\n",
       "      <td>NaN</td>\n",
       "      <td>NaN</td>\n",
       "      <td>NaN</td>\n",
       "      <td>NaN</td>\n",
       "    </tr>\n",
       "    <tr>\n",
       "      <th>4</th>\n",
       "      <td>CSS001-TCCATCA</td>\n",
       "      <td>TCCATCA</td>\n",
       "      <td>trt_sh.css</td>\n",
       "      <td>0</td>\n",
       "      <td>0</td>\n",
       "      <td>1</td>\n",
       "      <td>NaN</td>\n",
       "      <td>NaN</td>\n",
       "      <td>NaN</td>\n",
       "      <td>NaN</td>\n",
       "      <td>NaN</td>\n",
       "      <td>NaN</td>\n",
       "      <td>NaN</td>\n",
       "      <td>NaN</td>\n",
       "      <td>NaN</td>\n",
       "    </tr>\n",
       "  </tbody>\n",
       "</table>\n",
       "</div>"
      ],
      "text/plain": [
       "          pert_id pert_iname   pert_type  num_gold  num_inst  num_sig  \\\n",
       "0  CSS001-ATTGCAT    ATTGCAT  trt_sh.css         0         0        7   \n",
       "1  CSS001-GAGGATA    GAGGATA  trt_sh.css         0         0        1   \n",
       "2  CSS001-TCAATGA    TCAATGA  trt_sh.css         0         0        7   \n",
       "3  CSS001-TCAGTTC    TCAGTTC  trt_sh.css         0         0        7   \n",
       "4  CSS001-TCCATCA    TCCATCA  trt_sh.css         0         0        1   \n",
       "\n",
       "  in_summly pert_summary pubchem_cid molecular_formula  molecular_wt  \\\n",
       "0       NaN          NaN         NaN               NaN           NaN   \n",
       "1       NaN          NaN         NaN               NaN           NaN   \n",
       "2       NaN          NaN         NaN               NaN           NaN   \n",
       "3       NaN          NaN         NaN               NaN           NaN   \n",
       "4       NaN          NaN         NaN               NaN           NaN   \n",
       "\n",
       "  pert_vendor canonical_smiles inchi_key inchi_string  \n",
       "0         NaN              NaN       NaN          NaN  \n",
       "1         NaN              NaN       NaN          NaN  \n",
       "2         NaN              NaN       NaN          NaN  \n",
       "3         NaN              NaN       NaN          NaN  \n",
       "4         NaN              NaN       NaN          NaN  "
      ]
     },
     "execution_count": 43,
     "metadata": {},
     "output_type": "execute_result"
    }
   ],
   "source": []
  },
  {
   "cell_type": "code",
   "execution_count": 46,
   "metadata": {
    "collapsed": false
   },
   "outputs": [],
   "source": []
  },
  {
   "cell_type": "code",
   "execution_count": null,
   "metadata": {
    "collapsed": false
   },
   "outputs": [],
   "source": []
  },
  {
   "cell_type": "code",
   "execution_count": null,
   "metadata": {
    "collapsed": true
   },
   "outputs": [],
   "source": []
  }
 ],
 "metadata": {
  "kernelspec": {
   "display_name": "Python 3",
   "language": "python",
   "name": "python3"
  },
  "language_info": {
   "codemirror_mode": {
    "name": "ipython",
    "version": 3
   },
   "file_extension": ".py",
   "mimetype": "text/x-python",
   "name": "python",
   "nbconvert_exporter": "python",
   "pygments_lexer": "ipython3",
   "version": "3.4.3"
  }
 },
 "nbformat": 4,
 "nbformat_minor": 0
}

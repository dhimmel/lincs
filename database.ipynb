{
 "cells": [
  {
   "cell_type": "code",
   "execution_count": 16,
   "metadata": {
    "collapsed": true
   },
   "outputs": [],
   "source": [
    "import sqlite3"
   ]
  },
  {
   "cell_type": "code",
   "execution_count": 17,
   "metadata": {
    "collapsed": true
   },
   "outputs": [],
   "source": [
    "connection = sqlite3.connect('data/l1000.db')\n",
    "cursor = connection.cursor()"
   ]
  },
  {
   "cell_type": "code",
   "execution_count": 18,
   "metadata": {
    "collapsed": false
   },
   "outputs": [],
   "source": [
    "command = '''\n",
    "CREATE TABLE perts\n",
    "(\n",
    "    pert_id TEXT PRIMARY KEY NOT NULL,\n",
    "    pert_iname TEXT NOT NULL,\n",
    "    pert_type TEXT NOT NULL,\n",
    "    num_gold INTEGER NOT NULL,\n",
    "    num_inst INTEGER NOT NULL,\n",
    "    num_sig INTEGER NOT NULL,\n",
    "    in_summly INTEGER NOT NULL,\n",
    "    inchi TEXT,\n",
    "    inchi_key TEXT,\n",
    "    pubchem_cid INTEGER\n",
    ");\n",
    "'''\n",
    "cursor.execute(command);"
   ]
  },
  {
   "cell_type": "code",
   "execution_count": 19,
   "metadata": {
    "collapsed": true
   },
   "outputs": [],
   "source": [
    "#connection.commit()\n",
    "connection.close()"
   ]
  },
  {
   "cell_type": "code",
   "execution_count": null,
   "metadata": {
    "collapsed": true
   },
   "outputs": [],
   "source": []
  }
 ],
 "metadata": {
  "kernelspec": {
   "display_name": "Python 3",
   "language": "python",
   "name": "python3"
  },
  "language_info": {
   "codemirror_mode": {
    "name": "ipython",
    "version": 3
   },
   "file_extension": ".py",
   "mimetype": "text/x-python",
   "name": "python",
   "nbconvert_exporter": "python",
   "pygments_lexer": "ipython3",
   "version": "3.4.3"
  }
 },
 "nbformat": 4,
 "nbformat_minor": 0
}

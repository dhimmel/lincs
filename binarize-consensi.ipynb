{
 "cells": [
  {
   "cell_type": "markdown",
   "metadata": {},
   "source": [
    "# LINCS L1000 Gene-Gene edges"
   ]
  },
  {
   "cell_type": "code",
   "execution_count": 1,
   "metadata": {
    "collapsed": false
   },
   "outputs": [
    {
     "name": "stderr",
     "output_type": "stream",
     "text": [
      "/home/dhimmels/anaconda3/lib/python3.5/site-packages/matplotlib/font_manager.py:273: UserWarning: Matplotlib is building the font cache using fc-list. This may take a moment.\n",
      "  warnings.warn('Matplotlib is building the font cache using fc-list. This may take a moment.')\n",
      "/home/dhimmels/anaconda3/lib/python3.5/site-packages/matplotlib/font_manager.py:273: UserWarning: Matplotlib is building the font cache using fc-list. This may take a moment.\n",
      "  warnings.warn('Matplotlib is building the font cache using fc-list. This may take a moment.')\n"
     ]
    }
   ],
   "source": [
    "import json\n",
    "import os\n",
    "import itertools\n",
    "import random\n",
    "\n",
    "import pandas\n",
    "import requests\n",
    "import scipy.stats\n",
    "import numpy\n",
    "import matplotlib.pyplot\n",
    "import seaborn\n",
    "\n",
    "%matplotlib inline"
   ]
  },
  {
   "cell_type": "markdown",
   "metadata": {},
   "source": [
    "## Entrez Gene\n",
    "\n",
    "Read the gene symbol/synonym to entrez_gene_id mapping."
   ]
  },
  {
   "cell_type": "code",
   "execution_count": 2,
   "metadata": {
    "collapsed": false
   },
   "outputs": [],
   "source": [
    "url = 'https://github.com/dhimmel/entrez-gene/raw/a7362748a34211e5df6f2d185bb3246279760546/data/symbol-map.json'\n",
    "symbol_map = json.loads(requests.get(url).text)"
   ]
  },
  {
   "cell_type": "markdown",
   "metadata": {},
   "source": [
    "## LINCS L1000"
   ]
  },
  {
   "cell_type": "code",
   "execution_count": 3,
   "metadata": {
    "collapsed": true
   },
   "outputs": [],
   "source": [
    "def get_bonferroni_z_cutoff(n, alpha=0.05):\n",
    "    \"\"\"Get a two-tailed Bonferroni z-score cutoff\"\"\"\n",
    "    return scipy.stats.norm.ppf(1 - alpha / n / 2) "
   ]
  },
  {
   "cell_type": "code",
   "execution_count": 4,
   "metadata": {
    "collapsed": true
   },
   "outputs": [],
   "source": [
    "def process_matrix(matrix_df, pertubagen_type=str):\n",
    "    z_cutoff = get_bonferroni_z_cutoff(len(matrix_df.columns))\n",
    "    matrix_df.index.name = 'perturbagen'\n",
    "    melt_df = pandas.melt(matrix_df.reset_index(), id_vars='perturbagen', var_name='entrez_gene_id', value_name='z_score')\n",
    "    melt_df.perturbagen = melt_df.perturbagen.astype(pertubagen_type)\n",
    "    melt_df['direction'] = 'none'\n",
    "    melt_df.loc[melt_df.z_score <= -z_cutoff, 'direction'] = 'down'\n",
    "    melt_df.loc[melt_df.z_score >= z_cutoff, 'direction'] = 'up'\n",
    "    #melt_df = melt_df.query(\"direction != 'none'\")\n",
    "    melt_df = melt_df.sort_values(['perturbagen', 'z_score'])\n",
    "    return melt_df"
   ]
  },
  {
   "cell_type": "markdown",
   "metadata": {},
   "source": [
    "### DrugBank perturbagens"
   ]
  },
  {
   "cell_type": "code",
   "execution_count": 5,
   "metadata": {
    "collapsed": false
   },
   "outputs": [
    {
     "data": {
      "text/html": [
       "<div>\n",
       "<table border=\"1\" class=\"dataframe\">\n",
       "  <thead>\n",
       "    <tr style=\"text-align: right;\">\n",
       "      <th></th>\n",
       "      <th>10007</th>\n",
       "      <th>1001</th>\n",
       "      <th>10013</th>\n",
       "      <th>10038</th>\n",
       "      <th>10046</th>\n",
       "      <th>10049</th>\n",
       "      <th>10051</th>\n",
       "      <th>10057</th>\n",
       "      <th>10058</th>\n",
       "      <th>10059</th>\n",
       "      <th>...</th>\n",
       "      <th>9918</th>\n",
       "      <th>9924</th>\n",
       "      <th>9926</th>\n",
       "      <th>9928</th>\n",
       "      <th>993</th>\n",
       "      <th>994</th>\n",
       "      <th>9943</th>\n",
       "      <th>9961</th>\n",
       "      <th>998</th>\n",
       "      <th>9988</th>\n",
       "    </tr>\n",
       "    <tr>\n",
       "      <th>perturbagen</th>\n",
       "      <th></th>\n",
       "      <th></th>\n",
       "      <th></th>\n",
       "      <th></th>\n",
       "      <th></th>\n",
       "      <th></th>\n",
       "      <th></th>\n",
       "      <th></th>\n",
       "      <th></th>\n",
       "      <th></th>\n",
       "      <th></th>\n",
       "      <th></th>\n",
       "      <th></th>\n",
       "      <th></th>\n",
       "      <th></th>\n",
       "      <th></th>\n",
       "      <th></th>\n",
       "      <th></th>\n",
       "      <th></th>\n",
       "      <th></th>\n",
       "      <th></th>\n",
       "    </tr>\n",
       "  </thead>\n",
       "  <tbody>\n",
       "    <tr>\n",
       "      <th>DB00014</th>\n",
       "      <td>0.649</td>\n",
       "      <td>-1.952</td>\n",
       "      <td>-0.133</td>\n",
       "      <td>1.057</td>\n",
       "      <td>0.556</td>\n",
       "      <td>-0.983</td>\n",
       "      <td>0.552</td>\n",
       "      <td>1.179</td>\n",
       "      <td>0.520</td>\n",
       "      <td>-0.741</td>\n",
       "      <td>...</td>\n",
       "      <td>-0.453</td>\n",
       "      <td>0.336</td>\n",
       "      <td>0.211</td>\n",
       "      <td>1.084</td>\n",
       "      <td>0.879</td>\n",
       "      <td>-0.311</td>\n",
       "      <td>0.334</td>\n",
       "      <td>-1.175</td>\n",
       "      <td>-0.560</td>\n",
       "      <td>-0.128</td>\n",
       "    </tr>\n",
       "    <tr>\n",
       "      <th>DB00091</th>\n",
       "      <td>-4.878</td>\n",
       "      <td>2.527</td>\n",
       "      <td>10.730</td>\n",
       "      <td>-2.106</td>\n",
       "      <td>-0.396</td>\n",
       "      <td>0.994</td>\n",
       "      <td>-11.172</td>\n",
       "      <td>2.177</td>\n",
       "      <td>1.137</td>\n",
       "      <td>-9.118</td>\n",
       "      <td>...</td>\n",
       "      <td>-3.132</td>\n",
       "      <td>10.105</td>\n",
       "      <td>1.223</td>\n",
       "      <td>-9.263</td>\n",
       "      <td>-10.680</td>\n",
       "      <td>-6.419</td>\n",
       "      <td>-4.387</td>\n",
       "      <td>-1.646</td>\n",
       "      <td>-5.403</td>\n",
       "      <td>6.926</td>\n",
       "    </tr>\n",
       "  </tbody>\n",
       "</table>\n",
       "<p>2 rows × 978 columns</p>\n",
       "</div>"
      ],
      "text/plain": [
       "             10007   1001   10013  10038  10046  10049   10051  10057  10058  \\\n",
       "perturbagen                                                                    \n",
       "DB00014      0.649 -1.952  -0.133  1.057  0.556 -0.983   0.552  1.179  0.520   \n",
       "DB00091     -4.878  2.527  10.730 -2.106 -0.396  0.994 -11.172  2.177  1.137   \n",
       "\n",
       "             10059  ...     9918    9924   9926   9928     993    994   9943  \\\n",
       "perturbagen         ...                                                        \n",
       "DB00014     -0.741  ...   -0.453   0.336  0.211  1.084   0.879 -0.311  0.334   \n",
       "DB00091     -9.118  ...   -3.132  10.105  1.223 -9.263 -10.680 -6.419 -4.387   \n",
       "\n",
       "              9961    998   9988  \n",
       "perturbagen                       \n",
       "DB00014     -1.175 -0.560 -0.128  \n",
       "DB00091     -1.646 -5.403  6.926  \n",
       "\n",
       "[2 rows x 978 columns]"
      ]
     },
     "execution_count": 5,
     "metadata": {},
     "output_type": "execute_result"
    }
   ],
   "source": [
    "path = os.path.join('data', 'consensi', 'consensi-drugbank.tsv.gz')\n",
    "l1000_df = pandas.read_table(path, index_col=0, compression='gzip')\n",
    "l1000_df.head(2)"
   ]
  },
  {
   "cell_type": "code",
   "execution_count": 6,
   "metadata": {
    "collapsed": false
   },
   "outputs": [
    {
     "data": {
      "text/html": [
       "<div>\n",
       "<table border=\"1\" class=\"dataframe\">\n",
       "  <thead>\n",
       "    <tr style=\"text-align: right;\">\n",
       "      <th></th>\n",
       "      <th>perturbagen</th>\n",
       "      <th>entrez_gene_id</th>\n",
       "      <th>z_score</th>\n",
       "      <th>direction</th>\n",
       "    </tr>\n",
       "  </thead>\n",
       "  <tbody>\n",
       "    <tr>\n",
       "      <th>152100</th>\n",
       "      <td>DB00014</td>\n",
       "      <td>128</td>\n",
       "      <td>-3.156</td>\n",
       "      <td>none</td>\n",
       "    </tr>\n",
       "    <tr>\n",
       "      <th>668070</th>\n",
       "      <td>DB00014</td>\n",
       "      <td>5529</td>\n",
       "      <td>-3.098</td>\n",
       "      <td>none</td>\n",
       "    </tr>\n",
       "  </tbody>\n",
       "</table>\n",
       "</div>"
      ],
      "text/plain": [
       "       perturbagen entrez_gene_id  z_score direction\n",
       "152100     DB00014            128   -3.156      none\n",
       "668070     DB00014           5529   -3.098      none"
      ]
     },
     "execution_count": 6,
     "metadata": {},
     "output_type": "execute_result"
    }
   ],
   "source": [
    "db_df = process_matrix(l1000_df)\n",
    "db_df.head(2)"
   ]
  },
  {
   "cell_type": "code",
   "execution_count": 7,
   "metadata": {
    "collapsed": false
   },
   "outputs": [
    {
     "data": {
      "text/plain": [
       "down    34560\n",
       "up      30280\n",
       "Name: direction, dtype: int64"
      ]
     },
     "execution_count": 7,
     "metadata": {},
     "output_type": "execute_result"
    }
   ],
   "source": [
    "db_diffex_df = db_df.query(\"direction != 'none'\")\n",
    "path = os.path.join('data', 'consensi', 'binary', 'consensi-drugbank-binary.tsv')\n",
    "db_diffex_df.to_csv(path, index=False, sep='\\t')\n",
    "db_diffex_df.direction.value_counts()"
   ]
  },
  {
   "cell_type": "markdown",
   "metadata": {},
   "source": [
    "## Gene interference"
   ]
  },
  {
   "cell_type": "markdown",
   "metadata": {},
   "source": [
    "### Knockdowns"
   ]
  },
  {
   "cell_type": "code",
   "execution_count": 8,
   "metadata": {
    "collapsed": false
   },
   "outputs": [
    {
     "data": {
      "text/html": [
       "<div>\n",
       "<table border=\"1\" class=\"dataframe\">\n",
       "  <thead>\n",
       "    <tr style=\"text-align: right;\">\n",
       "      <th></th>\n",
       "      <th>10007</th>\n",
       "      <th>1001</th>\n",
       "      <th>10013</th>\n",
       "      <th>10038</th>\n",
       "      <th>10046</th>\n",
       "      <th>10049</th>\n",
       "      <th>10051</th>\n",
       "      <th>10057</th>\n",
       "      <th>10058</th>\n",
       "      <th>10059</th>\n",
       "      <th>...</th>\n",
       "      <th>9918</th>\n",
       "      <th>9924</th>\n",
       "      <th>9926</th>\n",
       "      <th>9928</th>\n",
       "      <th>993</th>\n",
       "      <th>994</th>\n",
       "      <th>9943</th>\n",
       "      <th>9961</th>\n",
       "      <th>998</th>\n",
       "      <th>9988</th>\n",
       "    </tr>\n",
       "  </thead>\n",
       "  <tbody>\n",
       "    <tr>\n",
       "      <th>2</th>\n",
       "      <td>0.649</td>\n",
       "      <td>-0.248</td>\n",
       "      <td>-0.295</td>\n",
       "      <td>2.186</td>\n",
       "      <td>2.914</td>\n",
       "      <td>-3.642</td>\n",
       "      <td>1.963</td>\n",
       "      <td>0.603</td>\n",
       "      <td>1.513</td>\n",
       "      <td>0.575</td>\n",
       "      <td>...</td>\n",
       "      <td>-3.001</td>\n",
       "      <td>0.948</td>\n",
       "      <td>0.967</td>\n",
       "      <td>0.780</td>\n",
       "      <td>2.605</td>\n",
       "      <td>1.947</td>\n",
       "      <td>3.807</td>\n",
       "      <td>1.942</td>\n",
       "      <td>0.849</td>\n",
       "      <td>-0.613</td>\n",
       "    </tr>\n",
       "    <tr>\n",
       "      <th>9</th>\n",
       "      <td>0.071</td>\n",
       "      <td>-1.288</td>\n",
       "      <td>0.403</td>\n",
       "      <td>-1.694</td>\n",
       "      <td>4.101</td>\n",
       "      <td>1.107</td>\n",
       "      <td>0.541</td>\n",
       "      <td>-0.414</td>\n",
       "      <td>0.472</td>\n",
       "      <td>-2.552</td>\n",
       "      <td>...</td>\n",
       "      <td>-0.489</td>\n",
       "      <td>-1.707</td>\n",
       "      <td>1.534</td>\n",
       "      <td>-0.024</td>\n",
       "      <td>0.686</td>\n",
       "      <td>-2.716</td>\n",
       "      <td>1.706</td>\n",
       "      <td>-1.048</td>\n",
       "      <td>-0.024</td>\n",
       "      <td>0.206</td>\n",
       "    </tr>\n",
       "  </tbody>\n",
       "</table>\n",
       "<p>2 rows × 978 columns</p>\n",
       "</div>"
      ],
      "text/plain": [
       "   10007   1001  10013  10038  10046  10049  10051  10057  10058  10059  \\\n",
       "2  0.649 -0.248 -0.295  2.186  2.914 -3.642  1.963  0.603  1.513  0.575   \n",
       "9  0.071 -1.288  0.403 -1.694  4.101  1.107  0.541 -0.414  0.472 -2.552   \n",
       "\n",
       "   ...     9918   9924   9926   9928    993    994   9943   9961    998   9988  \n",
       "2  ...   -3.001  0.948  0.967  0.780  2.605  1.947  3.807  1.942  0.849 -0.613  \n",
       "9  ...   -0.489 -1.707  1.534 -0.024  0.686 -2.716  1.706 -1.048 -0.024  0.206  \n",
       "\n",
       "[2 rows x 978 columns]"
      ]
     },
     "execution_count": 8,
     "metadata": {},
     "output_type": "execute_result"
    }
   ],
   "source": [
    "path = os.path.join('data', 'consensi', 'consensi-knockdown.tsv.gz')\n",
    "l1000_kd_df = pandas.read_table(path, index_col=0, compression='gzip')\n",
    "l1000_kd_df = l1000_kd_df.groupby(symbol_map).mean()\n",
    "l1000_kd_df.head(2)"
   ]
  },
  {
   "cell_type": "code",
   "execution_count": 9,
   "metadata": {
    "collapsed": false
   },
   "outputs": [
    {
     "data": {
      "text/plain": [
       "(4326, 978)"
      ]
     },
     "execution_count": 9,
     "metadata": {},
     "output_type": "execute_result"
    }
   ],
   "source": [
    "l1000_kd_df.shape"
   ]
  },
  {
   "cell_type": "code",
   "execution_count": 10,
   "metadata": {
    "collapsed": false
   },
   "outputs": [
    {
     "data": {
      "text/html": [
       "<div>\n",
       "<table border=\"1\" class=\"dataframe\">\n",
       "  <thead>\n",
       "    <tr style=\"text-align: right;\">\n",
       "      <th></th>\n",
       "      <th>perturbagen</th>\n",
       "      <th>entrez_gene_id</th>\n",
       "      <th>z_score</th>\n",
       "      <th>direction</th>\n",
       "    </tr>\n",
       "  </thead>\n",
       "  <tbody>\n",
       "    <tr>\n",
       "      <th>1345386</th>\n",
       "      <td>2</td>\n",
       "      <td>27032</td>\n",
       "      <td>-7.437</td>\n",
       "      <td>down</td>\n",
       "    </tr>\n",
       "    <tr>\n",
       "      <th>1418928</th>\n",
       "      <td>2</td>\n",
       "      <td>2886</td>\n",
       "      <td>-7.407</td>\n",
       "      <td>down</td>\n",
       "    </tr>\n",
       "  </tbody>\n",
       "</table>\n",
       "</div>"
      ],
      "text/plain": [
       "         perturbagen entrez_gene_id  z_score direction\n",
       "1345386            2          27032   -7.437      down\n",
       "1418928            2           2886   -7.407      down"
      ]
     },
     "execution_count": 10,
     "metadata": {},
     "output_type": "execute_result"
    }
   ],
   "source": [
    "kd_df = process_matrix(l1000_kd_df, pertubagen_type=int)\n",
    "kd_df.head(2)"
   ]
  },
  {
   "cell_type": "code",
   "execution_count": 11,
   "metadata": {
    "collapsed": false
   },
   "outputs": [
    {
     "data": {
      "text/plain": [
       "down    140358\n",
       "up       77529\n",
       "Name: direction, dtype: int64"
      ]
     },
     "execution_count": 11,
     "metadata": {},
     "output_type": "execute_result"
    }
   ],
   "source": [
    "kd_diffex_df = kd_df.query(\"direction != 'none'\")\n",
    "path = os.path.join('data', 'consensi', 'binary', 'consensi-knockdown-binary.tsv')\n",
    "kd_diffex_df.to_csv(path, index=False, sep='\\t')\n",
    "kd_diffex_df.direction.value_counts()"
   ]
  },
  {
   "cell_type": "markdown",
   "metadata": {},
   "source": [
    "## Overexpressions"
   ]
  },
  {
   "cell_type": "code",
   "execution_count": 12,
   "metadata": {
    "collapsed": false
   },
   "outputs": [
    {
     "data": {
      "text/html": [
       "<div>\n",
       "<table border=\"1\" class=\"dataframe\">\n",
       "  <thead>\n",
       "    <tr style=\"text-align: right;\">\n",
       "      <th></th>\n",
       "      <th>10007</th>\n",
       "      <th>1001</th>\n",
       "      <th>10013</th>\n",
       "      <th>10038</th>\n",
       "      <th>10046</th>\n",
       "      <th>10049</th>\n",
       "      <th>10051</th>\n",
       "      <th>10057</th>\n",
       "      <th>10058</th>\n",
       "      <th>10059</th>\n",
       "      <th>...</th>\n",
       "      <th>9918</th>\n",
       "      <th>9924</th>\n",
       "      <th>9926</th>\n",
       "      <th>9928</th>\n",
       "      <th>993</th>\n",
       "      <th>994</th>\n",
       "      <th>9943</th>\n",
       "      <th>9961</th>\n",
       "      <th>998</th>\n",
       "      <th>9988</th>\n",
       "    </tr>\n",
       "  </thead>\n",
       "  <tbody>\n",
       "    <tr>\n",
       "      <th>2</th>\n",
       "      <td>0.284</td>\n",
       "      <td>-0.606</td>\n",
       "      <td>-0.382</td>\n",
       "      <td>1.000</td>\n",
       "      <td>-1.098</td>\n",
       "      <td>1.174</td>\n",
       "      <td>-0.230</td>\n",
       "      <td>-0.340</td>\n",
       "      <td>-0.003</td>\n",
       "      <td>0.249</td>\n",
       "      <td>...</td>\n",
       "      <td>-0.031</td>\n",
       "      <td>1.540</td>\n",
       "      <td>-1.100</td>\n",
       "      <td>0.077</td>\n",
       "      <td>0.424</td>\n",
       "      <td>-0.480</td>\n",
       "      <td>-0.394</td>\n",
       "      <td>-0.945</td>\n",
       "      <td>-0.324</td>\n",
       "      <td>0.210</td>\n",
       "    </tr>\n",
       "    <tr>\n",
       "      <th>9</th>\n",
       "      <td>0.911</td>\n",
       "      <td>-1.141</td>\n",
       "      <td>1.293</td>\n",
       "      <td>1.144</td>\n",
       "      <td>0.304</td>\n",
       "      <td>-0.919</td>\n",
       "      <td>-0.333</td>\n",
       "      <td>-0.233</td>\n",
       "      <td>0.359</td>\n",
       "      <td>0.341</td>\n",
       "      <td>...</td>\n",
       "      <td>-1.480</td>\n",
       "      <td>0.252</td>\n",
       "      <td>0.974</td>\n",
       "      <td>1.800</td>\n",
       "      <td>0.920</td>\n",
       "      <td>0.637</td>\n",
       "      <td>0.639</td>\n",
       "      <td>0.781</td>\n",
       "      <td>0.550</td>\n",
       "      <td>0.371</td>\n",
       "    </tr>\n",
       "  </tbody>\n",
       "</table>\n",
       "<p>2 rows × 978 columns</p>\n",
       "</div>"
      ],
      "text/plain": [
       "   10007   1001  10013  10038  10046  10049  10051  10057  10058  10059  \\\n",
       "2  0.284 -0.606 -0.382  1.000 -1.098  1.174 -0.230 -0.340 -0.003  0.249   \n",
       "9  0.911 -1.141  1.293  1.144  0.304 -0.919 -0.333 -0.233  0.359  0.341   \n",
       "\n",
       "   ...     9918   9924   9926   9928    993    994   9943   9961    998   9988  \n",
       "2  ...   -0.031  1.540 -1.100  0.077  0.424 -0.480 -0.394 -0.945 -0.324  0.210  \n",
       "9  ...   -1.480  0.252  0.974  1.800  0.920  0.637  0.639  0.781  0.550  0.371  \n",
       "\n",
       "[2 rows x 978 columns]"
      ]
     },
     "execution_count": 12,
     "metadata": {},
     "output_type": "execute_result"
    }
   ],
   "source": [
    "path = os.path.join('data', 'consensi', 'consensi-overexpression.tsv.gz')\n",
    "l1000_oe_df = pandas.read_table(path, index_col=0, compression='gzip')\n",
    "l1000_oe_df = l1000_oe_df.groupby(symbol_map).mean()\n",
    "l1000_oe_df.head(2)"
   ]
  },
  {
   "cell_type": "code",
   "execution_count": 13,
   "metadata": {
    "collapsed": false
   },
   "outputs": [
    {
     "data": {
      "text/plain": [
       "(2413, 978)"
      ]
     },
     "execution_count": 13,
     "metadata": {},
     "output_type": "execute_result"
    }
   ],
   "source": [
    "l1000_oe_df.shape"
   ]
  },
  {
   "cell_type": "code",
   "execution_count": 14,
   "metadata": {
    "collapsed": false
   },
   "outputs": [
    {
     "data": {
      "text/html": [
       "<div>\n",
       "<table border=\"1\" class=\"dataframe\">\n",
       "  <thead>\n",
       "    <tr style=\"text-align: right;\">\n",
       "      <th></th>\n",
       "      <th>perturbagen</th>\n",
       "      <th>entrez_gene_id</th>\n",
       "      <th>z_score</th>\n",
       "      <th>direction</th>\n",
       "    </tr>\n",
       "  </thead>\n",
       "  <tbody>\n",
       "    <tr>\n",
       "      <th>2328545</th>\n",
       "      <td>2</td>\n",
       "      <td>991</td>\n",
       "      <td>-4.687</td>\n",
       "      <td>down</td>\n",
       "    </tr>\n",
       "    <tr>\n",
       "      <th>1831467</th>\n",
       "      <td>2</td>\n",
       "      <td>7159</td>\n",
       "      <td>-3.963</td>\n",
       "      <td>none</td>\n",
       "    </tr>\n",
       "  </tbody>\n",
       "</table>\n",
       "</div>"
      ],
      "text/plain": [
       "         perturbagen entrez_gene_id  z_score direction\n",
       "2328545            2            991   -4.687      down\n",
       "1831467            2           7159   -3.963      none"
      ]
     },
     "execution_count": 14,
     "metadata": {},
     "output_type": "execute_result"
    }
   ],
   "source": [
    "oe_df = process_matrix(l1000_oe_df, pertubagen_type=int)\n",
    "oe_df.head(2)"
   ]
  },
  {
   "cell_type": "code",
   "execution_count": 15,
   "metadata": {
    "collapsed": false
   },
   "outputs": [
    {
     "data": {
      "text/plain": [
       "up      15345\n",
       "down    14962\n",
       "Name: direction, dtype: int64"
      ]
     },
     "execution_count": 15,
     "metadata": {},
     "output_type": "execute_result"
    }
   ],
   "source": [
    "oe_diffex_df = oe_df.query(\"direction != 'none'\")\n",
    "path = os.path.join('data', 'consensi', 'binary', 'consensi-overexpression-binary.tsv')\n",
    "oe_diffex_df.to_csv(path, index=False, sep='\\t')\n",
    "oe_diffex_df.direction.value_counts()"
   ]
  },
  {
   "cell_type": "markdown",
   "metadata": {},
   "source": [
    "## Compare knockdowns and overexpressions"
   ]
  },
  {
   "cell_type": "code",
   "execution_count": 16,
   "metadata": {
    "collapsed": false
   },
   "outputs": [],
   "source": [
    "# Find genes with both a knockdown and overexpression signature\n",
    "overlapping_genes = sorted(set(l1000_kd_df.index.map(int)) & set(l1000_oe_df.index.map(int)))"
   ]
  },
  {
   "cell_type": "code",
   "execution_count": 17,
   "metadata": {
    "collapsed": false
   },
   "outputs": [],
   "source": [
    "def get_corr(knockeddown_gene, overexpressed_gene):\n",
    "    \"\"\"Find the Spearman's correlation of a knockdown signature and an overexpression signature\"\"\"\n",
    "    knockdown_signature = l1000_kd_df.loc[knockeddown_gene, :]\n",
    "    overexpression_signature = l1000_oe_df.loc[overexpressed_gene, :]\n",
    "    return knockdown_signature.corr(overexpression_signature, method='spearman')\n",
    "\n",
    "rows = list()\n",
    "\n",
    "for gene in overlapping_genes:\n",
    "    row = gene, gene, 'Same Genes', get_corr(gene, gene)\n",
    "    rows.append(row)\n",
    "\n",
    "control_pairs = list(itertools.combinations(overlapping_genes, 2))\n",
    "control_pairs = random.sample(control_pairs, k=4 * len(overlapping_genes))\n",
    "for gene_kd, gene_oe in control_pairs:\n",
    "    row = gene_kd, gene_oe, 'Different Genes', get_corr(gene_kd, gene_oe)\n",
    "    rows.append(row)\n",
    "\n",
    "corr_df = pandas.DataFrame(rows, columns = ('knockdown', 'overexpression', 'kind', 'spearman'))"
   ]
  },
  {
   "cell_type": "code",
   "execution_count": 18,
   "metadata": {
    "collapsed": false
   },
   "outputs": [
    {
     "data": {
      "text/html": [
       "<div>\n",
       "<table border=\"1\" class=\"dataframe\">\n",
       "  <thead>\n",
       "    <tr style=\"text-align: right;\">\n",
       "      <th></th>\n",
       "      <th>knockdown</th>\n",
       "      <th>overexpression</th>\n",
       "      <th>kind</th>\n",
       "      <th>spearman</th>\n",
       "    </tr>\n",
       "  </thead>\n",
       "  <tbody>\n",
       "    <tr>\n",
       "      <th>0</th>\n",
       "      <td>2</td>\n",
       "      <td>2</td>\n",
       "      <td>Same Genes</td>\n",
       "      <td>-0.346204</td>\n",
       "    </tr>\n",
       "    <tr>\n",
       "      <th>1</th>\n",
       "      <td>9</td>\n",
       "      <td>9</td>\n",
       "      <td>Same Genes</td>\n",
       "      <td>-0.026034</td>\n",
       "    </tr>\n",
       "  </tbody>\n",
       "</table>\n",
       "</div>"
      ],
      "text/plain": [
       "   knockdown  overexpression        kind  spearman\n",
       "0          2               2  Same Genes -0.346204\n",
       "1          9               9  Same Genes -0.026034"
      ]
     },
     "execution_count": 18,
     "metadata": {},
     "output_type": "execute_result"
    }
   ],
   "source": [
    "corr_df.head(2)"
   ]
  },
  {
   "cell_type": "code",
   "execution_count": 19,
   "metadata": {
    "collapsed": false
   },
   "outputs": [
    {
     "data": {
      "text/html": [
       "<div>\n",
       "<table border=\"1\" class=\"dataframe\">\n",
       "  <thead>\n",
       "    <tr style=\"text-align: right;\">\n",
       "      <th></th>\n",
       "      <th>knockdown</th>\n",
       "      <th>overexpression</th>\n",
       "      <th>kind</th>\n",
       "      <th>spearman</th>\n",
       "    </tr>\n",
       "  </thead>\n",
       "  <tbody>\n",
       "    <tr>\n",
       "      <th>10018</th>\n",
       "      <td>3221</td>\n",
       "      <td>125965</td>\n",
       "      <td>Different Genes</td>\n",
       "      <td>0.348424</td>\n",
       "    </tr>\n",
       "    <tr>\n",
       "      <th>10019</th>\n",
       "      <td>2189</td>\n",
       "      <td>7052</td>\n",
       "      <td>Different Genes</td>\n",
       "      <td>0.010353</td>\n",
       "    </tr>\n",
       "  </tbody>\n",
       "</table>\n",
       "</div>"
      ],
      "text/plain": [
       "       knockdown  overexpression             kind  spearman\n",
       "10018       3221          125965  Different Genes  0.348424\n",
       "10019       2189            7052  Different Genes  0.010353"
      ]
     },
     "execution_count": 19,
     "metadata": {},
     "output_type": "execute_result"
    }
   ],
   "source": [
    "corr_df.tail(2)"
   ]
  },
  {
   "cell_type": "code",
   "execution_count": 20,
   "metadata": {
    "collapsed": true
   },
   "outputs": [],
   "source": [
    "seaborn.set(style='whitegrid')\n",
    "seaborn.set_style({'figure.figsize': (5, 2)})"
   ]
  },
  {
   "cell_type": "code",
   "execution_count": 21,
   "metadata": {
    "collapsed": false
   },
   "outputs": [
    {
     "data": {
      "image/png": "[encoded data removed]",
      "text/plain": [
       "<matplotlib.figure.Figure at 0x7fe0eb0c3a58>"
      ]
     },
     "metadata": {},
     "output_type": "display_data"
    }
   ],
   "source": [
    "ax = seaborn.violinplot(x='spearman', y='kind', data=corr_df, inner='quartile')\n",
    "text = ax.set_xlabel(\"Spearman's correlation\")\n",
    "text = ax.set_ylabel('')\n",
    "matplotlib.pyplot.savefig('viz/knockdown-overexpression-corr.png', bbox_inches='tight', cut=0)"
   ]
  },
  {
   "cell_type": "code",
   "execution_count": 22,
   "metadata": {
    "collapsed": false
   },
   "outputs": [
    {
     "data": {
      "text/plain": [
       "kind\n",
       "Different Genes    65.256986\n",
       "Same Genes         65.019960\n",
       "Name: spearman, dtype: float64"
      ]
     },
     "execution_count": 22,
     "metadata": {},
     "output_type": "execute_result"
    }
   ],
   "source": [
    "# Percent of correlations that are positive\n",
    "100 * corr_df.groupby('kind').spearman.apply(lambda x: (x > 0).mean())"
   ]
  },
  {
   "cell_type": "markdown",
   "metadata": {},
   "source": [
    "### Compare knockdowns and overexpressions using perturbagen-gene pairs as observations"
   ]
  },
  {
   "cell_type": "code",
   "execution_count": 23,
   "metadata": {
    "collapsed": false
   },
   "outputs": [
    {
     "data": {
      "text/plain": [
       "(133670, 2235)"
      ]
     },
     "execution_count": 23,
     "metadata": {},
     "output_type": "execute_result"
    }
   ],
   "source": [
    "kd_df = kd_df.rename(columns = {'z_score': 'z_score_kd', 'direction': 'direction_kd'})\n",
    "oe_df = oe_df.rename(columns = {'z_score': 'z_score_oe', 'direction': 'direction_oe'})\n",
    "merged_df = kd_df.merge(oe_df)\n",
    "signif_df = merged_df.query(\"direction_kd != 'none' or (direction_oe != 'none')\")\n",
    "double_df = merged_df.query(\"direction_kd != 'none' and (direction_oe != 'none')\")\n",
    "len(signif_df), len(double_df)"
   ]
  },
  {
   "cell_type": "code",
   "execution_count": 24,
   "metadata": {
    "collapsed": false
   },
   "outputs": [
    {
     "data": {
      "image/png": "[encoded data removed]",
      "text/plain": [
       "<matplotlib.figure.Figure at 0x7fe0eb13fdd8>"
      ]
     },
     "metadata": {},
     "output_type": "display_data"
    }
   ],
   "source": [
    "# Comparing overexpression versus knockdown of the same gene\n",
    "grid = seaborn.jointplot(numpy.arcsinh(merged_df.z_score_kd), numpy.arcsinh(merged_df.z_score_oe), kind='hex', gridsize=50)"
   ]
  },
  {
   "cell_type": "code",
   "execution_count": 25,
   "metadata": {
    "collapsed": false,
    "scrolled": false
   },
   "outputs": [
    {
     "data": {
      "image/png": "[encoded data removed]",
      "text/plain": [
       "<matplotlib.figure.Figure at 0x7fe0f3006cf8>"
      ]
     },
     "metadata": {},
     "output_type": "display_data"
    }
   ],
   "source": [
    "# Comparing overexpression versus knockdown of the same gene\n",
    "# Filtering for significant up or down-regulation\n",
    "grid = seaborn.jointplot(numpy.arcsinh(signif_df.z_score_kd), numpy.arcsinh(signif_df.z_score_oe), kind='hex', gridsize=50)"
   ]
  },
  {
   "cell_type": "code",
   "execution_count": 26,
   "metadata": {
    "collapsed": false
   },
   "outputs": [
    {
     "data": {
      "image/png": "[encoded data removed]",
      "text/plain": [
       "<matplotlib.figure.Figure at 0x7fe0dcd0ff98>"
      ]
     },
     "metadata": {},
     "output_type": "display_data"
    }
   ],
   "source": [
    "# Comparing overexpression versus knockdown of the same gene\n",
    "# Filtering for significant up and down-regulation\n",
    "grid = seaborn.jointplot(numpy.arcsinh(double_df.z_score_kd), numpy.arcsinh(double_df.z_score_oe), kind='hex', gridsize=50)"
   ]
  },
  {
   "cell_type": "code",
   "execution_count": 27,
   "metadata": {
    "collapsed": false
   },
   "outputs": [
    {
     "data": {
      "text/html": [
       "<div>\n",
       "<table border=\"1\" class=\"dataframe\">\n",
       "  <thead>\n",
       "    <tr style=\"text-align: right;\">\n",
       "      <th>direction_oe</th>\n",
       "      <th>down</th>\n",
       "      <th>none</th>\n",
       "      <th>up</th>\n",
       "    </tr>\n",
       "    <tr>\n",
       "      <th>direction_kd</th>\n",
       "      <th></th>\n",
       "      <th></th>\n",
       "      <th></th>\n",
       "    </tr>\n",
       "  </thead>\n",
       "  <tbody>\n",
       "    <tr>\n",
       "      <th>down</th>\n",
       "      <td>1039</td>\n",
       "      <td>69379</td>\n",
       "      <td>368</td>\n",
       "    </tr>\n",
       "    <tr>\n",
       "      <th>none</th>\n",
       "      <td>11289</td>\n",
       "      <td>1826242</td>\n",
       "      <td>11502</td>\n",
       "    </tr>\n",
       "    <tr>\n",
       "      <th>up</th>\n",
       "      <td>164</td>\n",
       "      <td>39265</td>\n",
       "      <td>664</td>\n",
       "    </tr>\n",
       "  </tbody>\n",
       "</table>\n",
       "</div>"
      ],
      "text/plain": [
       "direction_oe   down     none     up\n",
       "direction_kd                       \n",
       "down           1039    69379    368\n",
       "none          11289  1826242  11502\n",
       "up              164    39265    664"
      ]
     },
     "execution_count": 27,
     "metadata": {},
     "output_type": "execute_result"
    }
   ],
   "source": [
    "# Counts (overexpression as columns, knockdowns as rows)\n",
    "table = pandas.crosstab(merged_df.direction_kd, merged_df.direction_oe)\n",
    "table"
   ]
  },
  {
   "cell_type": "code",
   "execution_count": 28,
   "metadata": {
    "collapsed": false
   },
   "outputs": [
    {
     "data": {
      "text/html": [
       "<div>\n",
       "<table border=\"1\" class=\"dataframe\">\n",
       "  <thead>\n",
       "    <tr style=\"text-align: right;\">\n",
       "      <th></th>\n",
       "      <th>down</th>\n",
       "      <th>none</th>\n",
       "      <th>up</th>\n",
       "    </tr>\n",
       "    <tr>\n",
       "      <th>direction_kd</th>\n",
       "      <th></th>\n",
       "      <th></th>\n",
       "      <th></th>\n",
       "    </tr>\n",
       "  </thead>\n",
       "  <tbody>\n",
       "    <tr>\n",
       "      <th>down</th>\n",
       "      <td>0.053</td>\n",
       "      <td>3.540</td>\n",
       "      <td>0.019</td>\n",
       "    </tr>\n",
       "    <tr>\n",
       "      <th>none</th>\n",
       "      <td>0.576</td>\n",
       "      <td>93.180</td>\n",
       "      <td>0.587</td>\n",
       "    </tr>\n",
       "    <tr>\n",
       "      <th>up</th>\n",
       "      <td>0.008</td>\n",
       "      <td>2.003</td>\n",
       "      <td>0.034</td>\n",
       "    </tr>\n",
       "  </tbody>\n",
       "</table>\n",
       "</div>"
      ],
      "text/plain": [
       "               down    none     up\n",
       "direction_kd                      \n",
       "down          0.053   3.540  0.019\n",
       "none          0.576  93.180  0.587\n",
       "up            0.008   2.003  0.034"
      ]
     },
     "execution_count": 28,
     "metadata": {},
     "output_type": "execute_result"
    }
   ],
   "source": [
    "# Counts as percentages (overexpression as columns, knockdowns as rows)\n",
    "(100 * table / table.sum().sum()).round(3)"
   ]
  },
  {
   "cell_type": "code",
   "execution_count": 29,
   "metadata": {
    "collapsed": false
   },
   "outputs": [
    {
     "data": {
      "text/html": [
       "<div>\n",
       "<table border=\"1\" class=\"dataframe\">\n",
       "  <thead>\n",
       "    <tr style=\"text-align: right;\">\n",
       "      <th></th>\n",
       "      <th>down</th>\n",
       "      <th>none</th>\n",
       "      <th>up</th>\n",
       "    </tr>\n",
       "    <tr>\n",
       "      <th>direction_kd</th>\n",
       "      <th></th>\n",
       "      <th></th>\n",
       "      <th></th>\n",
       "    </tr>\n",
       "  </thead>\n",
       "  <tbody>\n",
       "    <tr>\n",
       "      <th>down</th>\n",
       "      <td>8.317</td>\n",
       "      <td>3.586</td>\n",
       "      <td>2.936</td>\n",
       "    </tr>\n",
       "    <tr>\n",
       "      <th>none</th>\n",
       "      <td>90.370</td>\n",
       "      <td>94.385</td>\n",
       "      <td>91.766</td>\n",
       "    </tr>\n",
       "    <tr>\n",
       "      <th>up</th>\n",
       "      <td>1.313</td>\n",
       "      <td>2.029</td>\n",
       "      <td>5.298</td>\n",
       "    </tr>\n",
       "  </tbody>\n",
       "</table>\n",
       "</div>"
      ],
      "text/plain": [
       "                down    none      up\n",
       "direction_kd                        \n",
       "down           8.317   3.586   2.936\n",
       "none          90.370  94.385  91.766\n",
       "up             1.313   2.029   5.298"
      ]
     },
     "execution_count": 29,
     "metadata": {},
     "output_type": "execute_result"
    }
   ],
   "source": [
    "# Columns sum to 100\n",
    "(100 * table.divide(table.sum(0), axis=1)).round(3)"
   ]
  },
  {
   "cell_type": "code",
   "execution_count": 30,
   "metadata": {
    "collapsed": false
   },
   "outputs": [
    {
     "data": {
      "text/html": [
       "<div>\n",
       "<table border=\"1\" class=\"dataframe\">\n",
       "  <thead>\n",
       "    <tr style=\"text-align: right;\">\n",
       "      <th></th>\n",
       "      <th>down</th>\n",
       "      <th>none</th>\n",
       "      <th>up</th>\n",
       "    </tr>\n",
       "    <tr>\n",
       "      <th>direction_kd</th>\n",
       "      <th></th>\n",
       "      <th></th>\n",
       "      <th></th>\n",
       "    </tr>\n",
       "  </thead>\n",
       "  <tbody>\n",
       "    <tr>\n",
       "      <th>down</th>\n",
       "      <td>1.468</td>\n",
       "      <td>98.012</td>\n",
       "      <td>0.520</td>\n",
       "    </tr>\n",
       "    <tr>\n",
       "      <th>none</th>\n",
       "      <td>0.611</td>\n",
       "      <td>98.767</td>\n",
       "      <td>0.622</td>\n",
       "    </tr>\n",
       "    <tr>\n",
       "      <th>up</th>\n",
       "      <td>0.409</td>\n",
       "      <td>97.935</td>\n",
       "      <td>1.656</td>\n",
       "    </tr>\n",
       "  </tbody>\n",
       "</table>\n",
       "</div>"
      ],
      "text/plain": [
       "               down    none     up\n",
       "direction_kd                      \n",
       "down          1.468  98.012  0.520\n",
       "none          0.611  98.767  0.622\n",
       "up            0.409  97.935  1.656"
      ]
     },
     "execution_count": 30,
     "metadata": {},
     "output_type": "execute_result"
    }
   ],
   "source": [
    "# Rows sum to 100\n",
    "(100 * table.divide(table.sum(1), axis=0)).round(3)"
   ]
  }
 ],
 "metadata": {
  "kernelspec": {
   "display_name": "Python 3",
   "language": "python",
   "name": "python3"
  },
  "language_info": {
   "codemirror_mode": {
    "name": "ipython",
    "version": 3
   },
   "file_extension": ".py",
   "mimetype": "text/x-python",
   "name": "python",
   "nbconvert_exporter": "python",
   "pygments_lexer": "ipython3",
   "version": "3.5.1"
  }
 },
 "nbformat": 4,
 "nbformat_minor": 0
}

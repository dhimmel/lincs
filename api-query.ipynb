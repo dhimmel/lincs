{
 "cells": [
  {
   "cell_type": "code",
   "execution_count": 2,
   "metadata": {
    "collapsed": false
   },
   "outputs": [],
   "source": [
    "import collections\n",
    "import csv\n",
    "import math\n",
    "import json\n",
    "import os\n",
    "import gzip\n",
    "import pprint\n",
    "import sys\n",
    "\n",
    "import requests\n",
    "import pubchempy"
   ]
  },
  {
   "cell_type": "code",
   "execution_count": 5,
   "metadata": {
    "collapsed": false
   },
   "outputs": [],
   "source": [
    "# LINCS API variables\n",
    "# http://api.lincscloud.org/\n",
    "api_version = 'a2'\n",
    "service = 'pertinfo'\n",
    "api_url = 'http://api.lincscloud.org/{}/{}'.format(api_version, service)\n",
    "with open(os.path.join('private', 'apikey.txt')) as read_file:\n",
    "    api_key = read_file.read().rstrip()\n",
    "block_size = 100 # max is 1000"
   ]
  },
  {
   "cell_type": "code",
   "execution_count": null,
   "metadata": {
    "collapsed": false
   },
   "outputs": [],
   "source": [
    "def json_from_url(base, params):\n",
    "    \"\"\"Parse and return a json file obtained from the specified url.\"\"\"\n",
    "    response = requests.get(base, params=params)\n",
    "    return response.json()\n",
    "\n",
    "def query_links_api(query, verbose=False):\n",
    "    \"\"\" \"\"\"\n",
    "    url_data = {'q': query, 'l': block_size, 'sk': 0, 'user_key': api_key, 'c': 'true'}\n",
    "    \n",
    "    num_docs = json_from_url(api_url, url_data)['count']\n",
    "    num_blocks = int(math.ceil(float(num_docs) / block_size))\n",
    "    del url_data['c']\n",
    "    if verbose:\n",
    "        print '{} results: splitting query into {} chunks of {}.'.format(num_docs, num_blocks, block_size)\n",
    "    \n",
    "    results = list()\n",
    "    for i in range(num_blocks):\n",
    "        if verbose:\n",
    "            print 'Chunk {}/{}'.format(i + 1, num_blocks)\n",
    "        url_data['sk'] =  i * block_size\n",
    "        results += json_from_url(api_url, url_data)\n",
    "    \n",
    "    return results"
   ]
  },
  {
   "cell_type": "code",
   "execution_count": null,
   "metadata": {
    "collapsed": true
   },
   "outputs": [],
   "source": [
    "query = '{\"pert_type\":\"trt_cp\"}'\n",
    "compounds = query_links_api(query)"
   ]
  },
  {
   "cell_type": "code",
   "execution_count": null,
   "metadata": {
    "collapsed": false
   },
   "outputs": [],
   "source": [
    "path = os.path.join('data', 'lincs_small_molecules.json.gz')\n",
    "with gzip.open(path, 'w') as write_file:\n",
    "    json.dump(compounds, write_file)"
   ]
  }
 ],
 "metadata": {
  "kernelspec": {
   "display_name": "Python 3",
   "language": "python",
   "name": "python3"
  },
  "language_info": {
   "codemirror_mode": {
    "name": "ipython",
    "version": 3
   },
   "file_extension": ".py",
   "mimetype": "text/x-python",
   "name": "python",
   "nbconvert_exporter": "python",
   "pygments_lexer": "ipython3",
   "version": "3.4.0"
  }
 },
 "nbformat": 4,
 "nbformat_minor": 0
}

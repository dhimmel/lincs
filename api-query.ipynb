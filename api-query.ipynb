{
 "cells": [
  {
   "cell_type": "markdown",
   "metadata": {},
   "source": [
    "# Warning: untested and written for python 2.7\n",
    "\n",
    "This code was part of a larger codebase, but was used to produce `lincs_small_molecules.json.gz` and `lincs_small_molecules.tsv`."
   ]
  },
  {
   "cell_type": "code",
   "execution_count": 2,
   "metadata": {
    "collapsed": false
   },
   "outputs": [],
   "source": [
    "import collections\n",
    "import csv\n",
    "import math\n",
    "import json\n",
    "import os\n",
    "import gzip\n",
    "import pprint\n",
    "import sys\n",
    "\n",
    "import requests\n",
    "import pubchempy"
   ]
  },
  {
   "cell_type": "code",
   "execution_count": 5,
   "metadata": {
    "collapsed": false
   },
   "outputs": [],
   "source": [
    "# LINCS API variables\n",
    "# http://api.lincscloud.org/\n",
    "api_version = 'a2'\n",
    "service = 'pertinfo'\n",
    "api_url = 'http://api.lincscloud.org/{}/{}'.format(api_version, service)\n",
    "with open(os.path.join('private', 'apikey.txt')) as read_file:\n",
    "    api_key = read_file.read().rstrip()\n",
    "block_size = 100 # max is 1000"
   ]
  },
  {
   "cell_type": "code",
   "execution_count": null,
   "metadata": {
    "collapsed": false
   },
   "outputs": [],
   "source": [
    "def json_from_url(base, params):\n",
    "    \"\"\"Parse and return a json file obtained from the specified url.\"\"\"\n",
    "    response = requests.get(base, params=params)\n",
    "    return response.json()\n",
    "\n",
    "def query_links_api(query, verbose=False):\n",
    "    \"\"\" \"\"\"\n",
    "    url_data = {'q': query, 'l': block_size, 'sk': 0, 'user_key': api_key, 'c': 'true'}\n",
    "    \n",
    "    num_docs = json_from_url(api_url, url_data)['count']\n",
    "    num_blocks = int(math.ceil(float(num_docs) / block_size))\n",
    "    del url_data['c']\n",
    "    if verbose:\n",
    "        print '{} results: splitting query into {} chunks of {}.'.format(num_docs, num_blocks, block_size)\n",
    "    \n",
    "    results = list()\n",
    "    for i in range(num_blocks):\n",
    "        if verbose:\n",
    "            print 'Chunk {}/{}'.format(i + 1, num_blocks)\n",
    "        url_data['sk'] =  i * block_size\n",
    "        results += json_from_url(api_url, url_data)\n",
    "    \n",
    "    return results"
   ]
  },
  {
   "cell_type": "code",
   "execution_count": null,
   "metadata": {
    "collapsed": true
   },
   "outputs": [],
   "source": [
    "query = '{\"pert_type\":\"trt_cp\"}'\n",
    "compounds = query_links_api(query)"
   ]
  },
  {
   "cell_type": "code",
   "execution_count": null,
   "metadata": {
    "collapsed": false
   },
   "outputs": [],
   "source": [
    "path = os.path.join('data', 'lincs_small_molecules.json.gz')\n",
    "with gzip.open(path, 'w') as write_file:\n",
    "    json.dump(compounds, write_file)"
   ]
  },
  {
   "cell_type": "markdown",
   "metadata": {},
   "source": [
    "## Start here to read lincs catalog from json rather than REST api\n",
    "query pubchem for parent compounds"
   ]
  },
  {
   "cell_type": "code",
   "execution_count": null,
   "metadata": {
    "collapsed": true
   },
   "outputs": [],
   "source": [
    "path = os.path.join('data', 'lincs_small_molecules.json.gz')\n",
    "with gzip.open(path) as read_file:\n",
    "    compounds = json.load(read_file)"
   ]
  },
  {
   "cell_type": "code",
   "execution_count": null,
   "metadata": {
    "collapsed": true
   },
   "outputs": [],
   "source": [
    "# Set missing pubchem_cid records to None\n",
    "for compound in compounds:\n",
    "    pubchem_cid = compound.get('pubchem_cid')\n",
    "    try:\n",
    "        pubchem_cid = int(pubchem_cid)\n",
    "    except (ValueError, TypeError) as e:\n",
    "        compound['pubchem_cid'] = None\n",
    "        continue\n",
    "    if pubchem_cid <= 0:\n",
    "        compound['pubchem_cid'] = None"
   ]
  },
  {
   "cell_type": "code",
   "execution_count": null,
   "metadata": {
    "collapsed": true
   },
   "outputs": [],
   "source": [
    "def get_pubchem_parent(cid, orphans_as_self=True):\n",
    "    \"\"\"\n",
    "    From a pubchem_cid, retreive the parent compound's cid.\n",
    "    If function is unsuccesful in retrieving a single parent,\n",
    "    `orphans_as_self = True` returns `cid` rather than None.\n",
    "    \n",
    "    According to pubmed:\n",
    "    \n",
    "    > A parent is conceptually the \"important\" part of the molecule\n",
    "    > when the molecule has more than one covalent component.\n",
    "    > Specifically, a parent component must have at least one carbon\n",
    "    > and contain at least 70% of the heavy (non-hydrogen) atoms of\n",
    "    > all the unique covalent units (ignoring stoichiometry).\n",
    "    > Note that this is a very empirical definition and is subject to change.\n",
    "\n",
    "    A parallel query can be executed using the REST PUG API:\n",
    "    http://pubchem.ncbi.nlm.nih.gov/rest/pug/compound/cid/11477084/cids/XML?cids_type=parent\n",
    "    \"\"\"\n",
    "    assert cid\n",
    "    \n",
    "    try:\n",
    "        parent_cids = pubchempy.get_cids(identifier=cid, namespace='cid', domain='compound', cids_type='parent')\n",
    "    except pubchempy.BadRequestError as e:\n",
    "        print 'Error getting parent of {}. {}'.format(cid, e)\n",
    "        return cid if orphans_as_self else None\n",
    "    try:\n",
    "        parent_cid, = parent_cids\n",
    "        return parent_cid\n",
    "    except ValueError:\n",
    "        print 'Error getting parent of {}. Parents retreived: {}'.format(cid, parent_cids)\n",
    "    return cid if orphans_as_self else None"
   ]
  },
  {
   "cell_type": "code",
   "execution_count": null,
   "metadata": {
    "collapsed": true
   },
   "outputs": [],
   "source": [
    "for i, compound in enumerate(compounds):\n",
    "    if i % 1000 == 0:\n",
    "        print '{} / {} compounds complete'.format(i, len(compounds))\n",
    "    if 'parent_cid' in compound:\n",
    "        #print 'parent cached for {}'.format(compound['pert_iname'])\n",
    "        continue\n",
    "    pubchem_cid = compound.get('pubchem_cid')\n",
    "    if not pubchem_cid:\n",
    "        print 'No pubchem_cid record for {}'.format(compound['pert_iname'])\n",
    "        compound['parent_cid'] = None\n",
    "        continue\n",
    "    compound['parent_cid'] = get_pubchem_parent(pubchem_cid)\n",
    "    sys.stdout.flush()"
   ]
  },
  {
   "cell_type": "code",
   "execution_count": null,
   "metadata": {
    "collapsed": true
   },
   "outputs": [],
   "source": [
    "# http://api.lincscloud.org/a2/docs/pertinfo\n",
    "fields = ['pert_id', 'pert_iname', 'pubchem_cid', 'parent_cid', 'molecular_formula',\n",
    "          'molecular_wt', 'pert_vendor', 'num_gold', 'num_inst', 'num_sig', \n",
    "          'canonical_smiles', 'inchi_key', 'inchi_string']\n",
    "\n",
    "path = os.path.join('data', 'lincs_small_molecules.tsv')\n",
    "with open(path, 'w') as write_file:\n",
    "    writer = csv.DictWriter(write_file, delimiter='\\t', fieldnames=fields, extrasaction='ignore')\n",
    "    writer.writeheader()\n",
    "    writer.writerows(compounds)"
   ]
  }
 ],
 "metadata": {
  "kernelspec": {
   "display_name": "Python 3",
   "language": "python",
   "name": "python3"
  },
  "language_info": {
   "codemirror_mode": {
    "name": "ipython",
    "version": 3
   },
   "file_extension": ".py",
   "mimetype": "text/x-python",
   "name": "python",
   "nbconvert_exporter": "python",
   "pygments_lexer": "ipython3",
   "version": "3.4.3"
  }
 },
 "nbformat": 4,
 "nbformat_minor": 0
}

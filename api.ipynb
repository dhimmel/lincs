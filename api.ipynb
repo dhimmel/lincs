{
 "cells": [
  {
   "cell_type": "code",
   "execution_count": 52,
   "metadata": {
    "collapsed": false
   },
   "outputs": [],
   "source": [
    "import os\n",
    "import io\n",
    "import json\n",
    "import gzip\n",
    "import functools\n",
    "\n",
    "import pandas\n",
    "\n",
    "from api import query_lincs_api"
   ]
  },
  {
   "cell_type": "code",
   "execution_count": 60,
   "metadata": {
    "collapsed": true
   },
   "outputs": [],
   "source": [
    "def get_full_query(service):\n",
    "    \"\"\" \"\"\"\n",
    "    \n",
    "    directory = os.path.join('data', service)\n",
    "    if not os.path.isdir(directory):\n",
    "        os.mkdir(directory)\n",
    "    \n",
    "    path = os.path.join(directory, '{}.json.gz'.format(service))\n",
    "    if not os.path.exists(path):\n",
    "        print(path, 'does not exist. Querying API')\n",
    "        results = query_lincs_api(service=service, query='', block_size = 100)\n",
    "        with gzip.open(path, 'wb') as write_file:\n",
    "            json.dump(results, io.TextIOWrapper(write_file), indent=2)\n",
    "    else:\n",
    "        with gzip.open(path) as read_file:\n",
    "            results = json.load(io.TextIOWrapper(read_file))\n",
    "\n",
    "    return results"
   ]
  },
  {
   "cell_type": "code",
   "execution_count": 105,
   "metadata": {
    "collapsed": true
   },
   "outputs": [],
   "source": [
    "def as_dataframe(dictlist, keys):\n",
    "    \"\"\"\n",
    "    Take a list of dictionaries returned by api and format as a DataFrame\n",
    "    \"\"\"\n",
    "    subsetted_dictlist = list()\n",
    "    for d in dictlist:\n",
    "        newdict = dict()\n",
    "        for key in keys:\n",
    "            value = d.get(key)\n",
    "            if isinstance(value, list):\n",
    "                value = '|'.join(value)\n",
    "            if value == -666 or value == '-666':\n",
    "                value = None\n",
    "            newdict[key] = value\n",
    "        subsetted_dictlist.append(newdict)\n",
    "    df = pandas.DataFrame.from_dict(subsetted_dictlist)[keys]\n",
    "    return df"
   ]
  },
  {
   "cell_type": "code",
   "execution_count": 62,
   "metadata": {
    "collapsed": false
   },
   "outputs": [],
   "source": [
    "def key_intersect(dictlist):\n",
    "    return functools.reduce(set.intersection, (set(x.keys()) for x in dictlist))"
   ]
  },
  {
   "cell_type": "code",
   "execution_count": 97,
   "metadata": {
    "collapsed": true
   },
   "outputs": [],
   "source": [
    "def write_gz_tsv(df, path):\n",
    "    write_file = gzip.open(path, 'w')\n",
    "    df.to_csv(io.TextIOWrapper(write_file), sep='\\t', index=False)\n",
    "    write_file.close()"
   ]
  },
  {
   "cell_type": "markdown",
   "metadata": {},
   "source": [
    "# `pertinfo`"
   ]
  },
  {
   "cell_type": "code",
   "execution_count": 64,
   "metadata": {
    "collapsed": false
   },
   "outputs": [
    {
     "name": "stdout",
     "output_type": "stream",
     "text": [
      "data/pertinfo/pertinfo.json.gz does not exist. Querying API\n"
     ]
    }
   ],
   "source": [
    "pertinfo = get_full_query('pertinfo')"
   ]
  },
  {
   "cell_type": "code",
   "execution_count": 102,
   "metadata": {
    "collapsed": false
   },
   "outputs": [
    {
     "data": {
      "text/html": [
       "<div style=\"max-height:1000px;max-width:1500px;overflow:auto;\">\n",
       "<table border=\"1\" class=\"dataframe\">\n",
       "  <thead>\n",
       "    <tr style=\"text-align: right;\">\n",
       "      <th></th>\n",
       "      <th>pert_id</th>\n",
       "      <th>pert_iname</th>\n",
       "      <th>pert_type</th>\n",
       "      <th>num_gold</th>\n",
       "      <th>num_inst</th>\n",
       "      <th>num_sig</th>\n",
       "      <th>in_summly</th>\n",
       "      <th>pert_summary</th>\n",
       "      <th>pubchem_cid</th>\n",
       "      <th>molecular_formula</th>\n",
       "      <th>molecular_wt</th>\n",
       "      <th>pert_vendor</th>\n",
       "      <th>canonical_smiles</th>\n",
       "      <th>inchi_key</th>\n",
       "      <th>inchi_string</th>\n",
       "    </tr>\n",
       "  </thead>\n",
       "  <tbody>\n",
       "    <tr>\n",
       "      <th>0</th>\n",
       "      <td>CSS001-ATTGCAT</td>\n",
       "      <td>ATTGCAT</td>\n",
       "      <td>trt_sh.css</td>\n",
       "      <td>0</td>\n",
       "      <td>0</td>\n",
       "      <td>7</td>\n",
       "      <td>None</td>\n",
       "      <td>None</td>\n",
       "      <td>None</td>\n",
       "      <td>None</td>\n",
       "      <td>NaN</td>\n",
       "      <td>None</td>\n",
       "      <td>None</td>\n",
       "      <td>None</td>\n",
       "      <td>None</td>\n",
       "    </tr>\n",
       "    <tr>\n",
       "      <th>1</th>\n",
       "      <td>CSS001-GAGGATA</td>\n",
       "      <td>GAGGATA</td>\n",
       "      <td>trt_sh.css</td>\n",
       "      <td>0</td>\n",
       "      <td>0</td>\n",
       "      <td>1</td>\n",
       "      <td>None</td>\n",
       "      <td>None</td>\n",
       "      <td>None</td>\n",
       "      <td>None</td>\n",
       "      <td>NaN</td>\n",
       "      <td>None</td>\n",
       "      <td>None</td>\n",
       "      <td>None</td>\n",
       "      <td>None</td>\n",
       "    </tr>\n",
       "    <tr>\n",
       "      <th>2</th>\n",
       "      <td>CSS001-TCAATGA</td>\n",
       "      <td>TCAATGA</td>\n",
       "      <td>trt_sh.css</td>\n",
       "      <td>0</td>\n",
       "      <td>0</td>\n",
       "      <td>7</td>\n",
       "      <td>None</td>\n",
       "      <td>None</td>\n",
       "      <td>None</td>\n",
       "      <td>None</td>\n",
       "      <td>NaN</td>\n",
       "      <td>None</td>\n",
       "      <td>None</td>\n",
       "      <td>None</td>\n",
       "      <td>None</td>\n",
       "    </tr>\n",
       "    <tr>\n",
       "      <th>3</th>\n",
       "      <td>CSS001-TCAGTTC</td>\n",
       "      <td>TCAGTTC</td>\n",
       "      <td>trt_sh.css</td>\n",
       "      <td>0</td>\n",
       "      <td>0</td>\n",
       "      <td>7</td>\n",
       "      <td>None</td>\n",
       "      <td>None</td>\n",
       "      <td>None</td>\n",
       "      <td>None</td>\n",
       "      <td>NaN</td>\n",
       "      <td>None</td>\n",
       "      <td>None</td>\n",
       "      <td>None</td>\n",
       "      <td>None</td>\n",
       "    </tr>\n",
       "    <tr>\n",
       "      <th>4</th>\n",
       "      <td>CSS001-TCCATCA</td>\n",
       "      <td>TCCATCA</td>\n",
       "      <td>trt_sh.css</td>\n",
       "      <td>0</td>\n",
       "      <td>0</td>\n",
       "      <td>1</td>\n",
       "      <td>None</td>\n",
       "      <td>None</td>\n",
       "      <td>None</td>\n",
       "      <td>None</td>\n",
       "      <td>NaN</td>\n",
       "      <td>None</td>\n",
       "      <td>None</td>\n",
       "      <td>None</td>\n",
       "      <td>None</td>\n",
       "    </tr>\n",
       "  </tbody>\n",
       "</table>\n",
       "</div>"
      ],
      "text/plain": [
       "          pert_id pert_iname   pert_type  num_gold  num_inst  num_sig  \\\n",
       "0  CSS001-ATTGCAT    ATTGCAT  trt_sh.css         0         0        7   \n",
       "1  CSS001-GAGGATA    GAGGATA  trt_sh.css         0         0        1   \n",
       "2  CSS001-TCAATGA    TCAATGA  trt_sh.css         0         0        7   \n",
       "3  CSS001-TCAGTTC    TCAGTTC  trt_sh.css         0         0        7   \n",
       "4  CSS001-TCCATCA    TCCATCA  trt_sh.css         0         0        1   \n",
       "\n",
       "  in_summly pert_summary pubchem_cid molecular_formula  molecular_wt  \\\n",
       "0      None         None        None              None           NaN   \n",
       "1      None         None        None              None           NaN   \n",
       "2      None         None        None              None           NaN   \n",
       "3      None         None        None              None           NaN   \n",
       "4      None         None        None              None           NaN   \n",
       "\n",
       "  pert_vendor canonical_smiles inchi_key inchi_string  \n",
       "0        None             None      None         None  \n",
       "1        None             None      None         None  \n",
       "2        None             None      None         None  \n",
       "3        None             None      None         None  \n",
       "4        None             None      None         None  "
      ]
     },
     "execution_count": 102,
     "metadata": {},
     "output_type": "execute_result"
    }
   ],
   "source": [
    "keys = ['pert_id', 'pert_iname', 'pert_type', 'num_gold', 'num_inst',\n",
    "        'num_sig', 'in_summly', 'pert_summary', \n",
    "        'pubchem_cid', 'molecular_formula',\n",
    "        'molecular_wt', 'pert_vendor', \n",
    "        'canonical_smiles', 'inchi_key', 'inchi_string']\n",
    "pertinfo_df = as_dataframe(pertinfo, keys)\n",
    "write_gz_tsv(pertinfo_df, 'data/pertinfo/pertinfo.tsv.gz')\n",
    "pertinfo_df.head()"
   ]
  },
  {
   "cell_type": "code",
   "execution_count": null,
   "metadata": {
    "collapsed": false
   },
   "outputs": [],
   "source": []
  },
  {
   "cell_type": "markdown",
   "metadata": {},
   "source": [
    "# `geneinfo`"
   ]
  },
  {
   "cell_type": "code",
   "execution_count": 56,
   "metadata": {
    "collapsed": false,
    "scrolled": true
   },
   "outputs": [],
   "source": [
    "geneinfo = get_full_query('geneinfo')"
   ]
  },
  {
   "cell_type": "code",
   "execution_count": 111,
   "metadata": {
    "collapsed": false
   },
   "outputs": [
    {
     "data": {
      "text/html": [
       "<div style=\"max-height:1000px;max-width:1500px;overflow:auto;\">\n",
       "<table border=\"1\" class=\"dataframe\">\n",
       "  <thead>\n",
       "    <tr style=\"text-align: right;\">\n",
       "      <th></th>\n",
       "      <th>pr_id</th>\n",
       "      <th>pr_gene_id</th>\n",
       "      <th>pr_gene_symbol</th>\n",
       "      <th>pr_gene_title</th>\n",
       "      <th>is_lm</th>\n",
       "      <th>is_l1000</th>\n",
       "      <th>is_bing</th>\n",
       "      <th>pr_pool_id</th>\n",
       "    </tr>\n",
       "  </thead>\n",
       "  <tbody>\n",
       "    <tr>\n",
       "      <th>36585</th>\n",
       "      <td>215706_x_at</td>\n",
       "      <td>7791</td>\n",
       "      <td>ZYX</td>\n",
       "      <td>zyxin</td>\n",
       "      <td>False</td>\n",
       "      <td>True</td>\n",
       "      <td>True</td>\n",
       "      <td>inferred</td>\n",
       "    </tr>\n",
       "    <tr>\n",
       "      <th>36586</th>\n",
       "      <td>212601_at</td>\n",
       "      <td>23140</td>\n",
       "      <td>ZZEF1</td>\n",
       "      <td>zinc finger, ZZ-type with EF-hand domain 1</td>\n",
       "      <td>False</td>\n",
       "      <td>True</td>\n",
       "      <td>True</td>\n",
       "      <td>inferred</td>\n",
       "    </tr>\n",
       "    <tr>\n",
       "      <th>36587</th>\n",
       "      <td>207189_s_at</td>\n",
       "      <td>23140</td>\n",
       "      <td>ZZEF1</td>\n",
       "      <td>zinc finger, ZZ-type with EF-hand domain 1</td>\n",
       "      <td>False</td>\n",
       "      <td>True</td>\n",
       "      <td>False</td>\n",
       "      <td>inferred</td>\n",
       "    </tr>\n",
       "    <tr>\n",
       "      <th>36588</th>\n",
       "      <td>207190_at</td>\n",
       "      <td>23140</td>\n",
       "      <td>ZZEF1</td>\n",
       "      <td>zinc finger, ZZ-type with EF-hand domain 1</td>\n",
       "      <td>False</td>\n",
       "      <td>True</td>\n",
       "      <td>False</td>\n",
       "      <td>inferred</td>\n",
       "    </tr>\n",
       "    <tr>\n",
       "      <th>36589</th>\n",
       "      <td>212893_at</td>\n",
       "      <td>26009</td>\n",
       "      <td>ZZZ3</td>\n",
       "      <td>zinc finger, ZZ-type containing 3</td>\n",
       "      <td>False</td>\n",
       "      <td>True</td>\n",
       "      <td>True</td>\n",
       "      <td>inferred</td>\n",
       "    </tr>\n",
       "  </tbody>\n",
       "</table>\n",
       "</div>"
      ],
      "text/plain": [
       "             pr_id pr_gene_id pr_gene_symbol  \\\n",
       "36585  215706_x_at       7791            ZYX   \n",
       "36586    212601_at      23140          ZZEF1   \n",
       "36587  207189_s_at      23140          ZZEF1   \n",
       "36588    207190_at      23140          ZZEF1   \n",
       "36589    212893_at      26009           ZZZ3   \n",
       "\n",
       "                                    pr_gene_title  is_lm is_l1000 is_bing  \\\n",
       "36585                                       zyxin  False     True    True   \n",
       "36586  zinc finger, ZZ-type with EF-hand domain 1  False     True    True   \n",
       "36587  zinc finger, ZZ-type with EF-hand domain 1  False     True   False   \n",
       "36588  zinc finger, ZZ-type with EF-hand domain 1  False     True   False   \n",
       "36589           zinc finger, ZZ-type containing 3  False     True    True   \n",
       "\n",
       "      pr_pool_id  \n",
       "36585   inferred  \n",
       "36586   inferred  \n",
       "36587   inferred  \n",
       "36588   inferred  \n",
       "36589   inferred  "
      ]
     },
     "execution_count": 111,
     "metadata": {},
     "output_type": "execute_result"
    }
   ],
   "source": [
    "keys = ['pr_id', 'pr_gene_id', 'pr_gene_symbol', 'pr_gene_title', \n",
    "        'is_lm', 'is_l1000', 'is_bing', 'pr_pool_id']\n",
    "geneinfo_df = as_dataframe(geneinfo, keys)\n",
    "write_gz_tsv(geneinfo_df, 'data/geneinfo/geneinfo.tsv.gz')\n",
    "geneinfo_df.tail()"
   ]
  },
  {
   "cell_type": "code",
   "execution_count": 110,
   "metadata": {
    "collapsed": false
   },
   "outputs": [
    {
     "data": {
      "text/plain": [
       "Counter({'inferred': 21097, None: 14322, 'epsilon|deltap': 786, 'deltap': 193, 'epsilon': 192})"
      ]
     },
     "execution_count": 110,
     "metadata": {},
     "output_type": "execute_result"
    }
   ],
   "source": [
    "import collections\n",
    "collections.Counter(geneinfo_df.pr_pool_id)"
   ]
  },
  {
   "cell_type": "markdown",
   "metadata": {},
   "source": [
    "# siginfo"
   ]
  },
  {
   "cell_type": "code",
   "execution_count": null,
   "metadata": {
    "collapsed": false
   },
   "outputs": [],
   "source": [
    "siginfo = get_full_query('siginfo')"
   ]
  },
  {
   "cell_type": "code",
   "execution_count": 99,
   "metadata": {
    "collapsed": false
   },
   "outputs": [
    {
     "data": {
      "text/html": [
       "<div style=\"max-height:1000px;max-width:1500px;overflow:auto;\">\n",
       "<table border=\"1\" class=\"dataframe\">\n",
       "  <thead>\n",
       "    <tr style=\"text-align: right;\">\n",
       "      <th></th>\n",
       "      <th>sig_id</th>\n",
       "      <th>pert_id</th>\n",
       "      <th>pert_itime</th>\n",
       "      <th>distil_nsample</th>\n",
       "      <th>pert_idose</th>\n",
       "      <th>cell_id</th>\n",
       "      <th>pert_type</th>\n",
       "      <th>is_gold</th>\n",
       "      <th>distil_ss</th>\n",
       "      <th>ngenes_modulated_dn_lm</th>\n",
       "      <th>ngenes_modulated_up_lm</th>\n",
       "    </tr>\n",
       "  </thead>\n",
       "  <tbody>\n",
       "    <tr>\n",
       "      <th>476246</th>\n",
       "      <td>CGS001_VCAP_120H:NRAS:5</td>\n",
       "      <td>CGS001-4893</td>\n",
       "      <td>120 h</td>\n",
       "      <td>5</td>\n",
       "      <td>5 µL</td>\n",
       "      <td>VCAP</td>\n",
       "      <td>trt_sh.cgs</td>\n",
       "      <td>True</td>\n",
       "      <td>1.75965</td>\n",
       "      <td>0</td>\n",
       "      <td>0</td>\n",
       "    </tr>\n",
       "    <tr>\n",
       "      <th>476247</th>\n",
       "      <td>CGS001_VCAP_120H:PFKL:5</td>\n",
       "      <td>CGS001-5211</td>\n",
       "      <td>120 h</td>\n",
       "      <td>6</td>\n",
       "      <td>5 µL</td>\n",
       "      <td>VCAP</td>\n",
       "      <td>trt_sh.cgs</td>\n",
       "      <td>True</td>\n",
       "      <td>2.15781</td>\n",
       "      <td>2</td>\n",
       "      <td>0</td>\n",
       "    </tr>\n",
       "    <tr>\n",
       "      <th>476248</th>\n",
       "      <td>CGS001_VCAP_120H:STK17A:5</td>\n",
       "      <td>CGS001-9263</td>\n",
       "      <td>120 h</td>\n",
       "      <td>7</td>\n",
       "      <td>5 µL</td>\n",
       "      <td>VCAP</td>\n",
       "      <td>trt_sh.cgs</td>\n",
       "      <td>True</td>\n",
       "      <td>1.94439</td>\n",
       "      <td>0</td>\n",
       "      <td>0</td>\n",
       "    </tr>\n",
       "    <tr>\n",
       "      <th>476249</th>\n",
       "      <td>CGS001_VCAP_168H:FLT1:5</td>\n",
       "      <td>CGS001-2321</td>\n",
       "      <td>168 h</td>\n",
       "      <td>7</td>\n",
       "      <td>5 µL</td>\n",
       "      <td>VCAP</td>\n",
       "      <td>trt_sh.cgs</td>\n",
       "      <td>True</td>\n",
       "      <td>2.30420</td>\n",
       "      <td>2</td>\n",
       "      <td>2</td>\n",
       "    </tr>\n",
       "    <tr>\n",
       "      <th>476250</th>\n",
       "      <td>CGS001_VCAP_168H:PIK3CA:5</td>\n",
       "      <td>CGS001-5290</td>\n",
       "      <td>168 h</td>\n",
       "      <td>7</td>\n",
       "      <td>5 µL</td>\n",
       "      <td>VCAP</td>\n",
       "      <td>trt_sh.cgs</td>\n",
       "      <td>True</td>\n",
       "      <td>2.33030</td>\n",
       "      <td>2</td>\n",
       "      <td>1</td>\n",
       "    </tr>\n",
       "  </tbody>\n",
       "</table>\n",
       "</div>"
      ],
      "text/plain": [
       "                           sig_id      pert_id pert_itime  distil_nsample  \\\n",
       "476246    CGS001_VCAP_120H:NRAS:5  CGS001-4893      120 h               5   \n",
       "476247    CGS001_VCAP_120H:PFKL:5  CGS001-5211      120 h               6   \n",
       "476248  CGS001_VCAP_120H:STK17A:5  CGS001-9263      120 h               7   \n",
       "476249    CGS001_VCAP_168H:FLT1:5  CGS001-2321      168 h               7   \n",
       "476250  CGS001_VCAP_168H:PIK3CA:5  CGS001-5290      168 h               7   \n",
       "\n",
       "       pert_idose cell_id   pert_type is_gold  distil_ss  \\\n",
       "476246       5 µL    VCAP  trt_sh.cgs    True    1.75965   \n",
       "476247       5 µL    VCAP  trt_sh.cgs    True    2.15781   \n",
       "476248       5 µL    VCAP  trt_sh.cgs    True    1.94439   \n",
       "476249       5 µL    VCAP  trt_sh.cgs    True    2.30420   \n",
       "476250       5 µL    VCAP  trt_sh.cgs    True    2.33030   \n",
       "\n",
       "        ngenes_modulated_dn_lm  ngenes_modulated_up_lm  \n",
       "476246                       0                       0  \n",
       "476247                       2                       0  \n",
       "476248                       0                       0  \n",
       "476249                       2                       2  \n",
       "476250                       2                       1  "
      ]
     },
     "execution_count": 99,
     "metadata": {},
     "output_type": "execute_result"
    }
   ],
   "source": [
    "keys = ['sig_id', 'pert_id', 'pert_itime', 'distil_nsample', 'pert_idose',\n",
    "        'cell_id', 'pert_type', 'is_gold', 'distil_ss', 'ngenes_modulated_dn_lm', 'ngenes_modulated_up_lm']\n",
    "siginfo_df = as_dataframe(siginfo, keys)\n",
    "write_gz_tsv(siginfo_df, 'data/siginfo/siginfo.tsv.gz')\n",
    "siginfo_df.tail()"
   ]
  },
  {
   "cell_type": "code",
   "execution_count": null,
   "metadata": {
    "collapsed": false
   },
   "outputs": [],
   "source": []
  },
  {
   "cell_type": "code",
   "execution_count": null,
   "metadata": {
    "collapsed": false,
    "scrolled": false
   },
   "outputs": [],
   "source": []
  },
  {
   "cell_type": "code",
   "execution_count": 91,
   "metadata": {
    "collapsed": false
   },
   "outputs": [],
   "source": [
    "landmark_df = geneinfo_df.query('is_lm == True')\n",
    "assert len(landmark_df) == len(set(landmark_df.pr_gene_id))"
   ]
  },
  {
   "cell_type": "code",
   "execution_count": 92,
   "metadata": {
    "collapsed": false
   },
   "outputs": [
    {
     "data": {
      "text/plain": [
       "1171"
      ]
     },
     "execution_count": 92,
     "metadata": {},
     "output_type": "execute_result"
    }
   ],
   "source": [
    "len(landmark_df)"
   ]
  },
  {
   "cell_type": "code",
   "execution_count": null,
   "metadata": {
    "collapsed": true
   },
   "outputs": [],
   "source": []
  }
 ],
 "metadata": {
  "kernelspec": {
   "display_name": "Python 3",
   "language": "python",
   "name": "python3"
  },
  "language_info": {
   "codemirror_mode": {
    "name": "ipython",
    "version": 3
   },
   "file_extension": ".py",
   "mimetype": "text/x-python",
   "name": "python",
   "nbconvert_exporter": "python",
   "pygments_lexer": "ipython3",
   "version": "3.4.0"
  }
 },
 "nbformat": 4,
 "nbformat_minor": 0
}

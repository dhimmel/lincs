{
 "cells": [
  {
   "cell_type": "markdown",
   "metadata": {},
   "source": [
    "# LINCS L1000 significant dysregulation"
   ]
  },
  {
   "cell_type": "code",
   "execution_count": 1,
   "metadata": {
    "collapsed": false
   },
   "outputs": [],
   "source": [
    "import pandas\n",
    "import scipy.stats\n",
    "import numpy\n",
    "from statsmodels.sandbox.stats import multicomp\n",
    "\n",
    "%matplotlib inline"
   ]
  },
  {
   "cell_type": "code",
   "execution_count": 2,
   "metadata": {
    "collapsed": false
   },
   "outputs": [
    {
     "data": {
      "text/html": [
       "<div>\n",
       "<table border=\"1\" class=\"dataframe\">\n",
       "  <thead>\n",
       "    <tr style=\"text-align: right;\">\n",
       "      <th></th>\n",
       "      <th>entrez_gene_id</th>\n",
       "      <th>status</th>\n",
       "      <th>symbol</th>\n",
       "      <th>type_of_gene</th>\n",
       "      <th>description</th>\n",
       "    </tr>\n",
       "  </thead>\n",
       "  <tbody>\n",
       "    <tr>\n",
       "      <th>0</th>\n",
       "      <td>100</td>\n",
       "      <td>imputed</td>\n",
       "      <td>ADA</td>\n",
       "      <td>protein-coding</td>\n",
       "      <td>adenosine deaminase</td>\n",
       "    </tr>\n",
       "    <tr>\n",
       "      <th>1</th>\n",
       "      <td>1000</td>\n",
       "      <td>imputed</td>\n",
       "      <td>CDH2</td>\n",
       "      <td>protein-coding</td>\n",
       "      <td>cadherin 2, type 1, N-cadherin (neuronal)</td>\n",
       "    </tr>\n",
       "  </tbody>\n",
       "</table>\n",
       "</div>"
      ],
      "text/plain": [
       "  entrez_gene_id   status symbol    type_of_gene  \\\n",
       "0            100  imputed    ADA  protein-coding   \n",
       "1           1000  imputed   CDH2  protein-coding   \n",
       "\n",
       "                                 description  \n",
       "0                        adenosine deaminase  \n",
       "1  cadherin 2, type 1, N-cadherin (neuronal)  "
      ]
     },
     "execution_count": 2,
     "metadata": {},
     "output_type": "execute_result"
    }
   ],
   "source": [
    "# Read gene info\n",
    "gene_df = pandas.read_table('data/consensi/genes.tsv', dtype={'entrez_gene_id': str})\n",
    "gene_df.head(2)"
   ]
  },
  {
   "cell_type": "code",
   "execution_count": 3,
   "metadata": {
    "collapsed": true
   },
   "outputs": [],
   "source": [
    "def process_matrix_df(z_matrix_df):\n",
    "    \"\"\"\n",
    "    Take a perturbagen by gene dataframe and extract signficantly dysregulated pairs.\n",
    "    Returns `signif_df` with a row per dysregulated pair and `summary_df` which counts the number\n",
    "    of dysregulated genes per perturbation.\n",
    "    \"\"\"\n",
    "    melt_df = pandas.melt(z_matrix_df.reset_index(), id_vars='perturbagen', var_name = 'entrez_gene_id', value_name = 'z_score')\n",
    "    melt_df = melt_df.merge(gene_df[['entrez_gene_id', 'symbol', 'status']])\n",
    "    signif_df = melt_df.groupby(['perturbagen', 'status']).apply(get_significance).reset_index(drop=True)\n",
    "    signif_df = signif_df.sort_values(['perturbagen', 'symbol'])\n",
    "    summary_df = signif_df.groupby(['perturbagen', 'direction', 'status']).apply(lambda df: pandas.Series({'count': len(df)})).reset_index()\n",
    "    summary_df = summary_df.pivot_table('count', 'perturbagen', ['direction', 'status']).fillna(0).astype(int).reset_index()\n",
    "    summary_df.columns = ['-'.join(col).strip('-') for col in summary_df.columns.values]\n",
    "    return signif_df, summary_df"
   ]
  },
  {
   "cell_type": "code",
   "execution_count": 4,
   "metadata": {
    "collapsed": false,
    "scrolled": true
   },
   "outputs": [],
   "source": [
    "def get_significance(df):\n",
    "    \"\"\"\n",
    "    Get signficant perturbagen-gene pairs using a Bonferroni adjustment.\n",
    "    Different modes for measured and imputed genes.\n",
    "    \"\"\"\n",
    "    p_values = 2 * scipy.stats.norm.cdf(-df.z_score.abs())\n",
    "    if all(df.status == 'measured'):\n",
    "        alpha = 0.05\n",
    "        max_diffex = len(df)\n",
    "    elif all(df.status == 'imputed'):\n",
    "        alpha = 0.05\n",
    "        max_diffex = 1000\n",
    "    else:\n",
    "        raise ValueError('Invalid status')\n",
    "    reject, pvals_corrected, alpha_c_sidak, alpha_c_bonf = multicomp.multipletests(p_values, alpha=alpha, method='bonferroni')\n",
    "    df['direction'] = df.z_score.map(lambda x: 'up' if x > 0 else 'down')\n",
    "    df['nlog10_bonferroni_pval'] = -numpy.log10(pvals_corrected)\n",
    "    df = df[reject]\n",
    "    df = df.sort_values('nlog10_bonferroni_pval', ascending=False).iloc[:max_diffex, :]\n",
    "    return df"
   ]
  },
  {
   "cell_type": "code",
   "execution_count": 5,
   "metadata": {
    "collapsed": false
   },
   "outputs": [
    {
     "name": "stdout",
     "output_type": "stream",
     "text": [
      "drugbank\n",
      "knockdown\n",
      "overexpression\n",
      "pert_id\n"
     ]
    }
   ],
   "source": [
    "# Iterate through all consensi and process them\n",
    "for pert_kind in ['drugbank', 'knockdown', 'overexpression', 'pert_id']:\n",
    "    print(pert_kind)\n",
    "    path = 'data/consensi/consensi-{}.tsv.bz2'.format(pert_kind)\n",
    "    z_matrix_df = pandas.read_table(path, index_col=0)\n",
    "    signif_df, summary_df = process_matrix_df(z_matrix_df)\n",
    "    path = 'data/consensi/signif/dysreg-{}.tsv'.format(pert_kind)\n",
    "    signif_df.to_csv(path, index=False, sep='\\t', float_format='%.3f')\n",
    "    path = 'data/consensi/signif/dysreg-{}-summary.tsv'.format(pert_kind)\n",
    "    summary_df.to_csv(path, index=False, sep='\\t')"
   ]
  },
  {
   "cell_type": "code",
   "execution_count": 6,
   "metadata": {
    "collapsed": false
   },
   "outputs": [
    {
     "data": {
      "text/html": [
       "<div>\n",
       "<table border=\"1\" class=\"dataframe\">\n",
       "  <thead>\n",
       "    <tr style=\"text-align: right;\">\n",
       "      <th></th>\n",
       "      <th>perturbagen</th>\n",
       "      <th>entrez_gene_id</th>\n",
       "      <th>z_score</th>\n",
       "      <th>symbol</th>\n",
       "      <th>status</th>\n",
       "      <th>direction</th>\n",
       "      <th>nlog10_bonferroni_pval</th>\n",
       "    </tr>\n",
       "  </thead>\n",
       "  <tbody>\n",
       "    <tr>\n",
       "      <th>0</th>\n",
       "      <td>56582</td>\n",
       "      <td>3303</td>\n",
       "      <td>5.542</td>\n",
       "      <td>HSPA1A</td>\n",
       "      <td>measured</td>\n",
       "      <td>up</td>\n",
       "      <td>4.533937</td>\n",
       "    </tr>\n",
       "    <tr>\n",
       "      <th>3</th>\n",
       "      <td>5981</td>\n",
       "      <td>10551</td>\n",
       "      <td>5.871</td>\n",
       "      <td>AGR2</td>\n",
       "      <td>imputed</td>\n",
       "      <td>up</td>\n",
       "      <td>4.551160</td>\n",
       "    </tr>\n",
       "    <tr>\n",
       "      <th>2</th>\n",
       "      <td>5981</td>\n",
       "      <td>440</td>\n",
       "      <td>-7.248</td>\n",
       "      <td>ASNS</td>\n",
       "      <td>imputed</td>\n",
       "      <td>down</td>\n",
       "      <td>8.561512</td>\n",
       "    </tr>\n",
       "    <tr>\n",
       "      <th>11</th>\n",
       "      <td>5981</td>\n",
       "      <td>637</td>\n",
       "      <td>6.852</td>\n",
       "      <td>BID</td>\n",
       "      <td>measured</td>\n",
       "      <td>up</td>\n",
       "      <td>8.147383</td>\n",
       "    </tr>\n",
       "    <tr>\n",
       "      <th>7</th>\n",
       "      <td>5981</td>\n",
       "      <td>873</td>\n",
       "      <td>8.856</td>\n",
       "      <td>CBR1</td>\n",
       "      <td>measured</td>\n",
       "      <td>up</td>\n",
       "      <td>15.090913</td>\n",
       "    </tr>\n",
       "  </tbody>\n",
       "</table>\n",
       "</div>"
      ],
      "text/plain": [
       "   perturbagen entrez_gene_id  z_score  symbol    status direction  \\\n",
       "0        56582           3303    5.542  HSPA1A  measured        up   \n",
       "3         5981          10551    5.871    AGR2   imputed        up   \n",
       "2         5981            440   -7.248    ASNS   imputed      down   \n",
       "11        5981            637    6.852     BID  measured        up   \n",
       "7         5981            873    8.856    CBR1  measured        up   \n",
       "\n",
       "    nlog10_bonferroni_pval  \n",
       "0                 4.533937  \n",
       "3                 4.551160  \n",
       "2                 8.561512  \n",
       "11                8.147383  \n",
       "7                15.090913  "
      ]
     },
     "execution_count": 6,
     "metadata": {},
     "output_type": "execute_result"
    }
   ],
   "source": [
    "signif_df.head()"
   ]
  },
  {
   "cell_type": "code",
   "execution_count": 7,
   "metadata": {
    "collapsed": false
   },
   "outputs": [
    {
     "data": {
      "text/html": [
       "<div>\n",
       "<table border=\"1\" class=\"dataframe\">\n",
       "  <thead>\n",
       "    <tr style=\"text-align: right;\">\n",
       "      <th></th>\n",
       "      <th>perturbagen</th>\n",
       "      <th>down-imputed</th>\n",
       "      <th>down-measured</th>\n",
       "      <th>up-imputed</th>\n",
       "      <th>up-measured</th>\n",
       "    </tr>\n",
       "  </thead>\n",
       "  <tbody>\n",
       "    <tr>\n",
       "      <th>0</th>\n",
       "      <td>56582</td>\n",
       "      <td>0</td>\n",
       "      <td>0</td>\n",
       "      <td>0</td>\n",
       "      <td>1</td>\n",
       "    </tr>\n",
       "    <tr>\n",
       "      <th>1</th>\n",
       "      <td>5981</td>\n",
       "      <td>2</td>\n",
       "      <td>5</td>\n",
       "      <td>2</td>\n",
       "      <td>36</td>\n",
       "    </tr>\n",
       "    <tr>\n",
       "      <th>2</th>\n",
       "      <td>7150</td>\n",
       "      <td>2</td>\n",
       "      <td>1</td>\n",
       "      <td>11</td>\n",
       "      <td>5</td>\n",
       "    </tr>\n",
       "    <tr>\n",
       "      <th>3</th>\n",
       "      <td>ABL1_G2A</td>\n",
       "      <td>1</td>\n",
       "      <td>3</td>\n",
       "      <td>1</td>\n",
       "      <td>0</td>\n",
       "    </tr>\n",
       "    <tr>\n",
       "      <th>4</th>\n",
       "      <td>ABL1_T315I</td>\n",
       "      <td>2</td>\n",
       "      <td>4</td>\n",
       "      <td>1</td>\n",
       "      <td>5</td>\n",
       "    </tr>\n",
       "  </tbody>\n",
       "</table>\n",
       "</div>"
      ],
      "text/plain": [
       "  perturbagen  down-imputed  down-measured  up-imputed  up-measured\n",
       "0       56582             0              0           0            1\n",
       "1        5981             2              5           2           36\n",
       "2        7150             2              1          11            5\n",
       "3    ABL1_G2A             1              3           1            0\n",
       "4  ABL1_T315I             2              4           1            5"
      ]
     },
     "execution_count": 7,
     "metadata": {},
     "output_type": "execute_result"
    }
   ],
   "source": [
    "summary_df.head()"
   ]
  },
  {
   "cell_type": "code",
   "execution_count": 8,
   "metadata": {
    "collapsed": true
   },
   "outputs": [],
   "source": [
    "# compress `dysreg-pert_id.tsv` to reduce file size\n",
    "! gzip data/consensi/signif/dysreg-pert_id.tsv"
   ]
  }
 ],
 "metadata": {
  "kernelspec": {
   "display_name": "Python 2",
   "language": "python",
   "name": "python2"
  },
  "language_info": {
   "codemirror_mode": {
    "name": "ipython",
    "version": 2
   },
   "file_extension": ".py",
   "mimetype": "text/x-python",
   "name": "python",
   "nbconvert_exporter": "python",
   "pygments_lexer": "ipython2",
   "version": "2.7.11"
  }
 },
 "nbformat": 4,
 "nbformat_minor": 0
}

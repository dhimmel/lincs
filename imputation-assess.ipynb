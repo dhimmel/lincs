{
 "cells": [
  {
   "cell_type": "markdown",
   "metadata": {},
   "source": [
    "# Assess the quality of L1000 imputation using genetic perturbation consensus signatures"
   ]
  },
  {
   "cell_type": "code",
   "execution_count": 1,
   "metadata": {
    "collapsed": false
   },
   "outputs": [],
   "source": [
    "import pandas\n",
    "import numpy\n",
    "import matplotlib.pyplot\n",
    "import seaborn\n",
    "\n",
    "%matplotlib inline"
   ]
  },
  {
   "cell_type": "markdown",
   "metadata": {},
   "source": [
    "## Read genes"
   ]
  },
  {
   "cell_type": "code",
   "execution_count": 2,
   "metadata": {
    "collapsed": false
   },
   "outputs": [
    {
     "data": {
      "text/html": [
       "<div>\n",
       "<table border=\"1\" class=\"dataframe\">\n",
       "  <thead>\n",
       "    <tr style=\"text-align: right;\">\n",
       "      <th></th>\n",
       "      <th>entrez_gene_id</th>\n",
       "      <th>status</th>\n",
       "      <th>symbol</th>\n",
       "      <th>type_of_gene</th>\n",
       "      <th>description</th>\n",
       "    </tr>\n",
       "  </thead>\n",
       "  <tbody>\n",
       "    <tr>\n",
       "      <th>0</th>\n",
       "      <td>100</td>\n",
       "      <td>imputed</td>\n",
       "      <td>ADA</td>\n",
       "      <td>protein-coding</td>\n",
       "      <td>adenosine deaminase</td>\n",
       "    </tr>\n",
       "    <tr>\n",
       "      <th>1</th>\n",
       "      <td>1000</td>\n",
       "      <td>imputed</td>\n",
       "      <td>CDH2</td>\n",
       "      <td>protein-coding</td>\n",
       "      <td>cadherin 2, type 1, N-cadherin (neuronal)</td>\n",
       "    </tr>\n",
       "  </tbody>\n",
       "</table>\n",
       "</div>"
      ],
      "text/plain": [
       "   entrez_gene_id   status symbol    type_of_gene  \\\n",
       "0             100  imputed    ADA  protein-coding   \n",
       "1            1000  imputed   CDH2  protein-coding   \n",
       "\n",
       "                                 description  \n",
       "0                        adenosine deaminase  \n",
       "1  cadherin 2, type 1, N-cadherin (neuronal)  "
      ]
     },
     "execution_count": 2,
     "metadata": {},
     "output_type": "execute_result"
    }
   ],
   "source": [
    "gene_df = pandas.read_table('data/consensi/genes.tsv')\n",
    "gene_df.head(2)"
   ]
  },
  {
   "cell_type": "markdown",
   "metadata": {},
   "source": [
    "## Read consensus signatures"
   ]
  },
  {
   "cell_type": "code",
   "execution_count": 3,
   "metadata": {
    "collapsed": true
   },
   "outputs": [],
   "source": [
    "def get_tidied(path):\n",
    "    \"\"\"Read a dataframe of consensus signatures. Convert from matrix format to a tidy dataframe.\"\"\"\n",
    "    df = pandas.read_table(path)\n",
    "    df = pandas.melt(df, id_vars='perturbagen', var_name='entrez_gene_id', value_name='z_score')\n",
    "    for col in ['perturbagen', 'entrez_gene_id']:\n",
    "        df[col] = df[col].astype(int)\n",
    "    df = df.merge(gene_df[['entrez_gene_id', 'status']])\n",
    "    df['z_score_ihs'] = numpy.arcsinh(df['z_score'])\n",
    "    return df"
   ]
  },
  {
   "cell_type": "code",
   "execution_count": 4,
   "metadata": {
    "collapsed": false
   },
   "outputs": [],
   "source": [
    "kd_df = get_tidied('data/consensi/consensi-knockdown.tsv.bz2')\n",
    "oe_df = get_tidied('data/consensi/consensi-overexpression.tsv.bz2')\n",
    "\n",
    "kd_df['pert_type'] = 'knockdown'\n",
    "oe_df['pert_type'] = 'overexpression'\n",
    "\n",
    "dysreg_df = pandas.concat([kd_df, oe_df])"
   ]
  },
  {
   "cell_type": "code",
   "execution_count": 5,
   "metadata": {
    "collapsed": false
   },
   "outputs": [
    {
     "data": {
      "text/html": [
       "<div>\n",
       "<table border=\"1\" class=\"dataframe\">\n",
       "  <thead>\n",
       "    <tr style=\"text-align: right;\">\n",
       "      <th></th>\n",
       "      <th>perturbagen</th>\n",
       "      <th>entrez_gene_id</th>\n",
       "      <th>z_score</th>\n",
       "      <th>status</th>\n",
       "      <th>z_score_ihs</th>\n",
       "      <th>pert_type</th>\n",
       "    </tr>\n",
       "  </thead>\n",
       "  <tbody>\n",
       "    <tr>\n",
       "      <th>0</th>\n",
       "      <td>2</td>\n",
       "      <td>100</td>\n",
       "      <td>-0.047</td>\n",
       "      <td>imputed</td>\n",
       "      <td>-0.046983</td>\n",
       "      <td>knockdown</td>\n",
       "    </tr>\n",
       "    <tr>\n",
       "      <th>1</th>\n",
       "      <td>9</td>\n",
       "      <td>100</td>\n",
       "      <td>-1.218</td>\n",
       "      <td>imputed</td>\n",
       "      <td>-1.027446</td>\n",
       "      <td>knockdown</td>\n",
       "    </tr>\n",
       "  </tbody>\n",
       "</table>\n",
       "</div>"
      ],
      "text/plain": [
       "   perturbagen  entrez_gene_id  z_score   status  z_score_ihs  pert_type\n",
       "0            2             100   -0.047  imputed    -0.046983  knockdown\n",
       "1            9             100   -1.218  imputed    -1.027446  knockdown"
      ]
     },
     "execution_count": 5,
     "metadata": {},
     "output_type": "execute_result"
    }
   ],
   "source": [
    "dysreg_df.head(2)"
   ]
  },
  {
   "cell_type": "markdown",
   "metadata": {},
   "source": [
    "## Perturbation-with-self z-scores "
   ]
  },
  {
   "cell_type": "code",
   "execution_count": 6,
   "metadata": {
    "collapsed": false
   },
   "outputs": [],
   "source": [
    "self_df = dysreg_df.query(\"perturbagen == entrez_gene_id\").copy()\n",
    "self_df['direction'] = self_df.z_score.map(lambda x: 'down' if x < 0 else 'up')"
   ]
  },
  {
   "cell_type": "code",
   "execution_count": 7,
   "metadata": {
    "collapsed": true
   },
   "outputs": [],
   "source": [
    "seaborn.set(style='whitegrid')\n",
    "seaborn.set_style({'figure.figsize': (6, 3.7)})"
   ]
  },
  {
   "cell_type": "code",
   "execution_count": 8,
   "metadata": {
    "collapsed": false
   },
   "outputs": [
    {
     "data": {
      "image/png": "[encoded data removed]",
      "text/plain": [
       "<matplotlib.figure.Figure at 0x7f7a275abeb8>"
      ]
     },
     "metadata": {},
     "output_type": "display_data"
    }
   ],
   "source": [
    "ax = seaborn.violinplot(x='z_score_ihs', y='status', data=self_df, inner='quartile', hue='pert_type', split=True)\n",
    "text = ax.set_xlabel(\"IHS-transformed z-score\")\n",
    "text = ax.set_ylabel('')\n",
    "ax.legend_.set_title('')\n",
    "matplotlib.pyplot.savefig('viz/self-targeting-perts.png', bbox_inches='tight', cut=0, dpi=300)"
   ]
  },
  {
   "cell_type": "code",
   "execution_count": 9,
   "metadata": {
    "collapsed": false
   },
   "outputs": [
    {
     "data": {
      "text/html": [
       "<div>\n",
       "<table border=\"1\" class=\"dataframe\">\n",
       "  <thead>\n",
       "    <tr style=\"text-align: right;\">\n",
       "      <th>pert_type</th>\n",
       "      <th>knockdown</th>\n",
       "      <th>overexpression</th>\n",
       "      <th>All</th>\n",
       "    </tr>\n",
       "    <tr>\n",
       "      <th>status</th>\n",
       "      <th></th>\n",
       "      <th></th>\n",
       "      <th></th>\n",
       "    </tr>\n",
       "  </thead>\n",
       "  <tbody>\n",
       "    <tr>\n",
       "      <th>imputed</th>\n",
       "      <td>2068</td>\n",
       "      <td>1108</td>\n",
       "      <td>3176</td>\n",
       "    </tr>\n",
       "    <tr>\n",
       "      <th>measured</th>\n",
       "      <td>960</td>\n",
       "      <td>486</td>\n",
       "      <td>1446</td>\n",
       "    </tr>\n",
       "    <tr>\n",
       "      <th>All</th>\n",
       "      <td>3028</td>\n",
       "      <td>1594</td>\n",
       "      <td>4622</td>\n",
       "    </tr>\n",
       "  </tbody>\n",
       "</table>\n",
       "</div>"
      ],
      "text/plain": [
       "pert_type  knockdown  overexpression   All\n",
       "status                                    \n",
       "imputed         2068            1108  3176\n",
       "measured         960             486  1446\n",
       "All             3028            1594  4622"
      ]
     },
     "execution_count": 9,
     "metadata": {},
     "output_type": "execute_result"
    }
   ],
   "source": [
    "pandas.crosstab(self_df.status, self_df.pert_type, margins=True)"
   ]
  },
  {
   "cell_type": "code",
   "execution_count": 10,
   "metadata": {
    "collapsed": false
   },
   "outputs": [
    {
     "data": {
      "text/html": [
       "<div>\n",
       "<table border=\"1\" class=\"dataframe\">\n",
       "  <thead>\n",
       "    <tr style=\"text-align: right;\">\n",
       "      <th></th>\n",
       "      <th>pert_type</th>\n",
       "      <th>status</th>\n",
       "      <th>percent_up</th>\n",
       "    </tr>\n",
       "  </thead>\n",
       "  <tbody>\n",
       "    <tr>\n",
       "      <th>0</th>\n",
       "      <td>knockdown</td>\n",
       "      <td>imputed</td>\n",
       "      <td>45.647969</td>\n",
       "    </tr>\n",
       "    <tr>\n",
       "      <th>1</th>\n",
       "      <td>knockdown</td>\n",
       "      <td>measured</td>\n",
       "      <td>2.916667</td>\n",
       "    </tr>\n",
       "    <tr>\n",
       "      <th>2</th>\n",
       "      <td>overexpression</td>\n",
       "      <td>imputed</td>\n",
       "      <td>50.722022</td>\n",
       "    </tr>\n",
       "    <tr>\n",
       "      <th>3</th>\n",
       "      <td>overexpression</td>\n",
       "      <td>measured</td>\n",
       "      <td>63.991770</td>\n",
       "    </tr>\n",
       "  </tbody>\n",
       "</table>\n",
       "</div>"
      ],
      "text/plain": [
       "        pert_type    status  percent_up\n",
       "0       knockdown   imputed   45.647969\n",
       "1       knockdown  measured    2.916667\n",
       "2  overexpression   imputed   50.722022\n",
       "3  overexpression  measured   63.991770"
      ]
     },
     "execution_count": 10,
     "metadata": {},
     "output_type": "execute_result"
    }
   ],
   "source": [
    "# Percent of perts that upregulate their target\n",
    "percent_df = 100 * self_df.groupby(['pert_type', 'status']).apply(lambda df: (df.z_score > 0).mean())\n",
    "percent_df.name = 'percent_up'\n",
    "percent_df = percent_df.reset_index()\n",
    "percent_df"
   ]
  },
  {
   "cell_type": "markdown",
   "metadata": {},
   "source": [
    "## Significant genes for knockdowns"
   ]
  },
  {
   "cell_type": "code",
   "execution_count": 11,
   "metadata": {
    "collapsed": false
   },
   "outputs": [
    {
     "data": {
      "text/plain": [
       "measured    175879\n",
       "imputed     152189\n",
       "Name: status, dtype: int64"
      ]
     },
     "execution_count": 11,
     "metadata": {},
     "output_type": "execute_result"
    }
   ],
   "source": [
    "kd_sig_df = pandas.read_table('data/consensi/signif/dysreg-knockdown.tsv')\n",
    "kd_sig_df.status.value_counts()"
   ]
  },
  {
   "cell_type": "code",
   "execution_count": 12,
   "metadata": {
    "collapsed": false
   },
   "outputs": [
    {
     "data": {
      "text/html": [
       "<div>\n",
       "<table border=\"1\" class=\"dataframe\">\n",
       "  <thead>\n",
       "    <tr style=\"text-align: right;\">\n",
       "      <th>direction</th>\n",
       "      <th>down</th>\n",
       "      <th>up</th>\n",
       "      <th>All</th>\n",
       "    </tr>\n",
       "    <tr>\n",
       "      <th>status</th>\n",
       "      <th></th>\n",
       "      <th></th>\n",
       "      <th></th>\n",
       "    </tr>\n",
       "  </thead>\n",
       "  <tbody>\n",
       "    <tr>\n",
       "      <th>imputed</th>\n",
       "      <td>16</td>\n",
       "      <td>8</td>\n",
       "      <td>24</td>\n",
       "    </tr>\n",
       "    <tr>\n",
       "      <th>measured</th>\n",
       "      <td>790</td>\n",
       "      <td>1</td>\n",
       "      <td>791</td>\n",
       "    </tr>\n",
       "    <tr>\n",
       "      <th>All</th>\n",
       "      <td>806</td>\n",
       "      <td>9</td>\n",
       "      <td>815</td>\n",
       "    </tr>\n",
       "  </tbody>\n",
       "</table>\n",
       "</div>"
      ],
      "text/plain": [
       "direction  down  up  All\n",
       "status                  \n",
       "imputed      16   8   24\n",
       "measured    790   1  791\n",
       "All         806   9  815"
      ]
     },
     "execution_count": 12,
     "metadata": {},
     "output_type": "execute_result"
    }
   ],
   "source": [
    "self_df = kd_sig_df.query(\"perturbagen == entrez_gene_id\")\n",
    "pandas.crosstab(self_df.status, self_df.direction, margins=True)"
   ]
  },
  {
   "cell_type": "markdown",
   "metadata": {},
   "source": [
    "## Significant genes for overexpressions"
   ]
  },
  {
   "cell_type": "code",
   "execution_count": 13,
   "metadata": {
    "collapsed": false
   },
   "outputs": [
    {
     "data": {
      "text/plain": [
       "measured    24333\n",
       "imputed     16309\n",
       "Name: status, dtype: int64"
      ]
     },
     "execution_count": 13,
     "metadata": {},
     "output_type": "execute_result"
    }
   ],
   "source": [
    "oe_sig_df = pandas.read_table('data/consensi/signif/dysreg-overexpression.tsv')\n",
    "oe_sig_df.status.value_counts()"
   ]
  },
  {
   "cell_type": "code",
   "execution_count": 14,
   "metadata": {
    "collapsed": false,
    "scrolled": true
   },
   "outputs": [
    {
     "data": {
      "text/html": [
       "<div>\n",
       "<table border=\"1\" class=\"dataframe\">\n",
       "  <thead>\n",
       "    <tr style=\"text-align: right;\">\n",
       "      <th>direction</th>\n",
       "      <th>down</th>\n",
       "      <th>up</th>\n",
       "      <th>All</th>\n",
       "    </tr>\n",
       "    <tr>\n",
       "      <th>status</th>\n",
       "      <th></th>\n",
       "      <th></th>\n",
       "      <th></th>\n",
       "    </tr>\n",
       "  </thead>\n",
       "  <tbody>\n",
       "    <tr>\n",
       "      <th>imputed</th>\n",
       "      <td>1</td>\n",
       "      <td>4</td>\n",
       "      <td>5</td>\n",
       "    </tr>\n",
       "    <tr>\n",
       "      <th>measured</th>\n",
       "      <td>3</td>\n",
       "      <td>120</td>\n",
       "      <td>123</td>\n",
       "    </tr>\n",
       "    <tr>\n",
       "      <th>All</th>\n",
       "      <td>4</td>\n",
       "      <td>124</td>\n",
       "      <td>128</td>\n",
       "    </tr>\n",
       "  </tbody>\n",
       "</table>\n",
       "</div>"
      ],
      "text/plain": [
       "direction  down   up  All\n",
       "status                   \n",
       "imputed       1    4    5\n",
       "measured      3  120  123\n",
       "All           4  124  128"
      ]
     },
     "execution_count": 14,
     "metadata": {},
     "output_type": "execute_result"
    }
   ],
   "source": [
    "self_df = oe_sig_df.query(\"perturbagen == entrez_gene_id\")\n",
    "pandas.crosstab(self_df.status, self_df.direction, margins=True)"
   ]
  }
 ],
 "metadata": {
  "kernelspec": {
   "display_name": "Python 3",
   "language": "python",
   "name": "python3"
  },
  "language_info": {
   "codemirror_mode": {
    "name": "ipython",
    "version": 3
   },
   "file_extension": ".py",
   "mimetype": "text/x-python",
   "name": "python",
   "nbconvert_exporter": "python",
   "pygments_lexer": "ipython3",
   "version": "3.5.1"
  }
 },
 "nbformat": 4,
 "nbformat_minor": 0
}

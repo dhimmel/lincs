{
 "cells": [
  {
   "cell_type": "code",
   "execution_count": null,
   "metadata": {
    "collapsed": false
   },
   "outputs": [],
   "source": [
    "import rdkit\n",
    "import rdkit.Chem\n",
    "import rdkit.Chem.inchi\n",
    "import rdkit.Chem.AllChem\n",
    "import rdkit.DataStructs\n",
    "import pandas\n",
    "import sqlite3"
   ]
  },
  {
   "cell_type": "code",
   "execution_count": null,
   "metadata": {
    "collapsed": false
   },
   "outputs": [],
   "source": []
  },
  {
   "cell_type": "code",
   "execution_count": null,
   "metadata": {
    "collapsed": true
   },
   "outputs": [],
   "source": [
    "# Establish database connection\n",
    "connection = sqlite3.connect('data/l1000.db')\n",
    "cursor = connection.cursor()"
   ]
  },
  {
   "cell_type": "code",
   "execution_count": null,
   "metadata": {
    "collapsed": true
   },
   "outputs": [],
   "source": [
    "query = \"\"\"\n",
    "SELECT * FROM perts\n",
    "WHERE pert_type == 'trt_cp'\n",
    "AND inchi_string NOTNULL;\n",
    "\"\"\"\n",
    "pert_df = pandas.read_sql(query, connection)"
   ]
  },
  {
   "cell_type": "code",
   "execution_count": null,
   "metadata": {
    "collapsed": false
   },
   "outputs": [],
   "source": [
    "pert_df.head()"
   ]
  },
  {
   "cell_type": "code",
   "execution_count": null,
   "metadata": {
    "collapsed": false
   },
   "outputs": [],
   "source": []
  },
  {
   "cell_type": "code",
   "execution_count": null,
   "metadata": {
    "collapsed": false
   },
   "outputs": [],
   "source": [
    "rows = list()\n",
    "\n",
    "for i, series in pert_df.iterrows():\n",
    "    # check InChI Keys\n",
    "    inchi = series.inchi_string\n",
    "    inchi_key = rdkit.Chem.inchi.InchiToInchiKey(inchi)\n",
    "    assert inchi_key == series.inchi_key\n",
    "    \n",
    "    # molecule\n",
    "    mol = rdkit.Chem.MolFromInchi(inchi)\n",
    "    \n",
    "    # fingerprint\n",
    "    fingerprint = rdkit.Chem.AllChem.GetMorganFingerprint(mol, 2)\n",
    "    \n",
    "    rows.append([series.pert_uid, inchi_key, inchi, mol, fingerprint])\n",
    "\n",
    "inchi_df = pandas.DataFrame(rows, columns=['pert_uid', 'inchi_key', 'inchi_string', 'mol', 'fingerprint'])\n",
    "inchi_df.sort('inchi_key', inplace=True)"
   ]
  },
  {
   "cell_type": "code",
   "execution_count": null,
   "metadata": {
    "collapsed": false
   },
   "outputs": [],
   "source": [
    "inchi_df.head()"
   ]
  },
  {
   "cell_type": "code",
   "execution_count": null,
   "metadata": {
    "collapsed": false
   },
   "outputs": [],
   "source": [
    "# # Delete similarities table\n",
    "# cursor.execute('DELETE FROM similarities;')\n",
    "# connection.commit()"
   ]
  },
  {
   "cell_type": "code",
   "execution_count": null,
   "metadata": {
    "collapsed": false
   },
   "outputs": [],
   "source": [
    "pert_uids = list(inchi_df.pert_uid)\n",
    "fingerprints = list(inchi_df.fingerprint)\n",
    "\n",
    "for i, series in inchi_df.iterrows():\n",
    "    print(series.inchi_key, '\\r', end='')\n",
    "    similarities = rdkit.DataStructs.BulkDiceSimilarity(series.fingerprint, fingerprints)\n",
    "    similarities = [round(x, 4) for x in similarities]\n",
    "    rows = ((series.pert_uid, pert_uid, similarity) for pert_uid, similarity in zip(pert_uids, similarities))\n",
    "    cursor.executemany('INSERT INTO similarities VALUES (?,?,?)', rows)\n",
    "    connection.commit()"
   ]
  },
  {
   "cell_type": "code",
   "execution_count": null,
   "metadata": {
    "collapsed": false
   },
   "outputs": [],
   "source": [
    "# close database connection\n",
    "connection.close()"
   ]
  },
  {
   "cell_type": "code",
   "execution_count": null,
   "metadata": {
    "collapsed": true
   },
   "outputs": [],
   "source": []
  },
  {
   "cell_type": "markdown",
   "metadata": {},
   "source": [
    "## Example usage"
   ]
  },
  {
   "cell_type": "code",
   "execution_count": null,
   "metadata": {
    "collapsed": true
   },
   "outputs": [],
   "source": [
    "connection = sqlite3.connect('file:data/l1000.db?mode=ro', uri=True)\n",
    "cursor = connection.cursor()"
   ]
  },
  {
   "cell_type": "code",
   "execution_count": 57,
   "metadata": {
    "collapsed": false
   },
   "outputs": [
    {
     "data": {
      "text/html": [
       "<div style=\"max-height:1000px;max-width:1500px;overflow:auto;\">\n",
       "<table border=\"1\" class=\"dataframe\">\n",
       "  <thead>\n",
       "    <tr style=\"text-align: right;\">\n",
       "      <th></th>\n",
       "      <th>pert_uid</th>\n",
       "      <th>pert_id</th>\n",
       "    </tr>\n",
       "  </thead>\n",
       "  <tbody>\n",
       "    <tr>\n",
       "      <th>0</th>\n",
       "      <td>13</td>\n",
       "      <td>BRD-A05457250</td>\n",
       "    </tr>\n",
       "    <tr>\n",
       "      <th>1</th>\n",
       "      <td>12</td>\n",
       "      <td>BRD-K68741898</td>\n",
       "    </tr>\n",
       "  </tbody>\n",
       "</table>\n",
       "</div>"
      ],
      "text/plain": [
       "   pert_uid        pert_id\n",
       "0        13  BRD-A05457250\n",
       "1        12  BRD-K68741898"
      ]
     },
     "execution_count": 57,
     "metadata": {},
     "output_type": "execute_result"
    }
   ],
   "source": [
    "pert_ids = ['BRD-K68741898', 'BRD-A05457250']\n",
    "\n",
    "query = \"\"\"\n",
    "SELECT pert_uid, pert_id FROM perts\n",
    "WHERE pert_id IN ({})\n",
    "\"\"\".format(','.join('?' * len(pert_ids)))\n",
    "\n",
    "pandas.read_sql(query, connection, params=pert_ids)"
   ]
  },
  {
   "cell_type": "code",
   "execution_count": null,
   "metadata": {
    "collapsed": false
   },
   "outputs": [],
   "source": []
  },
  {
   "cell_type": "code",
   "execution_count": 59,
   "metadata": {
    "collapsed": false
   },
   "outputs": [
    {
     "data": {
      "text/html": [
       "<div style=\"max-height:1000px;max-width:1500px;overflow:auto;\">\n",
       "<table border=\"1\" class=\"dataframe\">\n",
       "  <thead>\n",
       "    <tr style=\"text-align: right;\">\n",
       "      <th></th>\n",
       "      <th>pert_uid</th>\n",
       "      <th>pert_id</th>\n",
       "      <th>pert_uid_0</th>\n",
       "      <th>pert_uid_1</th>\n",
       "      <th>chemical</th>\n",
       "    </tr>\n",
       "  </thead>\n",
       "  <tbody>\n",
       "    <tr>\n",
       "      <th>0</th>\n",
       "      <td>13</td>\n",
       "      <td>BRD-A05457250</td>\n",
       "      <td>13</td>\n",
       "      <td>b'\\x00\\x01\\x00\\x00\\x00\\x00\\x00\\x00'</td>\n",
       "      <td>0.2794</td>\n",
       "    </tr>\n",
       "    <tr>\n",
       "      <th>1</th>\n",
       "      <td>13</td>\n",
       "      <td>BRD-A05457250</td>\n",
       "      <td>13</td>\n",
       "      <td>b'\\x00\\x05\\x00\\x00\\x00\\x00\\x00\\x00'</td>\n",
       "      <td>0.1830</td>\n",
       "    </tr>\n",
       "    <tr>\n",
       "      <th>2</th>\n",
       "      <td>13</td>\n",
       "      <td>BRD-A05457250</td>\n",
       "      <td>13</td>\n",
       "      <td>b'\\x00\\n\\x00\\x00\\x00\\x00\\x00\\x00'</td>\n",
       "      <td>0.2957</td>\n",
       "    </tr>\n",
       "    <tr>\n",
       "      <th>3</th>\n",
       "      <td>13</td>\n",
       "      <td>BRD-A05457250</td>\n",
       "      <td>13</td>\n",
       "      <td>b'\\x00\\x1c\\x00\\x00\\x00\\x00\\x00\\x00'</td>\n",
       "      <td>0.1676</td>\n",
       "    </tr>\n",
       "    <tr>\n",
       "      <th>4</th>\n",
       "      <td>13</td>\n",
       "      <td>BRD-A05457250</td>\n",
       "      <td>13</td>\n",
       "      <td>b'\\x00 \\x00\\x00\\x00\\x00\\x00\\x00'</td>\n",
       "      <td>0.1386</td>\n",
       "    </tr>\n",
       "  </tbody>\n",
       "</table>\n",
       "</div>"
      ],
      "text/plain": [
       "   pert_uid        pert_id  pert_uid_0                           pert_uid_1  \\\n",
       "0        13  BRD-A05457250          13  b'\\x00\\x01\\x00\\x00\\x00\\x00\\x00\\x00'   \n",
       "1        13  BRD-A05457250          13  b'\\x00\\x05\\x00\\x00\\x00\\x00\\x00\\x00'   \n",
       "2        13  BRD-A05457250          13    b'\\x00\\n\\x00\\x00\\x00\\x00\\x00\\x00'   \n",
       "3        13  BRD-A05457250          13  b'\\x00\\x1c\\x00\\x00\\x00\\x00\\x00\\x00'   \n",
       "4        13  BRD-A05457250          13     b'\\x00 \\x00\\x00\\x00\\x00\\x00\\x00'   \n",
       "\n",
       "   chemical  \n",
       "0    0.2794  \n",
       "1    0.1830  \n",
       "2    0.2957  \n",
       "3    0.1676  \n",
       "4    0.1386  "
      ]
     },
     "execution_count": 59,
     "metadata": {},
     "output_type": "execute_result"
    }
   ],
   "source": [
    "pert_ids = ['BRD-K68741898', 'BRD-A05457250']\n",
    "\n",
    "query = \"\"\"\n",
    "SELECT * FROM (\n",
    "    SELECT pert_uid, pert_id FROM perts\n",
    "    WHERE pert_id IN ({})\n",
    ") INNER JOIN similarities ON pert_uid = similarities.pert_uid_0;\n",
    "\"\"\".format(','.join('?' * len(pert_ids)))\n",
    "\n",
    "pandas.read_sql(query, connection, params=pert_ids).head()"
   ]
  },
  {
   "cell_type": "code",
   "execution_count": null,
   "metadata": {
    "collapsed": false
   },
   "outputs": [],
   "source": []
  },
  {
   "cell_type": "code",
   "execution_count": 61,
   "metadata": {
    "collapsed": false
   },
   "outputs": [
    {
     "data": {
      "text/html": [
       "<div style=\"max-height:1000px;max-width:1500px;overflow:auto;\">\n",
       "<table border=\"1\" class=\"dataframe\">\n",
       "  <thead>\n",
       "    <tr style=\"text-align: right;\">\n",
       "      <th></th>\n",
       "      <th>cid</th>\n",
       "      <th>name</th>\n",
       "      <th>type</th>\n",
       "      <th>notnull</th>\n",
       "      <th>dflt_value</th>\n",
       "      <th>pk</th>\n",
       "    </tr>\n",
       "  </thead>\n",
       "  <tbody>\n",
       "    <tr>\n",
       "      <th>0</th>\n",
       "      <td>0</td>\n",
       "      <td>pert_uid_0</td>\n",
       "      <td>INTEGER</td>\n",
       "      <td>1</td>\n",
       "      <td>None</td>\n",
       "      <td>1</td>\n",
       "    </tr>\n",
       "    <tr>\n",
       "      <th>1</th>\n",
       "      <td>1</td>\n",
       "      <td>pert_uid_1</td>\n",
       "      <td>INTEGER</td>\n",
       "      <td>1</td>\n",
       "      <td>None</td>\n",
       "      <td>2</td>\n",
       "    </tr>\n",
       "    <tr>\n",
       "      <th>2</th>\n",
       "      <td>2</td>\n",
       "      <td>chemical</td>\n",
       "      <td>REAL</td>\n",
       "      <td>0</td>\n",
       "      <td>None</td>\n",
       "      <td>0</td>\n",
       "    </tr>\n",
       "  </tbody>\n",
       "</table>\n",
       "</div>"
      ],
      "text/plain": [
       "   cid        name     type  notnull dflt_value  pk\n",
       "0    0  pert_uid_0  INTEGER        1       None   1\n",
       "1    1  pert_uid_1  INTEGER        1       None   2\n",
       "2    2    chemical     REAL        0       None   0"
      ]
     },
     "execution_count": 61,
     "metadata": {},
     "output_type": "execute_result"
    }
   ],
   "source": [
    "pandas.read_sql('pragma table_info(similarities)', connection)"
   ]
  },
  {
   "cell_type": "code",
   "execution_count": 62,
   "metadata": {
    "collapsed": false
   },
   "outputs": [
    {
     "data": {
      "text/html": [
       "<div style=\"max-height:1000px;max-width:1500px;overflow:auto;\">\n",
       "<table border=\"1\" class=\"dataframe\">\n",
       "  <thead>\n",
       "    <tr style=\"text-align: right;\">\n",
       "      <th></th>\n",
       "      <th>pert_uid_0</th>\n",
       "      <th>pert_uid_1</th>\n",
       "      <th>chemical</th>\n",
       "    </tr>\n",
       "  </thead>\n",
       "  <tbody>\n",
       "    <tr>\n",
       "      <th>0</th>\n",
       "      <td>39929</td>\n",
       "      <td>b'\\xf9\\x9b\\x00\\x00\\x00\\x00\\x00\\x00'</td>\n",
       "      <td>1.0000</td>\n",
       "    </tr>\n",
       "    <tr>\n",
       "      <th>1</th>\n",
       "      <td>39929</td>\n",
       "      <td>b'1&amp;\\x00\\x00\\x00\\x00\\x00\\x00'</td>\n",
       "      <td>0.2689</td>\n",
       "    </tr>\n",
       "    <tr>\n",
       "      <th>2</th>\n",
       "      <td>39929</td>\n",
       "      <td>b'\\x93\\x08\\x00\\x00\\x00\\x00\\x00\\x00'</td>\n",
       "      <td>0.1324</td>\n",
       "    </tr>\n",
       "    <tr>\n",
       "      <th>3</th>\n",
       "      <td>39929</td>\n",
       "      <td>b'\\xd6\\xb8\\x00\\x00\\x00\\x00\\x00\\x00'</td>\n",
       "      <td>0.2078</td>\n",
       "    </tr>\n",
       "    <tr>\n",
       "      <th>4</th>\n",
       "      <td>39929</td>\n",
       "      <td>b'A\\xc5\\x00\\x00\\x00\\x00\\x00\\x00'</td>\n",
       "      <td>0.2078</td>\n",
       "    </tr>\n",
       "  </tbody>\n",
       "</table>\n",
       "</div>"
      ],
      "text/plain": [
       "   pert_uid_0                           pert_uid_1  chemical\n",
       "0       39929  b'\\xf9\\x9b\\x00\\x00\\x00\\x00\\x00\\x00'    1.0000\n",
       "1       39929        b'1&\\x00\\x00\\x00\\x00\\x00\\x00'    0.2689\n",
       "2       39929  b'\\x93\\x08\\x00\\x00\\x00\\x00\\x00\\x00'    0.1324\n",
       "3       39929  b'\\xd6\\xb8\\x00\\x00\\x00\\x00\\x00\\x00'    0.2078\n",
       "4       39929     b'A\\xc5\\x00\\x00\\x00\\x00\\x00\\x00'    0.2078"
      ]
     },
     "execution_count": 62,
     "metadata": {},
     "output_type": "execute_result"
    }
   ],
   "source": [
    "query = \"\"\"\n",
    "SELECT * FROM similarities LIMIT 5;\n",
    "\"\"\"\n",
    "pandas.read_sql(query, connection)"
   ]
  },
  {
   "cell_type": "code",
   "execution_count": 65,
   "metadata": {
    "collapsed": false
   },
   "outputs": [
    {
     "ename": "UnicodeDecodeError",
     "evalue": "'ascii' codec can't decode byte 0xf9 in position 0: ordinal not in range(128)",
     "output_type": "error",
     "traceback": [
      "\u001b[1;31m---------------------------------------------------------------------------\u001b[0m",
      "\u001b[1;31mUnicodeDecodeError\u001b[0m                        Traceback (most recent call last)",
      "\u001b[1;32m<ipython-input-65-5fd637cceafd>\u001b[0m in \u001b[0;36m<module>\u001b[1;34m()\u001b[0m\n\u001b[1;32m----> 1\u001b[1;33m \u001b[1;34mb'\\xf9\\x9b\\x00\\x00\\x00\\x00\\x00\\x00'\u001b[0m\u001b[1;33m.\u001b[0m\u001b[0mdecode\u001b[0m\u001b[1;33m(\u001b[0m\u001b[1;34m\"ascii\"\u001b[0m\u001b[1;33m)\u001b[0m\u001b[1;33m\u001b[0m\u001b[0m\n\u001b[0m",
      "\u001b[1;31mUnicodeDecodeError\u001b[0m: 'ascii' codec can't decode byte 0xf9 in position 0: ordinal not in range(128)"
     ]
    }
   ],
   "source": []
  },
  {
   "cell_type": "code",
   "execution_count": null,
   "metadata": {
    "collapsed": true
   },
   "outputs": [],
   "source": []
  }
 ],
 "metadata": {
  "kernelspec": {
   "display_name": "Python 3",
   "language": "python",
   "name": "python3"
  },
  "language_info": {
   "codemirror_mode": {
    "name": "ipython",
    "version": 3
   },
   "file_extension": ".py",
   "mimetype": "text/x-python",
   "name": "python",
   "nbconvert_exporter": "python",
   "pygments_lexer": "ipython3",
   "version": "3.4.3"
  }
 },
 "nbformat": 4,
 "nbformat_minor": 0
}
